{
  "cells": [
    {
      "attachments": {},
      "cell_type": "markdown",
      "metadata": {
        "id": "GYdoJ900u4th"
      },
      "source": [
        "### Установка и импорт необходимых пакетов"
      ]
    },
    {
      "cell_type": "code",
      "execution_count": 1,
      "metadata": {
        "colab": {
          "base_uri": "https://localhost:8080/"
        },
        "id": "yGnNzy0LY4GM",
        "outputId": "9ee1193b-d63b-4066-8cf0-eae69aa88d44"
      },
      "outputs": [
        {
          "name": "stderr",
          "output_type": "stream",
          "text": [
            "[nltk_data] Downloading package stopwords to /root/nltk_data...\n",
            "[nltk_data]   Package stopwords is already up-to-date!\n",
            "[nltk_data] Downloading package omw-1.4 to /root/nltk_data...\n",
            "[nltk_data]   Package omw-1.4 is already up-to-date!\n"
          ]
        },
        {
          "data": {
            "text/plain": [
              "True"
            ]
          },
          "execution_count": 1,
          "metadata": {},
          "output_type": "execute_result"
        }
      ],
      "source": [
        "!pip install pymorphy2[fast] &> /dev/null\n",
        "!pip install pymystem3  &> /dev/null\n",
        "\n",
        "import pandas as pd\n",
        "import re\n",
        "import nltk\n",
        "import pymorphy2\n",
        "from pymystem3 import Mystem\n",
        "from nltk.corpus import stopwords\n",
        "from nltk import FreqDist\n",
        "\n",
        "nltk.download('stopwords')\n",
        "nltk.download('omw-1.4')"
      ]
    },
    {
      "attachments": {},
      "cell_type": "markdown",
      "metadata": {
        "id": "6tjxrGOzvLSJ"
      },
      "source": [
        "### Обработка текста"
      ]
    },
    {
      "cell_type": "code",
      "execution_count": 2,
      "metadata": {
        "id": "ohtEnit1Y79-"
      },
      "outputs": [],
      "source": [
        "df = pd.read_csv('financial_review.csv')"
      ]
    },
    {
      "cell_type": "code",
      "execution_count": 3,
      "metadata": {
        "colab": {
          "base_uri": "https://localhost:8080/"
        },
        "id": "PxXZJ-cvafTS",
        "outputId": "8e373fb2-25d3-40eb-e239-a76952e0ccd5"
      },
      "outputs": [
        {
          "data": {
            "text/plain": [
              "(23810, 10)"
            ]
          },
          "execution_count": 3,
          "metadata": {},
          "output_type": "execute_result"
        }
      ],
      "source": [
        "df.shape"
      ]
    },
    {
      "cell_type": "code",
      "execution_count": 4,
      "metadata": {
        "colab": {
          "base_uri": "https://localhost:8080/"
        },
        "id": "PsqgsUOOY8AF",
        "outputId": "055d5f39-7801-4e99-a98b-4e714fbc1a9a"
      },
      "outputs": [
        {
          "data": {
            "text/plain": [
              "втб                          2603\n",
              "сбербанк                     2481\n",
              "тинькофф банк                1476\n",
              "почта банк                   1264\n",
              "альфа-банк                   1260\n",
              "открытие                      868\n",
              "совкомбанк                    844\n",
              "отп банк                      698\n",
              "московский кредитный банк     673\n",
              "хоум кредит банк              575\n",
              "Name: bank_name, dtype: int64"
            ]
          },
          "execution_count": 4,
          "metadata": {},
          "output_type": "execute_result"
        }
      ],
      "source": [
        "df['bank_name'].value_counts()[:10]"
      ]
    },
    {
      "cell_type": "code",
      "execution_count": 5,
      "metadata": {
        "id": "dceVMIFIZaEI"
      },
      "outputs": [],
      "source": [
        "df = df[df['bank_name'] == 'сбербанк'] # выбрал Сбербанк"
      ]
    },
    {
      "cell_type": "code",
      "execution_count": 6,
      "metadata": {
        "colab": {
          "base_uri": "https://localhost:8080/"
        },
        "id": "eFPrIvrCZaGP",
        "outputId": "e2516c05-9da1-4a23-f698-fd85d637cf98"
      },
      "outputs": [
        {
          "data": {
            "text/plain": [
              "(2481, 10)"
            ]
          },
          "execution_count": 6,
          "metadata": {},
          "output_type": "execute_result"
        }
      ],
      "source": [
        "df.shape"
      ]
    },
    {
      "cell_type": "code",
      "execution_count": 7,
      "metadata": {
        "colab": {
          "base_uri": "https://localhost:8080/",
          "height": 206
        },
        "id": "GTiMwaxQbIjh",
        "outputId": "24257ac9-d171-4ead-de8b-6b7d42f6ac6c"
      },
      "outputs": [
        {
          "data": {
            "text/html": [
              "\n",
              "  <div id=\"df-df26fc7c-954b-40bb-b079-270047752325\">\n",
              "    <div class=\"colab-df-container\">\n",
              "      <div>\n",
              "<style scoped>\n",
              "    .dataframe tbody tr th:only-of-type {\n",
              "        vertical-align: middle;\n",
              "    }\n",
              "\n",
              "    .dataframe tbody tr th {\n",
              "        vertical-align: top;\n",
              "    }\n",
              "\n",
              "    .dataframe thead th {\n",
              "        text-align: right;\n",
              "    }\n",
              "</style>\n",
              "<table border=\"1\" class=\"dataframe\">\n",
              "  <thead>\n",
              "    <tr style=\"text-align: right;\">\n",
              "      <th></th>\n",
              "      <th>bank_href</th>\n",
              "      <th>login</th>\n",
              "      <th>review</th>\n",
              "      <th>bank_name</th>\n",
              "      <th>site</th>\n",
              "      <th>date</th>\n",
              "      <th>message_href</th>\n",
              "      <th>score</th>\n",
              "      <th>status</th>\n",
              "      <th>user_href</th>\n",
              "    </tr>\n",
              "  </thead>\n",
              "  <tbody>\n",
              "    <tr>\n",
              "      <th>232</th>\n",
              "      <td>/sberbank-rossii.html</td>\n",
              "      <td>NaN</td>\n",
              "      <td>3 раза я обращался по вопросу списаний за овер...</td>\n",
              "      <td>сбербанк</td>\n",
              "      <td>http://bankireview.ru</td>\n",
              "      <td>NaN</td>\n",
              "      <td>NaN</td>\n",
              "      <td>NaN</td>\n",
              "      <td>NaN</td>\n",
              "      <td>NaN</td>\n",
              "    </tr>\n",
              "    <tr>\n",
              "      <th>233</th>\n",
              "      <td>/sberbank-rossii.html</td>\n",
              "      <td>NaN</td>\n",
              "      <td>Очень возмущена и удивлена сложившейся ситуаци...</td>\n",
              "      <td>сбербанк</td>\n",
              "      <td>http://bankireview.ru</td>\n",
              "      <td>NaN</td>\n",
              "      <td>NaN</td>\n",
              "      <td>NaN</td>\n",
              "      <td>NaN</td>\n",
              "      <td>NaN</td>\n",
              "    </tr>\n",
              "    <tr>\n",
              "      <th>234</th>\n",
              "      <td>/sberbank-rossii.html</td>\n",
              "      <td>NaN</td>\n",
              "      <td>Я уже не знаю, дождемся ли мы, чтобы сбер пров...</td>\n",
              "      <td>сбербанк</td>\n",
              "      <td>http://bankireview.ru</td>\n",
              "      <td>NaN</td>\n",
              "      <td>NaN</td>\n",
              "      <td>NaN</td>\n",
              "      <td>NaN</td>\n",
              "      <td>NaN</td>\n",
              "    </tr>\n",
              "    <tr>\n",
              "      <th>235</th>\n",
              "      <td>/sberbank-rossii.html</td>\n",
              "      <td>NaN</td>\n",
              "      <td>Здравствуйте, у меня возникла следующая пробле...</td>\n",
              "      <td>сбербанк</td>\n",
              "      <td>http://bankireview.ru</td>\n",
              "      <td>NaN</td>\n",
              "      <td>NaN</td>\n",
              "      <td>NaN</td>\n",
              "      <td>NaN</td>\n",
              "      <td>NaN</td>\n",
              "    </tr>\n",
              "    <tr>\n",
              "      <th>236</th>\n",
              "      <td>/sberbank-rossii.html</td>\n",
              "      <td>NaN</td>\n",
              "      <td>Дорогой друг Сбербанк, как же мне не хочется и...</td>\n",
              "      <td>сбербанк</td>\n",
              "      <td>http://bankireview.ru</td>\n",
              "      <td>NaN</td>\n",
              "      <td>NaN</td>\n",
              "      <td>NaN</td>\n",
              "      <td>NaN</td>\n",
              "      <td>NaN</td>\n",
              "    </tr>\n",
              "  </tbody>\n",
              "</table>\n",
              "</div>\n",
              "      <button class=\"colab-df-convert\" onclick=\"convertToInteractive('df-df26fc7c-954b-40bb-b079-270047752325')\"\n",
              "              title=\"Convert this dataframe to an interactive table.\"\n",
              "              style=\"display:none;\">\n",
              "        \n",
              "  <svg xmlns=\"http://www.w3.org/2000/svg\" height=\"24px\"viewBox=\"0 0 24 24\"\n",
              "       width=\"24px\">\n",
              "    <path d=\"M0 0h24v24H0V0z\" fill=\"none\"/>\n",
              "    <path d=\"M18.56 5.44l.94 2.06.94-2.06 2.06-.94-2.06-.94-.94-2.06-.94 2.06-2.06.94zm-11 1L8.5 8.5l.94-2.06 2.06-.94-2.06-.94L8.5 2.5l-.94 2.06-2.06.94zm10 10l.94 2.06.94-2.06 2.06-.94-2.06-.94-.94-2.06-.94 2.06-2.06.94z\"/><path d=\"M17.41 7.96l-1.37-1.37c-.4-.4-.92-.59-1.43-.59-.52 0-1.04.2-1.43.59L10.3 9.45l-7.72 7.72c-.78.78-.78 2.05 0 2.83L4 21.41c.39.39.9.59 1.41.59.51 0 1.02-.2 1.41-.59l7.78-7.78 2.81-2.81c.8-.78.8-2.07 0-2.86zM5.41 20L4 18.59l7.72-7.72 1.47 1.35L5.41 20z\"/>\n",
              "  </svg>\n",
              "      </button>\n",
              "      \n",
              "  <style>\n",
              "    .colab-df-container {\n",
              "      display:flex;\n",
              "      flex-wrap:wrap;\n",
              "      gap: 12px;\n",
              "    }\n",
              "\n",
              "    .colab-df-convert {\n",
              "      background-color: #E8F0FE;\n",
              "      border: none;\n",
              "      border-radius: 50%;\n",
              "      cursor: pointer;\n",
              "      display: none;\n",
              "      fill: #1967D2;\n",
              "      height: 32px;\n",
              "      padding: 0 0 0 0;\n",
              "      width: 32px;\n",
              "    }\n",
              "\n",
              "    .colab-df-convert:hover {\n",
              "      background-color: #E2EBFA;\n",
              "      box-shadow: 0px 1px 2px rgba(60, 64, 67, 0.3), 0px 1px 3px 1px rgba(60, 64, 67, 0.15);\n",
              "      fill: #174EA6;\n",
              "    }\n",
              "\n",
              "    [theme=dark] .colab-df-convert {\n",
              "      background-color: #3B4455;\n",
              "      fill: #D2E3FC;\n",
              "    }\n",
              "\n",
              "    [theme=dark] .colab-df-convert:hover {\n",
              "      background-color: #434B5C;\n",
              "      box-shadow: 0px 1px 3px 1px rgba(0, 0, 0, 0.15);\n",
              "      filter: drop-shadow(0px 1px 2px rgba(0, 0, 0, 0.3));\n",
              "      fill: #FFFFFF;\n",
              "    }\n",
              "  </style>\n",
              "\n",
              "      <script>\n",
              "        const buttonEl =\n",
              "          document.querySelector('#df-df26fc7c-954b-40bb-b079-270047752325 button.colab-df-convert');\n",
              "        buttonEl.style.display =\n",
              "          google.colab.kernel.accessAllowed ? 'block' : 'none';\n",
              "\n",
              "        async function convertToInteractive(key) {\n",
              "          const element = document.querySelector('#df-df26fc7c-954b-40bb-b079-270047752325');\n",
              "          const dataTable =\n",
              "            await google.colab.kernel.invokeFunction('convertToInteractive',\n",
              "                                                     [key], {});\n",
              "          if (!dataTable) return;\n",
              "\n",
              "          const docLinkHtml = 'Like what you see? Visit the ' +\n",
              "            '<a target=\"_blank\" href=https://colab.research.google.com/notebooks/data_table.ipynb>data table notebook</a>'\n",
              "            + ' to learn more about interactive tables.';\n",
              "          element.innerHTML = '';\n",
              "          dataTable['output_type'] = 'display_data';\n",
              "          await google.colab.output.renderOutput(dataTable, element);\n",
              "          const docLink = document.createElement('div');\n",
              "          docLink.innerHTML = docLinkHtml;\n",
              "          element.appendChild(docLink);\n",
              "        }\n",
              "      </script>\n",
              "    </div>\n",
              "  </div>\n",
              "  "
            ],
            "text/plain": [
              "                 bank_href login  \\\n",
              "232  /sberbank-rossii.html   NaN   \n",
              "233  /sberbank-rossii.html   NaN   \n",
              "234  /sberbank-rossii.html   NaN   \n",
              "235  /sberbank-rossii.html   NaN   \n",
              "236  /sberbank-rossii.html   NaN   \n",
              "\n",
              "                                                review bank_name  \\\n",
              "232  3 раза я обращался по вопросу списаний за овер...  сбербанк   \n",
              "233  Очень возмущена и удивлена сложившейся ситуаци...  сбербанк   \n",
              "234  Я уже не знаю, дождемся ли мы, чтобы сбер пров...  сбербанк   \n",
              "235  Здравствуйте, у меня возникла следующая пробле...  сбербанк   \n",
              "236  Дорогой друг Сбербанк, как же мне не хочется и...  сбербанк   \n",
              "\n",
              "                      site date message_href score status user_href  \n",
              "232  http://bankireview.ru  NaN          NaN   NaN    NaN       NaN  \n",
              "233  http://bankireview.ru  NaN          NaN   NaN    NaN       NaN  \n",
              "234  http://bankireview.ru  NaN          NaN   NaN    NaN       NaN  \n",
              "235  http://bankireview.ru  NaN          NaN   NaN    NaN       NaN  \n",
              "236  http://bankireview.ru  NaN          NaN   NaN    NaN       NaN  "
            ]
          },
          "execution_count": 7,
          "metadata": {},
          "output_type": "execute_result"
        }
      ],
      "source": [
        "df.head()"
      ]
    },
    {
      "attachments": {},
      "cell_type": "markdown",
      "metadata": {
        "id": "RZYGW2u2veA6"
      },
      "source": [
        "#### Лемматизация с помощью pymorphy2"
      ]
    },
    {
      "cell_type": "code",
      "execution_count": 8,
      "metadata": {
        "id": "gurDfoF4c_Eq"
      },
      "outputs": [],
      "source": [
        "lemmatizer = pymorphy2.MorphAnalyzer()\n",
        "stop_words = stopwords.words(\"russian\")"
      ]
    },
    {
      "cell_type": "code",
      "execution_count": 9,
      "metadata": {
        "id": "RND0Rc81ZaXf"
      },
      "outputs": [],
      "source": [
        "all_tokens = [] # здесь будут хранится все токены всех обзоров\n",
        "def clean_text(text):\n",
        "    text = re.sub(r\"[^\\w\\s]\", \"\", text, re.UNICODE)\n",
        "    text = text.lower()\n",
        "    text = [lemmatizer.parse(token)[0].normal_form for token in text.split(\" \") if token.isalpha()]\n",
        "    for token in text: # здесь явно заменяется часто встречаемый токен \"банкхороший\"\n",
        "      if token == 'банкхороший':\n",
        "        text.remove('банкхороший')\n",
        "        text.extend(['банк', 'хороший'])\n",
        "    text = [word for word in text if not word in stop_words]\n",
        "    all_tokens.extend(text)\n",
        "    text = \" \".join(text)\n",
        "    return text"
      ]
    },
    {
      "cell_type": "code",
      "execution_count": 10,
      "metadata": {
        "id": "ZjNhkSixc7pJ"
      },
      "outputs": [],
      "source": [
        "df[\"processed_review\"] = df[\"review\"].apply(lambda x: clean_text(x))"
      ]
    },
    {
      "cell_type": "code",
      "execution_count": 11,
      "metadata": {
        "colab": {
          "base_uri": "https://localhost:8080/",
          "height": 105
        },
        "id": "zG_GfrE2CxRZ",
        "outputId": "5d937692-25e9-4692-f44b-b41ad8b15289"
      },
      "outputs": [
        {
          "data": {
            "application/vnd.google.colaboratory.intrinsic+json": {
              "type": "string"
            },
            "text/plain": [
              "'очень возмутить удивить сложиться ситуация сбербанк вчера перевести деньга карта телефон сообщение пополнение баланс прийти баланс факт измениться отделение сбербанк санктпетербург ул типанов смочь помочь посоветовать позвонить круглосуточный служба поддержка разговор оператор выяснить паспортный дать открыть ещё карта деньга поступить именно хотя весь жизнь весь карта сбербанк это мочь сказать уверенность причём карта открыть год вышеупомянутый перевод первый операция неизвестный ранее карта короче говорить оператор кстати переключить свой доброжелательный тон грубоватый расспрос дальнейший рекомендация смочь помочь итог перевести деньга получить заморачиваться заявление непонятно откуда появиться карта тд время это далеко первый неприятный ситуация закрывать всё карта впредь собираться пользоваться услуга данный весь очень разочаровать'"
            ]
          },
          "execution_count": 11,
          "metadata": {},
          "output_type": "execute_result"
        }
      ],
      "source": [
        "df[['processed_review']].iloc[1][0]"
      ]
    },
    {
      "cell_type": "code",
      "execution_count": 12,
      "metadata": {
        "id": "P9OyMGRdH7ro"
      },
      "outputs": [],
      "source": [
        "fdist = FreqDist(all_tokens) # подсчет количества всех токенов"
      ]
    },
    {
      "cell_type": "code",
      "execution_count": 13,
      "metadata": {
        "colab": {
          "base_uri": "https://localhost:8080/"
        },
        "id": "oshtp3_zH7t4",
        "outputId": "f783f8be-f271-47e4-d62a-143b89729da2"
      },
      "outputs": [
        {
          "data": {
            "text/plain": [
              "[('банк', 4196),\n",
              " ('карта', 3938),\n",
              " ('сбербанк', 3604),\n",
              " ('это', 3506),\n",
              " ('деньга', 2190),\n",
              " ('всё', 2098),\n",
              " ('отделение', 1855),\n",
              " ('который', 1828),\n",
              " ('сотрудник', 1797),\n",
              " ('день', 1506)]"
            ]
          },
          "execution_count": 13,
          "metadata": {},
          "output_type": "execute_result"
        }
      ],
      "source": [
        "fdist.most_common(10) # 10 наиболее частых токенов"
      ]
    },
    {
      "cell_type": "code",
      "execution_count": 14,
      "metadata": {
        "id": "YW9EvcS8H7yh"
      },
      "outputs": [],
      "source": [
        "# деление датасета на 2: с позитивными отзывами и негативными отзывами\n",
        "positive = df.loc[df['score'].isin(('4', '5'))]['processed_review']\n",
        "negative = df.loc[df['score'].isin(('1', '2'))]['processed_review']"
      ]
    },
    {
      "cell_type": "code",
      "execution_count": 15,
      "metadata": {
        "colab": {
          "base_uri": "https://localhost:8080/"
        },
        "id": "4AcLtTVrS-ci",
        "outputId": "eac7cc65-cea0-47a2-b967-c1e293eb7051"
      },
      "outputs": [
        {
          "data": {
            "text/plain": [
              "(323,)"
            ]
          },
          "execution_count": 15,
          "metadata": {},
          "output_type": "execute_result"
        }
      ],
      "source": [
        "positive.shape"
      ]
    },
    {
      "cell_type": "code",
      "execution_count": 16,
      "metadata": {
        "colab": {
          "base_uri": "https://localhost:8080/"
        },
        "id": "UplzjHNlS-en",
        "outputId": "6034ea70-4a91-45e0-c210-5f46c63e2c70"
      },
      "outputs": [
        {
          "data": {
            "text/plain": [
              "(1402,)"
            ]
          },
          "execution_count": 16,
          "metadata": {},
          "output_type": "execute_result"
        }
      ],
      "source": [
        "negative.shape"
      ]
    },
    {
      "cell_type": "code",
      "execution_count": 17,
      "metadata": {
        "id": "TR6SdjNxZLHj"
      },
      "outputs": [],
      "source": [
        "# для нахождения прилагательных в контексте слова \"банк\" используются биграммы\n",
        "bigrams_positive = []\n",
        "bigrams_negative = []\n",
        "\n",
        "bigrams_positive.extend([bigram for review in positive for bigram in list(nltk.bigrams(review.split(' ')))])\n",
        "bigrams_negative.extend([bigram for review in negative for bigram in list(nltk.bigrams(review.split(' ')))])"
      ]
    },
    {
      "cell_type": "code",
      "execution_count": 18,
      "metadata": {
        "id": "fWCGr4sTUHHl"
      },
      "outputs": [],
      "source": [
        "positive_adj = []\n",
        "negative_adj = []"
      ]
    },
    {
      "cell_type": "code",
      "execution_count": 19,
      "metadata": {
        "id": "mhbAy1y5UHJw"
      },
      "outputs": [],
      "source": [
        "# формируем множество прилагательных в контексте слова \"банк\" в позитивных отзывах\n",
        "positive_adj.extend([word for bigram in bigrams_positive for word in bigram\n",
        "                        if lemmatizer.tag(word)[0].POS in ('ADJF', 'ADJS') and\n",
        "                        'банк' in bigram])"
      ]
    },
    {
      "cell_type": "code",
      "execution_count": 20,
      "metadata": {
        "colab": {
          "base_uri": "https://localhost:8080/"
        },
        "id": "Yi4D9wR4UHMD",
        "outputId": "1371810e-accc-4d2b-8e1d-6b4bacc7009c"
      },
      "outputs": [
        {
          "data": {
            "text/plain": [
              "91"
            ]
          },
          "execution_count": 20,
          "metadata": {},
          "output_type": "execute_result"
        }
      ],
      "source": [
        "len(positive_adj)"
      ]
    },
    {
      "cell_type": "code",
      "execution_count": 21,
      "metadata": {
        "colab": {
          "base_uri": "https://localhost:8080/"
        },
        "id": "AJv5j3cIUHOJ",
        "outputId": "98a203ca-53b0-4dbd-9bb2-434fcdc7c464"
      },
      "outputs": [
        {
          "data": {
            "text/plain": [
              "[('ваш', 8),\n",
              " ('мобильный', 8),\n",
              " ('большой', 7),\n",
              " ('хороший', 7),\n",
              " ('весь', 5),\n",
              " ('данный', 5),\n",
              " ('который', 4),\n",
              " ('первый', 3),\n",
              " ('удобный', 3),\n",
              " ('оперативный', 2)]"
            ]
          },
          "execution_count": 21,
          "metadata": {},
          "output_type": "execute_result"
        }
      ],
      "source": [
        "FreqDist(positive_adj).most_common(10) # 10 наиболее частых прилагательных (позитивные)"
      ]
    },
    {
      "cell_type": "code",
      "execution_count": 22,
      "metadata": {
        "id": "f8OSbOwAl6I5"
      },
      "outputs": [],
      "source": [
        "# формируем множество прилагательных в контексте слова \"банк\" в негативных отзывах\n",
        "negative_adj.extend([word for bigram in bigrams_negative for word in bigram\n",
        "                        if lemmatizer.tag(word)[0].POS in ('ADJF', 'ADJS') and\n",
        "                        'банк' in bigram])"
      ]
    },
    {
      "cell_type": "code",
      "execution_count": 23,
      "metadata": {
        "colab": {
          "base_uri": "https://localhost:8080/"
        },
        "id": "Xfj6Bd1Gl6LM",
        "outputId": "3d60b978-73d9-48fb-a61c-4d09f0f8c24a"
      },
      "outputs": [
        {
          "data": {
            "text/plain": [
              "747"
            ]
          },
          "execution_count": 23,
          "metadata": {},
          "output_type": "execute_result"
        }
      ],
      "source": [
        "len(negative_adj)"
      ]
    },
    {
      "cell_type": "code",
      "execution_count": 24,
      "metadata": {
        "colab": {
          "base_uri": "https://localhost:8080/"
        },
        "id": "AaC04JIRl6N5",
        "outputId": "cb58d618-4225-4951-c645-e4ef5ffa1351"
      },
      "outputs": [
        {
          "data": {
            "text/plain": [
              "[('мобильный', 72),\n",
              " ('хороший', 59),\n",
              " ('который', 46),\n",
              " ('ваш', 38),\n",
              " ('данный', 31),\n",
              " ('свой', 26),\n",
              " ('весь', 20),\n",
              " ('должный', 19),\n",
              " ('наш', 9),\n",
              " ('разный', 7)]"
            ]
          },
          "execution_count": 24,
          "metadata": {},
          "output_type": "execute_result"
        }
      ],
      "source": [
        "FreqDist(negative_adj).most_common(10) # 10 наиболее частых прилагательных (негативные)"
      ]
    },
    {
      "attachments": {},
      "cell_type": "markdown",
      "metadata": {
        "id": "RZ74EqWqw6FW"
      },
      "source": [
        "pymorphy2 считает местоимения-прилагательные за прилагательные, поэтому далее я попробовал применить pymystem3, так как в нем присутствует разделения между этими граммемами."
      ]
    },
    {
      "attachments": {},
      "cell_type": "markdown",
      "metadata": {
        "id": "hG_QNwS-w2XR"
      },
      "source": [
        "---"
      ]
    },
    {
      "attachments": {},
      "cell_type": "markdown",
      "metadata": {
        "id": "CVHeaSAspzKI"
      },
      "source": [
        "#### Тот же процесс, но с лемматизатором pymystem3"
      ]
    },
    {
      "cell_type": "code",
      "execution_count": 25,
      "metadata": {
        "id": "Xx9mUnIferjx"
      },
      "outputs": [],
      "source": [
        "lemmatizer = Mystem()"
      ]
    },
    {
      "cell_type": "code",
      "execution_count": 26,
      "metadata": {
        "id": "zFj1C1YQxT2B"
      },
      "outputs": [],
      "source": [
        "df = pd.read_csv('financial_review.csv')\n",
        "df = df[df['bank_name'] == 'сбербанк']"
      ]
    },
    {
      "cell_type": "code",
      "execution_count": 27,
      "metadata": {
        "id": "tUmG7U3termD"
      },
      "outputs": [],
      "source": [
        "all_tokens = []\n",
        "def clean_text(text):\n",
        "    text = re.sub(r\"[^\\w\\s]\", \"\", text, re.UNICODE)\n",
        "    text = text.lower()\n",
        "    text = [lemmatizer.lemmatize(token)[0] for token in text.split(\" \") if token.isalpha()]\n",
        "    for token in text:\n",
        "      if token == 'банкхороший':\n",
        "        text.remove('банкхороший')\n",
        "        text.extend(['банк', 'хороший'])\n",
        "    text = [word for word in text if not word in stop_words]\n",
        "    all_tokens.extend(text)\n",
        "    text = \" \".join(text)\n",
        "    return text"
      ]
    },
    {
      "cell_type": "code",
      "execution_count": 28,
      "metadata": {
        "id": "7eiDmVbnerqh"
      },
      "outputs": [],
      "source": [
        "df[\"processed_review\"] = df[\"review\"].apply(lambda x: clean_text(x))"
      ]
    },
    {
      "cell_type": "code",
      "execution_count": 29,
      "metadata": {
        "colab": {
          "base_uri": "https://localhost:8080/",
          "height": 105
        },
        "id": "kP7eN2HRertd",
        "outputId": "275f5f48-e83d-4af5-ffcd-775039eb3a16"
      },
      "outputs": [
        {
          "data": {
            "application/vnd.google.colaboratory.intrinsic+json": {
              "type": "string"
            },
            "text/plain": [
              "'очень возмущать удивлять складываться ситуация сбербанк вчера переводить деньги карта телефон сообщение пополнение баланс приходить баланс факт изменяться отделение сбербанк санктпетербург ул типановый смочь помогать посоветовать позвонить круглосуточный служба поддержка разговор оператор выяснять паспортный данные открытый карта деньги поступать именно хотя весь жизнь карта сбербанк это мочь сказать уверенность причем карта открытый год вышеупомянутый перевод первый операция неизвестный ранее карта короче говорить оператор кстати переключать свой доброжелательный тон грубоватый расспрос дальнейший рекомендация смочь помогать итог переводить деньги получать заморачиваться заявление непонятно откуда появляться карта тд время это далеко первый неприятный ситуация закрывать карта впредь собираться пользоваться услуга данный очень разочаровывать'"
            ]
          },
          "execution_count": 29,
          "metadata": {},
          "output_type": "execute_result"
        }
      ],
      "source": [
        "df[['processed_review']].iloc[1][0]"
      ]
    },
    {
      "cell_type": "code",
      "execution_count": 30,
      "metadata": {
        "id": "TAaEzUROerwF"
      },
      "outputs": [],
      "source": [
        "fdist = FreqDist(all_tokens)"
      ]
    },
    {
      "cell_type": "code",
      "execution_count": 31,
      "metadata": {
        "colab": {
          "base_uri": "https://localhost:8080/"
        },
        "id": "bo91xYT7eryf",
        "outputId": "4d636755-177b-4dc9-becb-622d048279c0"
      },
      "outputs": [
        {
          "data": {
            "text/plain": [
              "[('карта', 3938),\n",
              " ('сбербанк', 3605),\n",
              " ('это', 3594),\n",
              " ('банк', 2399),\n",
              " ('деньги', 2183),\n",
              " ('отделение', 1855),\n",
              " ('который', 1828),\n",
              " ('банка', 1797),\n",
              " ('сотрудник', 1797),\n",
              " ('день', 1506)]"
            ]
          },
          "execution_count": 31,
          "metadata": {},
          "output_type": "execute_result"
        }
      ],
      "source": [
        "fdist.most_common(10) # 10 наиболее частых токенов"
      ]
    },
    {
      "attachments": {},
      "cell_type": "markdown",
      "metadata": {
        "id": "qJ21uQwcySY6"
      },
      "source": [
        "Стоит отметить, что наборы 10-ти наиболее частых слов различаются при использовании разных лемматизаторов."
      ]
    },
    {
      "cell_type": "code",
      "execution_count": 32,
      "metadata": {
        "id": "B-FxBx4uer0_"
      },
      "outputs": [],
      "source": [
        "positive = df.loc[df['score'].isin(('4', '5'))]['processed_review']\n",
        "negative = df.loc[df['score'].isin(('1', '2'))]['processed_review']"
      ]
    },
    {
      "cell_type": "code",
      "execution_count": 33,
      "metadata": {
        "id": "R3ywIhAHfbSu"
      },
      "outputs": [],
      "source": [
        "bigrams_positive = []\n",
        "bigrams_negative = []\n",
        "\n",
        "bigrams_positive.extend([bigram for review in positive for bigram in list(nltk.bigrams(review.split(' ')))])\n",
        "bigrams_negative.extend([bigram for review in negative for bigram in list(nltk.bigrams(review.split(' ')))])"
      ]
    },
    {
      "cell_type": "code",
      "execution_count": 34,
      "metadata": {
        "id": "gFrmKKeWfbUv"
      },
      "outputs": [],
      "source": [
        "positive_adj = []\n",
        "negative_adj = []"
      ]
    },
    {
      "cell_type": "code",
      "execution_count": 35,
      "metadata": {
        "id": "7WoolE7ofbW8"
      },
      "outputs": [],
      "source": [
        "positive_adj.extend([word for bigram in bigrams_positive for word in bigram\n",
        "                        if lemmatizer.analyze(word)[0]['analysis'] and\n",
        "                        lemmatizer.analyze(word)[0]['analysis'][0]['gr'][0:2] == 'A=' and\n",
        "                        'банк' in bigram])"
      ]
    },
    {
      "cell_type": "code",
      "execution_count": 36,
      "metadata": {
        "colab": {
          "base_uri": "https://localhost:8080/"
        },
        "id": "QeiYij4afbYx",
        "outputId": "d4938054-a9a6-404f-db03-89c74a2bb0c9"
      },
      "outputs": [
        {
          "data": {
            "text/plain": [
              "29"
            ]
          },
          "execution_count": 36,
          "metadata": {},
          "output_type": "execute_result"
        }
      ],
      "source": [
        "len(positive_adj)"
      ]
    },
    {
      "cell_type": "code",
      "execution_count": 37,
      "metadata": {
        "colab": {
          "base_uri": "https://localhost:8080/"
        },
        "id": "tF0Csvhrlg3e",
        "outputId": "d89ae6f6-83f6-43ce-a482-8943eb61d518"
      },
      "outputs": [
        {
          "data": {
            "text/plain": [
              "[('хороший', 6),\n",
              " ('мобильный', 5),\n",
              " ('разный', 2),\n",
              " ('сторонний', 2),\n",
              " ('полный', 1),\n",
              " ('центральный', 1),\n",
              " ('российский', 1),\n",
              " ('новый', 1),\n",
              " ('оперативный', 1),\n",
              " ('плохой', 1)]"
            ]
          },
          "execution_count": 37,
          "metadata": {},
          "output_type": "execute_result"
        }
      ],
      "source": [
        "FreqDist(positive_adj).most_common(10) # 10 наиболее частых прилагательных (позитивные)"
      ]
    },
    {
      "cell_type": "code",
      "execution_count": 38,
      "metadata": {
        "id": "rEUhBpQMfbdH"
      },
      "outputs": [],
      "source": [
        "negative_adj.extend([word for bigram in bigrams_negative for word in bigram\n",
        "                        if lemmatizer.analyze(word)[0]['analysis'] and\n",
        "                        lemmatizer.analyze(word)[0]['analysis'][0]['gr'][0:2] == 'A=' and\n",
        "                        'банк' in bigram])"
      ]
    },
    {
      "cell_type": "code",
      "execution_count": 39,
      "metadata": {
        "colab": {
          "base_uri": "https://localhost:8080/"
        },
        "id": "sVwOSK89jvR-",
        "outputId": "2d8dfe28-40fb-4759-af1f-5fe9d9ac0212"
      },
      "outputs": [
        {
          "data": {
            "text/plain": [
              "339"
            ]
          },
          "execution_count": 39,
          "metadata": {},
          "output_type": "execute_result"
        }
      ],
      "source": [
        "len(negative_adj)"
      ]
    },
    {
      "cell_type": "code",
      "execution_count": 40,
      "metadata": {
        "colab": {
          "base_uri": "https://localhost:8080/"
        },
        "id": "P3OadUUajvUH",
        "outputId": "db7f5614-d6af-4505-ee6b-e4801650a42a"
      },
      "outputs": [
        {
          "data": {
            "text/plain": [
              "[('хороший', 57),\n",
              " ('мобильный', 55),\n",
              " ('должный', 8),\n",
              " ('разный', 7),\n",
              " ('ужасный', 6),\n",
              " ('надежный', 6),\n",
              " ('обязанный', 5),\n",
              " ('полный', 5),\n",
              " ('нормальный', 4),\n",
              " ('незаконный', 4)]"
            ]
          },
          "execution_count": 40,
          "metadata": {},
          "output_type": "execute_result"
        }
      ],
      "source": [
        "FreqDist(negative_adj).most_common(10) # 10 наиболее частых прилагательных (негативные)"
      ]
    },
    {
      "attachments": {},
      "cell_type": "markdown",
      "metadata": {
        "id": "Gdo_SXNj3tmi"
      },
      "source": [
        "Одним из наиболее частых прилагательных как в негативных, так и в позитивных отзывах является слово \"мобильный\", что может говорить о том, что пользователи часто сталкиваются с проблемами при использовании мобильного банка, хотя в то же время он предоставляет некоторые удобные функции. Прилагательное \"хороший\" в негативных отзывах может относиться к описанию \"хороших условий\", которые банк не сумел реализовать для пользователя."
      ]
    }
  ],
  "metadata": {
    "colab": {
      "provenance": []
    },
    "kernelspec": {
      "display_name": "Python 3",
      "name": "python3"
    },
    "language_info": {
      "name": "python"
    }
  },
  "nbformat": 4,
  "nbformat_minor": 0
}
