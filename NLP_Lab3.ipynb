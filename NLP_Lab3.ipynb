{
  "cells": [
    {
      "attachments": {},
      "cell_type": "markdown",
      "metadata": {
        "id": "MjaToBXqOZrz"
      },
      "source": [
        "### Установка и импорт необходимых пакетов"
      ]
    },
    {
      "cell_type": "code",
      "execution_count": null,
      "metadata": {
        "id": "exe83KuGput8"
      },
      "outputs": [],
      "source": [
        "!pip install -q pyLDAvis\n",
        "!pip install -q pymorphy2"
      ]
    },
    {
      "cell_type": "code",
      "execution_count": null,
      "metadata": {
        "colab": {
          "base_uri": "https://localhost:8080/"
        },
        "id": "qafCAazIqTj3",
        "outputId": "93b4982d-4901-4cad-888a-fb6a09dc2cc3"
      },
      "outputs": [
        {
          "name": "stderr",
          "output_type": "stream",
          "text": [
            "[nltk_data] Downloading package stopwords to /root/nltk_data...\n",
            "[nltk_data]   Package stopwords is already up-to-date!\n"
          ]
        }
      ],
      "source": [
        "import re\n",
        "import numpy as np\n",
        "import pandas as pd\n",
        "from pprint import pprint\n",
        "import gensim\n",
        "import gensim.corpora as corpora\n",
        "from gensim.utils import simple_preprocess\n",
        "from gensim.models import CoherenceModel\n",
        "import pymorphy2\n",
        "import pyLDAvis\n",
        "import pyLDAvis.gensim_models\n",
        "import nltk\n",
        "from nltk.corpus import stopwords\n",
        "import matplotlib.pyplot as plt\n",
        "import warnings\n",
        "\n",
        "%matplotlib inline\n",
        "nltk.download('stopwords')\n",
        "stop_words = stopwords.words('russian')\n",
        "warnings.filterwarnings(\"ignore\")"
      ]
    },
    {
      "attachments": {},
      "cell_type": "markdown",
      "metadata": {
        "id": "_UORiCYZgIVG"
      },
      "source": [
        "---"
      ]
    },
    {
      "attachments": {},
      "cell_type": "markdown",
      "metadata": {
        "id": "NhSHXt71gIxd"
      },
      "source": [
        "### Обработка текста"
      ]
    },
    {
      "cell_type": "code",
      "execution_count": null,
      "metadata": {
        "id": "8bMmeIn9qTmN"
      },
      "outputs": [],
      "source": [
        "df = pd.read_csv('financial_review.csv')"
      ]
    },
    {
      "cell_type": "code",
      "execution_count": null,
      "metadata": {
        "colab": {
          "base_uri": "https://localhost:8080/",
          "height": 206
        },
        "id": "ack_t17fqTol",
        "outputId": "8a5eccd4-805e-4df6-b792-4c6bf1d95122"
      },
      "outputs": [
        {
          "data": {
            "text/html": [
              "\n",
              "  <div id=\"df-228ec876-578a-47a4-8908-cd1bbcb67c14\">\n",
              "    <div class=\"colab-df-container\">\n",
              "      <div>\n",
              "<style scoped>\n",
              "    .dataframe tbody tr th:only-of-type {\n",
              "        vertical-align: middle;\n",
              "    }\n",
              "\n",
              "    .dataframe tbody tr th {\n",
              "        vertical-align: top;\n",
              "    }\n",
              "\n",
              "    .dataframe thead th {\n",
              "        text-align: right;\n",
              "    }\n",
              "</style>\n",
              "<table border=\"1\" class=\"dataframe\">\n",
              "  <thead>\n",
              "    <tr style=\"text-align: right;\">\n",
              "      <th></th>\n",
              "      <th>bank_href</th>\n",
              "      <th>login</th>\n",
              "      <th>review</th>\n",
              "      <th>bank_name</th>\n",
              "      <th>site</th>\n",
              "      <th>date</th>\n",
              "      <th>message_href</th>\n",
              "      <th>score</th>\n",
              "      <th>status</th>\n",
              "      <th>user_href</th>\n",
              "    </tr>\n",
              "  </thead>\n",
              "  <tbody>\n",
              "    <tr>\n",
              "      <th>0</th>\n",
              "      <td>/kredit-evropa-bank.html</td>\n",
              "      <td>NaN</td>\n",
              "      <td>Брал кредит в данной организации, после погаше...</td>\n",
              "      <td>кредит европа банк</td>\n",
              "      <td>http://bankireview.ru</td>\n",
              "      <td>NaN</td>\n",
              "      <td>NaN</td>\n",
              "      <td>NaN</td>\n",
              "      <td>NaN</td>\n",
              "      <td>NaN</td>\n",
              "    </tr>\n",
              "    <tr>\n",
              "      <th>1</th>\n",
              "      <td>/kredit-evropa-bank.html</td>\n",
              "      <td>NaN</td>\n",
              "      <td>В 2011 году,мною была оформлена мега карта в Т...</td>\n",
              "      <td>кредит европа банк</td>\n",
              "      <td>http://bankireview.ru</td>\n",
              "      <td>NaN</td>\n",
              "      <td>NaN</td>\n",
              "      <td>NaN</td>\n",
              "      <td>NaN</td>\n",
              "      <td>NaN</td>\n",
              "    </tr>\n",
              "    <tr>\n",
              "      <th>2</th>\n",
              "      <td>/kredit-evropa-bank.html</td>\n",
              "      <td>NaN</td>\n",
              "      <td>С родителями увидели рекламу вклада Осеннее пр...</td>\n",
              "      <td>кредит европа банк</td>\n",
              "      <td>http://bankireview.ru</td>\n",
              "      <td>NaN</td>\n",
              "      <td>NaN</td>\n",
              "      <td>NaN</td>\n",
              "      <td>NaN</td>\n",
              "      <td>NaN</td>\n",
              "    </tr>\n",
              "    <tr>\n",
              "      <th>3</th>\n",
              "      <td>/kredit-evropa-bank.html</td>\n",
              "      <td>NaN</td>\n",
              "      <td>Связать три года своей жизни с этим непорядочн...</td>\n",
              "      <td>кредит европа банк</td>\n",
              "      <td>http://bankireview.ru</td>\n",
              "      <td>NaN</td>\n",
              "      <td>NaN</td>\n",
              "      <td>NaN</td>\n",
              "      <td>NaN</td>\n",
              "      <td>NaN</td>\n",
              "    </tr>\n",
              "    <tr>\n",
              "      <th>4</th>\n",
              "      <td>/kredit-evropa-bank.html</td>\n",
              "      <td>NaN</td>\n",
              "      <td>Пользуюсь месяц карточкой Card Plus, сегодня п...</td>\n",
              "      <td>кредит европа банк</td>\n",
              "      <td>http://bankireview.ru</td>\n",
              "      <td>NaN</td>\n",
              "      <td>NaN</td>\n",
              "      <td>NaN</td>\n",
              "      <td>NaN</td>\n",
              "      <td>NaN</td>\n",
              "    </tr>\n",
              "  </tbody>\n",
              "</table>\n",
              "</div>\n",
              "      <button class=\"colab-df-convert\" onclick=\"convertToInteractive('df-228ec876-578a-47a4-8908-cd1bbcb67c14')\"\n",
              "              title=\"Convert this dataframe to an interactive table.\"\n",
              "              style=\"display:none;\">\n",
              "        \n",
              "  <svg xmlns=\"http://www.w3.org/2000/svg\" height=\"24px\"viewBox=\"0 0 24 24\"\n",
              "       width=\"24px\">\n",
              "    <path d=\"M0 0h24v24H0V0z\" fill=\"none\"/>\n",
              "    <path d=\"M18.56 5.44l.94 2.06.94-2.06 2.06-.94-2.06-.94-.94-2.06-.94 2.06-2.06.94zm-11 1L8.5 8.5l.94-2.06 2.06-.94-2.06-.94L8.5 2.5l-.94 2.06-2.06.94zm10 10l.94 2.06.94-2.06 2.06-.94-2.06-.94-.94-2.06-.94 2.06-2.06.94z\"/><path d=\"M17.41 7.96l-1.37-1.37c-.4-.4-.92-.59-1.43-.59-.52 0-1.04.2-1.43.59L10.3 9.45l-7.72 7.72c-.78.78-.78 2.05 0 2.83L4 21.41c.39.39.9.59 1.41.59.51 0 1.02-.2 1.41-.59l7.78-7.78 2.81-2.81c.8-.78.8-2.07 0-2.86zM5.41 20L4 18.59l7.72-7.72 1.47 1.35L5.41 20z\"/>\n",
              "  </svg>\n",
              "      </button>\n",
              "      \n",
              "  <style>\n",
              "    .colab-df-container {\n",
              "      display:flex;\n",
              "      flex-wrap:wrap;\n",
              "      gap: 12px;\n",
              "    }\n",
              "\n",
              "    .colab-df-convert {\n",
              "      background-color: #E8F0FE;\n",
              "      border: none;\n",
              "      border-radius: 50%;\n",
              "      cursor: pointer;\n",
              "      display: none;\n",
              "      fill: #1967D2;\n",
              "      height: 32px;\n",
              "      padding: 0 0 0 0;\n",
              "      width: 32px;\n",
              "    }\n",
              "\n",
              "    .colab-df-convert:hover {\n",
              "      background-color: #E2EBFA;\n",
              "      box-shadow: 0px 1px 2px rgba(60, 64, 67, 0.3), 0px 1px 3px 1px rgba(60, 64, 67, 0.15);\n",
              "      fill: #174EA6;\n",
              "    }\n",
              "\n",
              "    [theme=dark] .colab-df-convert {\n",
              "      background-color: #3B4455;\n",
              "      fill: #D2E3FC;\n",
              "    }\n",
              "\n",
              "    [theme=dark] .colab-df-convert:hover {\n",
              "      background-color: #434B5C;\n",
              "      box-shadow: 0px 1px 3px 1px rgba(0, 0, 0, 0.15);\n",
              "      filter: drop-shadow(0px 1px 2px rgba(0, 0, 0, 0.3));\n",
              "      fill: #FFFFFF;\n",
              "    }\n",
              "  </style>\n",
              "\n",
              "      <script>\n",
              "        const buttonEl =\n",
              "          document.querySelector('#df-228ec876-578a-47a4-8908-cd1bbcb67c14 button.colab-df-convert');\n",
              "        buttonEl.style.display =\n",
              "          google.colab.kernel.accessAllowed ? 'block' : 'none';\n",
              "\n",
              "        async function convertToInteractive(key) {\n",
              "          const element = document.querySelector('#df-228ec876-578a-47a4-8908-cd1bbcb67c14');\n",
              "          const dataTable =\n",
              "            await google.colab.kernel.invokeFunction('convertToInteractive',\n",
              "                                                     [key], {});\n",
              "          if (!dataTable) return;\n",
              "\n",
              "          const docLinkHtml = 'Like what you see? Visit the ' +\n",
              "            '<a target=\"_blank\" href=https://colab.research.google.com/notebooks/data_table.ipynb>data table notebook</a>'\n",
              "            + ' to learn more about interactive tables.';\n",
              "          element.innerHTML = '';\n",
              "          dataTable['output_type'] = 'display_data';\n",
              "          await google.colab.output.renderOutput(dataTable, element);\n",
              "          const docLink = document.createElement('div');\n",
              "          docLink.innerHTML = docLinkHtml;\n",
              "          element.appendChild(docLink);\n",
              "        }\n",
              "      </script>\n",
              "    </div>\n",
              "  </div>\n",
              "  "
            ],
            "text/plain": [
              "                  bank_href login  \\\n",
              "0  /kredit-evropa-bank.html   NaN   \n",
              "1  /kredit-evropa-bank.html   NaN   \n",
              "2  /kredit-evropa-bank.html   NaN   \n",
              "3  /kredit-evropa-bank.html   NaN   \n",
              "4  /kredit-evropa-bank.html   NaN   \n",
              "\n",
              "                                              review           bank_name  \\\n",
              "0  Брал кредит в данной организации, после погаше...  кредит европа банк   \n",
              "1  В 2011 году,мною была оформлена мега карта в Т...  кредит европа банк   \n",
              "2  С родителями увидели рекламу вклада Осеннее пр...  кредит европа банк   \n",
              "3  Связать три года своей жизни с этим непорядочн...  кредит европа банк   \n",
              "4  Пользуюсь месяц карточкой Card Plus, сегодня п...  кредит европа банк   \n",
              "\n",
              "                    site date message_href score status user_href  \n",
              "0  http://bankireview.ru  NaN          NaN   NaN    NaN       NaN  \n",
              "1  http://bankireview.ru  NaN          NaN   NaN    NaN       NaN  \n",
              "2  http://bankireview.ru  NaN          NaN   NaN    NaN       NaN  \n",
              "3  http://bankireview.ru  NaN          NaN   NaN    NaN       NaN  \n",
              "4  http://bankireview.ru  NaN          NaN   NaN    NaN       NaN  "
            ]
          },
          "execution_count": 4,
          "metadata": {},
          "output_type": "execute_result"
        }
      ],
      "source": [
        "df.head(5)"
      ]
    },
    {
      "cell_type": "code",
      "execution_count": null,
      "metadata": {
        "colab": {
          "base_uri": "https://localhost:8080/"
        },
        "id": "7F1lakPbRjNf",
        "outputId": "9f659a43-aac1-4102-ce67-2f2efc537b96"
      },
      "outputs": [
        {
          "data": {
            "text/plain": [
              "втб              2603\n",
              "сбербанк         2481\n",
              "тинькофф банк    1476\n",
              "почта банк       1264\n",
              "альфа-банк       1260\n",
              "Name: bank_name, dtype: int64"
            ]
          },
          "execution_count": 5,
          "metadata": {},
          "output_type": "execute_result"
        }
      ],
      "source": [
        "df['bank_name'].value_counts()[:5]"
      ]
    },
    {
      "cell_type": "code",
      "execution_count": null,
      "metadata": {
        "id": "zhJSyY_ow3gH"
      },
      "outputs": [],
      "source": [
        "df = df[df['bank_name'] == 'сбербанк'] # выбрал Сбербанк"
      ]
    },
    {
      "cell_type": "code",
      "execution_count": null,
      "metadata": {
        "id": "qrSz3o95xJF3"
      },
      "outputs": [],
      "source": [
        "lemmatizer = pymorphy2.MorphAnalyzer()"
      ]
    },
    {
      "cell_type": "code",
      "execution_count": null,
      "metadata": {
        "id": "3c5Vu8GeqTqt"
      },
      "outputs": [],
      "source": [
        "def clean_text(text):\n",
        "    text = re.sub(r\"[^\\w\\s]\", \"\", text, re.UNICODE)\n",
        "    text = text.lower()\n",
        "    text = [lemmatizer.parse(token)[0].normal_form for token in text.split(\" \") if token.isalpha()]\n",
        "    text = [word for word in text if not word in stop_words and lemmatizer.tag(word)[0].POS not in ('NUMR', 'NPRO', 'PRED', 'PREP', 'CONJ', 'PRCL', 'INTJ')]\n",
        "    return text"
      ]
    },
    {
      "cell_type": "code",
      "execution_count": null,
      "metadata": {
        "id": "yHXCwVvwxEb7"
      },
      "outputs": [],
      "source": [
        "df[\"processed_review\"] = df[\"review\"].apply(lambda x: clean_text(x))"
      ]
    },
    {
      "cell_type": "code",
      "execution_count": null,
      "metadata": {
        "id": "0ev9S6W08DTZ"
      },
      "outputs": [],
      "source": [
        "data = df[\"processed_review\"].values.tolist()"
      ]
    },
    {
      "cell_type": "code",
      "execution_count": null,
      "metadata": {
        "id": "KVr03c9arlXl"
      },
      "outputs": [],
      "source": [
        "bigram = gensim.models.Phrases(data, min_count=2, threshold=100)\n",
        "bigram_mod = gensim.models.phrases.Phraser(bigram) # построение модели биграмм"
      ]
    },
    {
      "cell_type": "code",
      "execution_count": null,
      "metadata": {
        "id": "6XI1v5UV-hPx"
      },
      "outputs": [],
      "source": [
        "data_words_bigrams = [bigram_mod[doc] for doc in data]"
      ]
    },
    {
      "cell_type": "code",
      "execution_count": null,
      "metadata": {
        "id": "23zqwhigrWqC"
      },
      "outputs": [],
      "source": [
        "id2word = corpora.Dictionary(data_words_bigrams) # словарь\n",
        "\n",
        "texts = data_words_bigrams\n",
        "corpus = [id2word.doc2bow(text) for text in texts] # корпус"
      ]
    },
    {
      "attachments": {},
      "cell_type": "markdown",
      "metadata": {
        "id": "_OuMEZg9gQcH"
      },
      "source": [
        "---"
      ]
    },
    {
      "attachments": {},
      "cell_type": "markdown",
      "metadata": {
        "id": "eLX2Zer0gQ01"
      },
      "source": [
        "### Обучение LDA модели"
      ]
    },
    {
      "attachments": {},
      "cell_type": "markdown",
      "metadata": {
        "id": "k4-HITyksW1x"
      },
      "source": [
        "Посмотрим, как изменяются значения метрик perplexity и coherence при изменении количества тем"
      ]
    },
    {
      "cell_type": "code",
      "execution_count": null,
      "metadata": {
        "id": "jLxjEbfmas8W"
      },
      "outputs": [],
      "source": [
        "perplexity = []\n",
        "coherence = []\n",
        "for n_topics in range(1, 31):\n",
        "    lda_model = gensim.models.ldamodel.LdaModel(corpus=corpus,\n",
        "                                           id2word=id2word,\n",
        "                                           num_topics=n_topics, \n",
        "                                           random_state=100,\n",
        "                                           update_every=1,\n",
        "                                           chunksize=100,\n",
        "                                           passes=10,\n",
        "                                           alpha='auto',\n",
        "                                           per_word_topics=True)\n",
        "    perplexity.append(lda_model.log_perplexity(corpus))\n",
        "    coherence_model_lda = CoherenceModel(model=lda_model, texts=data_words_bigrams, dictionary=id2word, coherence='c_v')\n",
        "    coherence_lda = coherence_model_lda.get_coherence()\n",
        "    coherence.append(coherence_lda)"
      ]
    },
    {
      "cell_type": "code",
      "execution_count": null,
      "metadata": {
        "colab": {
          "base_uri": "https://localhost:8080/",
          "height": 555
        },
        "id": "MMMDQvPDbfQt",
        "outputId": "0df0fd26-bfe5-4089-d113-91de7932fc64"
      },
      "outputs": [
        {
          "data": {
            "image/png": "[encoded data removed]",
            "text/plain": [
              "<Figure size 864x576 with 2 Axes>"
            ]
          },
          "metadata": {
            "needs_background": "light"
          },
          "output_type": "display_data"
        }
      ],
      "source": [
        "fig, axs = plt.subplots(2, figsize=(12, 8))\n",
        "fig.suptitle('Perplexity & Coherence with different n_topics')\n",
        "axs[0].plot(np.arange(1, 31), perplexity)\n",
        "axs[1].plot(np.arange(1, 31), coherence, 'tab:red')\n",
        "axs[0].set(xlabel='n_topics', ylabel='perplexity')\n",
        "axs[1].set(xlabel='n_topics', ylabel='coherence')\n",
        "plt.show()"
      ]
    },
    {
      "cell_type": "code",
      "execution_count": null,
      "metadata": {
        "colab": {
          "base_uri": "https://localhost:8080/"
        },
        "id": "g0hjRysEhtQO",
        "outputId": "745a02d6-b37f-4237-b646-59461adcf7e8"
      },
      "outputs": [
        {
          "name": "stdout",
          "output_type": "stream",
          "text": [
            "Наименьшее значение perplexity наблюдается при 29 темах\n"
          ]
        }
      ],
      "source": [
        "print(f'Наименьшее значение perplexity наблюдается при {perplexity.index(min(perplexity))} темах')"
      ]
    },
    {
      "cell_type": "code",
      "execution_count": null,
      "metadata": {
        "colab": {
          "base_uri": "https://localhost:8080/"
        },
        "id": "8DfEztnAhfk-",
        "outputId": "8389c498-fc52-486f-fcf7-ed06eea5d32f"
      },
      "outputs": [
        {
          "name": "stdout",
          "output_type": "stream",
          "text": [
            "Наибольшее значение coherence наблюдается при 26 темах\n"
          ]
        }
      ],
      "source": [
        "print(f'Наибольшее значение coherence наблюдается при {coherence.index(max(coherence))} темах')"
      ]
    },
    {
      "attachments": {},
      "cell_type": "markdown",
      "metadata": {
        "id": "-O2gzXYifejU"
      },
      "source": [
        "В целом, значение метрики perplexity снижается более плавно при увеличении количества тем, но coherence выходит на плато раньше. Выберем n_topics = 8."
      ]
    },
    {
      "cell_type": "code",
      "execution_count": null,
      "metadata": {
        "id": "N9Qhq90eedyV"
      },
      "outputs": [],
      "source": [
        "lda_model = gensim.models.ldamodel.LdaModel(corpus=corpus,\n",
        "                                           id2word=id2word,\n",
        "                                           num_topics=8, \n",
        "                                           random_state=100,\n",
        "                                           update_every=1,\n",
        "                                           chunksize=100,\n",
        "                                           passes=10,\n",
        "                                           alpha='auto',\n",
        "                                           per_word_topics=True)"
      ]
    },
    {
      "cell_type": "code",
      "execution_count": null,
      "metadata": {
        "colab": {
          "base_uri": "https://localhost:8080/"
        },
        "id": "0mh9cnXfrbnW",
        "outputId": "5c02509e-ec3f-47a8-8a83-24eb5b590fcb"
      },
      "outputs": [
        {
          "name": "stdout",
          "output_type": "stream",
          "text": [
            "[(0,\n",
            "  '0.028*\"менеджер\" + 0.022*\"ипотека\" + 0.020*\"документ\" + 0.018*\"страховка\" + '\n",
            "  '0.015*\"договор\" + 0.015*\"ипотечный\" + 0.011*\"наш\" + 0.009*\"квартира\" + '\n",
            "  '0.009*\"сделка\" + 0.009*\"оформление\"'),\n",
            " (1,\n",
            "  '0.036*\"сбербанк\" + 0.033*\"банк\" + 0.021*\"день\" + 0.015*\"который\" + '\n",
            "  '0.013*\"заявление\" + 0.012*\"сотрудник\" + 0.011*\"ответ\" + 0.010*\"обратиться\" '\n",
            "  '+ 0.010*\"деньга\" + 0.009*\"свой\"'),\n",
            " (2,\n",
            "  '0.030*\"клиент\" + 0.013*\"очень\" + 0.010*\"сотрудник\" + 0.010*\"свой\" + '\n",
            "  '0.010*\"человек\" + 0.010*\"вопрос\" + 0.010*\"сбер\" + 0.009*\"руководитель\" + '\n",
            "  '0.008*\"обслуживание\" + 0.008*\"отношение\"'),\n",
            " (3,\n",
            "  '0.012*\"июль\" + 0.010*\"исправить\" + 0.009*\"трубка\" + 0.008*\"график\" + '\n",
            "  '0.007*\"центральный\" + 0.007*\"иметься\" + 0.005*\"окончание\" + 0.004*\"копия\" + '\n",
            "  '0.004*\"пристав\" + 0.004*\"телефонный\"'),\n",
            " (4,\n",
            "  '0.093*\"карта\" + 0.043*\"счёт\" + 0.030*\"деньга\" + 0.024*\"банк\" + '\n",
            "  '0.017*\"перевод\" + 0.013*\"операция\" + 0.012*\"мобильный\" + 0.012*\"услуга\" + '\n",
            "  '0.011*\"заблокировать\" + 0.010*\"снять\"'),\n",
            " (5,\n",
            "  '0.027*\"отделение\" + 0.026*\"карта\" + 0.020*\"банк\" + 0.016*\"сказать\" + '\n",
            "  '0.014*\"сбербанк\" + 0.013*\"мочь\" + 0.012*\"сотрудник\" + 0.011*\"свой\" + '\n",
            "  '0.011*\"ещё\" + 0.011*\"прийти\"'),\n",
            " (6,\n",
            "  '0.085*\"деньга\" + 0.050*\"банкомат\" + 0.015*\"чек\" + 0.013*\"положить\" + '\n",
            "  '0.012*\"купюра\" + 0.011*\"снять\" + 0.010*\"рубль\" + 0.009*\"наличный\" + '\n",
            "  '0.009*\"внести\" + 0.009*\"номер\"'),\n",
            " (7,\n",
            "  '0.079*\"кредит\" + 0.038*\"кредитный\" + 0.025*\"год\" + 0.021*\"сумма\" + '\n",
            "  '0.018*\"банк\" + 0.016*\"процент\" + 0.011*\"взять\" + 0.011*\"рубль\" + '\n",
            "  '0.010*\"заявка\" + 0.008*\"история\"')]\n"
          ]
        }
      ],
      "source": [
        "pprint(lda_model.print_topics())"
      ]
    },
    {
      "attachments": {},
      "cell_type": "markdown",
      "metadata": {
        "id": "3XUEppxi_Avn"
      },
      "source": [
        "Возможные интерпретации кластеров, судя по наиболее частым темам отзывов:\n",
        "\n",
        "1. Ипотека\n",
        "2. Обращение в отделение Сбербанка\n",
        "3. Оценка качества обслуживания\n",
        "4. Звонок в отделение банка с претензией\n",
        "5. Дебетовая карта\n",
        "6. Посещение отделения банка\n",
        "7. Пользование банкоматом\n",
        "8. Кредит"
      ]
    },
    {
      "cell_type": "code",
      "execution_count": null,
      "metadata": {
        "colab": {
          "base_uri": "https://localhost:8080/"
        },
        "id": "SPVDIX88rbrm",
        "outputId": "d61863ec-8d7b-4194-e2bb-3597381d465a"
      },
      "outputs": [
        {
          "name": "stdout",
          "output_type": "stream",
          "text": [
            "\n",
            "Perplexity:  -7.904294074190421\n",
            "\n",
            "Coherence:  0.44889652037242334\n"
          ]
        }
      ],
      "source": [
        "# perplexity\n",
        "print('\\nPerplexity: ', lda_model.log_perplexity(corpus))\n",
        "\n",
        "# coherence\n",
        "coherence_model_lda = CoherenceModel(model=lda_model, texts=data_words_bigrams, dictionary=id2word, coherence='c_v')\n",
        "coherence_lda = coherence_model_lda.get_coherence()\n",
        "print('\\nCoherence: ', coherence_lda)"
      ]
    },
    {
      "cell_type": "code",
      "execution_count": null,
      "metadata": {
        "colab": {
          "base_uri": "https://localhost:8080/",
          "height": 862
        },
        "id": "LpHW8BZSrbuI",
        "outputId": "463e62a1-2424-46ca-9149-be0a018630fb"
      },
      "outputs": [
        {
          "data": {
            "text/html": [
              "\n",
              "<link rel=\"stylesheet\" type=\"text/css\" href=\"https://cdn.jsdelivr.net/gh/bmabey/pyLDAvis@3.4.0/pyLDAvis/js/ldavis.v1.0.0.css\">\n",
              "\n",
              "\n",
              "<div id=\"ldavis_el828291404032662393927212920113\" style=\"background-color:white;\"></div>\n",
              "<script type=\"text/javascript\">\n",
              "\n",
              "var ldavis_el828291404032662393927212920113_data = {\"mdsDat\": {\"x\": [0.05972919601433735, -0.2644369337086524, 0.029526067690797648, 0.22462567245047602, -0.010079670438691879, -0.259299379539867, 0.13993698889620013, 0.07999805863540108], \"y\": [-0.22969488387515746, 0.04052339334338967, -0.16652674866849035, -0.018363678311046336, 0.21025427686637307, -0.03512899798197073, 0.17639667200282727, 0.02253996662407439], \"topics\": [1, 2, 3, 4, 5, 6, 7, 8], \"cluster\": [1, 1, 1, 1, 1, 1, 1, 1], \"Freq\": [8.38523028336429, 31.957211825535126, 6.677005455461655, 2.9561397824440236, 9.780725970441384, 26.703979394213356, 5.844037578742871, 7.69566970979729]}, \"tinfo\": {\"Term\": [\"\\u043a\\u0430\\u0440\\u0442\\u0430\", \"\\u0434\\u0435\\u043d\\u044c\\u0433\\u0430\", \"\\u043a\\u0440\\u0435\\u0434\\u0438\\u0442\", \"\\u0441\\u0447\\u0451\\u0442\", \"\\u0431\\u0430\\u043d\\u043a\\u043e\\u043c\\u0430\\u0442\", \"\\u043a\\u0440\\u0435\\u0434\\u0438\\u0442\\u043d\\u044b\\u0439\", \"\\u043a\\u043b\\u0438\\u0435\\u043d\\u0442\", \"\\u043e\\u0442\\u0434\\u0435\\u043b\\u0435\\u043d\\u0438\\u0435\", \"\\u0433\\u043e\\u0434\", \"\\u0431\\u0430\\u043d\\u043a\", \"\\u043c\\u0435\\u043d\\u0435\\u0434\\u0436\\u0435\\u0440\", \"\\u0434\\u043e\\u043a\\u0443\\u043c\\u0435\\u043d\\u0442\", \"\\u0434\\u0435\\u043d\\u044c\", \"\\u0441\\u0443\\u043c\\u043c\\u0430\", \"\\u0437\\u0430\\u044f\\u0432\\u043b\\u0435\\u043d\\u0438\\u0435\", \"\\u0438\\u043f\\u043e\\u0442\\u0435\\u043a\\u0430\", \"\\u0441\\u043a\\u0430\\u0437\\u0430\\u0442\\u044c\", \"\\u043f\\u0435\\u0440\\u0435\\u0432\\u043e\\u0434\", \"\\u0441\\u0442\\u0440\\u0430\\u0445\\u043e\\u0432\\u043a\\u0430\", \"\\u0441\\u043e\\u0442\\u0440\\u0443\\u0434\\u043d\\u0438\\u043a\", \"\\u043e\\u0442\\u0432\\u0435\\u0442\", \"\\u0440\\u0430\\u0431\\u043e\\u0442\\u0430\\u0442\\u044c\", \"\\u0434\\u043e\\u0433\\u043e\\u0432\\u043e\\u0440\", \"\\u043e\\u0447\\u0435\\u043d\\u044c\", \"\\u043e\\u043f\\u0435\\u0440\\u0430\\u0446\\u0438\\u044f\", \"\\u043f\\u0440\\u043e\\u0446\\u0435\\u043d\\u0442\", \"\\u0441\\u043d\\u044f\\u0442\\u044c\", \"\\u0432\\u0437\\u044f\\u0442\\u044c\", \"\\u0438\\u043f\\u043e\\u0442\\u0435\\u0447\\u043d\\u044b\\u0439\", \"\\u0437\\u0430\\u044f\\u0432\\u043a\\u0430\", \"\\u043c\\u0435\\u043d\\u0435\\u0434\\u0436\\u0435\\u0440\", \"\\u0438\\u043f\\u043e\\u0442\\u0435\\u043a\\u0430\", \"\\u0441\\u0442\\u0440\\u0430\\u0445\\u043e\\u0432\\u043a\\u0430\", \"\\u0438\\u043f\\u043e\\u0442\\u0435\\u0447\\u043d\\u044b\\u0439\", \"\\u043a\\u0432\\u0430\\u0440\\u0442\\u0438\\u0440\\u0430\", \"\\u0441\\u0434\\u0435\\u043b\\u043a\\u0430\", \"\\u0441\\u0442\\u0440\\u0430\\u0445\\u043e\\u0432\\u0430\\u043d\\u0438\\u0435\", \"\\u043e\\u0434\\u043e\\u0431\\u0440\\u0435\\u043d\\u0438\\u0435\", \"\\u043f\\u043e\\u0442\\u0440\\u0435\\u0431\\u0438\\u0442\\u0435\\u043b\\u044c\\u0441\\u043a\\u0438\\u0439\", \"\\u0441\\u0440\\u043e\\u0447\\u043d\\u043e\", \"\\u0440\", \"\\u0435\\u0436\\u0435\\u043c\\u0435\\u0441\\u044f\\u0447\\u043d\\u044b\\u0439_\\u043f\\u043b\\u0430\\u0442\\u0451\\u0436\", \"\\u043f\\u043e\\u0434\\u043f\\u0438\\u0441\\u0430\\u0442\\u044c\", \"\\u0433\\u0440\\u0430\\u043c\\u043e\\u0442\\u043d\\u044b\\u0439\", \"\\u043f\\u043e\\u0434\\u043f\\u0438\\u0441\\u0430\\u043d\\u0438\\u0435\", \"\\u0441\\u0442\\u0440\\u0430\\u0445\\u043e\\u0432\\u043e\\u0439\", \"\\u0446\\u0435\\u043d\\u0442\\u0440\", \"\\u0430\\u043a\\u0446\\u0438\\u044f\", \"\\u044e\\u0440\\u0438\\u0441\\u0442\", \"\\u0434\\u043e\\u043c\\u043a\\u043b\\u0438\\u043a\", \"\\u0441\\u0442\\u0440\\u0430\\u0445\\u043e\\u0432\\u0430\\u043d\\u0438\\u0435_\\u0436\\u0438\\u0437\\u043d\\u044c\", \"\\u043a\\u043e\\u043f\\u0435\\u0439\\u043a\\u0430\", \"\\u0432\\u044b\\u0440\\u0430\\u0437\\u0438\\u0442\\u044c_\\u0431\\u043b\\u0430\\u0433\\u043e\\u0434\\u0430\\u0440\\u043d\\u043e\\u0441\\u0442\\u044c\", \"\\u0441\\u0434\\u0430\\u0442\\u044c\", \"\\u043a\\u043d\\u0438\\u0436\\u043a\\u0430\", \"\\u0441\\u0447\\u0430\\u0441\\u0442\\u0438\\u0435\", \"\\u043e\\u0431\\u044a\\u0435\\u043a\\u0442\", \"\\u0441\\u0435\\u0440\\u0442\\u0438\\u0444\\u0438\\u043a\\u0430\\u0442\", \"\\u043f\\u0440\\u043e\\u0434\\u0430\\u0436\\u0430\", \"\\u043f\\u043e\\u043f\\u0440\\u043e\\u0431\\u043e\\u0432\\u0430\\u0442\\u044c\", \"\\u0431\\u043b\\u0430\\u0433\\u043e\\u0434\\u0430\\u0440\\u043d\\u043e\\u0441\\u0442\\u044c\", \"\\u0441\\u0442\\u0430\\u0432\\u043a\\u0430\", \"\\u043f\\u0440\\u043e\\u0433\\u0440\\u0430\\u043c\\u043c\\u0430\", \"\\u043e\\u0444\\u043e\\u0440\\u043c\\u043b\\u0435\\u043d\\u0438\\u0435\", \"\\u0434\\u043e\\u0433\\u043e\\u0432\\u043e\\u0440\", \"\\u0434\\u043e\\u043a\\u0443\\u043c\\u0435\\u043d\\u0442\", \"\\u043d\\u0430\\u0448\", \"\\u043e\\u0434\\u043e\\u0431\\u0440\\u0438\\u0442\\u044c\", \"\\u0437\\u0430\\u044f\\u0432\\u043a\\u0430\", \"\\u043e\\u0444\\u043e\\u0440\\u043c\\u043b\\u044f\\u0442\\u044c\", \"\\u043e\\u0447\\u0435\\u043d\\u044c\", \"\\u043e\\u0444\\u043e\\u0440\\u043c\\u0438\\u0442\\u044c\", \"\\u0431\\u043e\\u043b\\u044c\\u0448\\u043e\\u0439\", \"\\u0432\\u0435\\u0441\\u044c\", \"\\u0441\\u043f\\u0435\\u0446\\u0438\\u0430\\u043b\\u0438\\u0441\\u0442\", \"\\u0441\\u043e\\u0442\\u0440\\u0443\\u0434\\u043d\\u0438\\u043a\", \"\\u0445\\u043e\\u0440\\u043e\\u0448\\u0438\\u0439\", \"\\u0440\\u0430\\u0431\\u043e\\u0442\\u0430\", \"\\u0441\\u0431\\u0435\\u0440\\u0431\\u0430\\u043d\\u043a\", \"\\u0440\\u0443\\u043a\\u043e\\u0432\\u043e\\u0434\\u0438\\u0442\\u0435\\u043b\\u044c\", \"\\u0445\\u043e\\u0442\\u0435\\u0442\\u044c\", \"\\u043a\\u043b\\u0438\\u0435\\u043d\\u0442\", \"\\u043e\\u0431\\u0440\\u0430\\u0449\\u0435\\u043d\\u0438\\u0435\", \"\\u0442\\u0435\\u0447\\u0435\\u043d\\u0438\\u0435\", \"\\u0437\\u0430\\u044f\\u0432\\u043b\\u0435\\u043d\\u0438\\u0435\", \"\\u0432\\u043e\\u0437\\u0432\\u0440\\u0430\\u0442\", \"\\u0440\\u0435\\u0437\\u0443\\u043b\\u044c\\u0442\\u0430\\u0442\", \"\\u043f\\u0440\\u0435\\u0434\\u043e\\u0441\\u0442\\u0430\\u0432\\u0438\\u0442\\u044c\", \"\\u0443\\u043a\\u0430\\u0437\\u0430\\u0442\\u044c\", \"\\u0441\\u0430\\u0439\\u0442\", \"\\u0441\\u0443\\u0434\", \"\\u043e\\u0440\\u0433\\u0430\\u043d\\u0438\\u0437\\u0430\\u0446\\u0438\\u044f\", \"\\u0437\\u0430\\u043f\\u0440\\u043e\\u0441\", \"\\u0440\\u0430\\u0441\\u0441\\u043c\\u043e\\u0442\\u0440\\u0435\\u043d\\u0438\\u0435\", \"\\u0441\\u043e\\u043e\\u0431\\u0449\\u0438\\u0442\\u044c\", \"\\u0434\\u0435\\u043a\\u0430\\u0431\\u0440\\u044c\", \"\\u0443\\u043a\\u0430\\u0437\\u0430\\u043d\\u043d\\u044b\\u0439\", \"\\u0434\\u0430\\u0442\\u0430\", \"\\u043b\\u0438\\u0447\\u043d\\u044b\\u0439_\\u043a\\u0430\\u0431\\u0438\\u043d\\u0435\\u0442\", \"\\u0437\\u0430\\u0439\\u0442\\u0438\", \"\\u043f\\u0430\\u043e\", \"\\u0441\\u0435\\u0439_\\u043f\\u043e\\u0440\\u0430\", \"\\u0442\\u0440\\u0435\\u0431\\u043e\\u0432\\u0430\\u043d\\u0438\\u0435\", \"\\u043e\\u0431\\u0435\\u0449\\u0430\\u0442\\u044c\", \"\\u043f\\u0440\\u0430\\u0432\\u043e\", \"\\u0437\\u0430\\u043d\\u0438\\u043c\\u0430\\u0442\\u044c\\u0441\\u044f\", \"\\u0432\\u044b\\u043f\\u0438\\u0441\\u043a\\u0430\", \"\\u0442\\u0435\\u0445\\u043d\\u0438\\u0447\\u0435\\u0441\\u043a\\u0438\\u0439\", \"\\u043e\\u0431\\u044f\\u0437\\u0430\\u0442\\u044c\", \"\\u043f\\u0440\\u043e\\u0432\\u0435\\u0440\\u043a\\u0430\", \"\\u0437\\u0432\\u043e\\u043d\\u043e\\u043a\", \"\\u043f\\u043e\\u0434\\u0442\\u0432\\u0435\\u0440\\u0434\\u0438\\u0442\\u044c\", \"\\u043e\\u0442\\u0432\\u0435\\u0442\", \"\\u043e\\u0448\\u0438\\u0431\\u043a\\u0430\", \"\\u043f\\u0440\\u043e\\u0438\\u0437\\u043e\\u0439\\u0442\\u0438\", \"\\u0438\\u043d\\u0444\\u043e\\u0440\\u043c\\u0430\\u0446\\u0438\\u044f\", \"\\u0441\\u0440\\u043e\\u043a\", \"\\u043d\\u0430\\u043f\\u0438\\u0441\\u0430\\u0442\\u044c\", \"\\u0441\\u0438\\u0442\\u0443\\u0430\\u0446\\u0438\\u044f\", \"\\u0441\\u043e\\u043e\\u0431\\u0449\\u0435\\u043d\\u0438\\u0435\", \"\\u0440\\u0430\\u0437\\u043e\\u0431\\u0440\\u0430\\u0442\\u044c\\u0441\\u044f\", \"\\u043e\\u0431\\u0440\\u0430\\u0442\\u0438\\u0442\\u044c\\u0441\\u044f\", \"\\u0434\\u0435\\u043d\\u044c\", \"\\u043f\\u0440\\u0435\\u0442\\u0435\\u043d\\u0437\\u0438\\u044f\", \"\\u043d\\u0438\\u043a\\u0430\\u043a\\u043e\\u0439\", \"\\u0432\\u0435\\u0440\\u043d\\u0443\\u0442\\u044c\", \"\\u0441\\u0431\\u0435\\u0440\\u0431\\u0430\\u043d\\u043a\", \"\\u043f\\u043e\\u0441\\u0442\\u0443\\u043f\\u0438\\u0442\\u044c\", \"\\u043f\\u0440\\u0438\\u043d\\u044f\\u0442\\u044c\", \"\\u043e\\u043f\\u0435\\u0440\\u0430\\u0442\\u043e\\u0440\", \"\\u0434\\u0430\\u0442\\u044c\", \"\\u043a\\u043e\\u0442\\u043e\\u0440\\u044b\\u0439\", \"\\u0431\\u0430\\u043d\\u043a\", \"\\u0434\\u0435\\u043d\\u0435\\u0436\\u043d\\u044b\\u0439_\\u0441\\u0440\\u0435\\u0434\\u0441\\u0442\\u0432\\u043e\", \"\\u043f\\u043b\\u0430\\u0442\\u0451\\u0436\", \"\\u043f\\u043e\\u043b\\u0443\\u0447\\u0438\\u0442\\u044c\", \"\\u0434\\u0430\\u043d\\u043d\\u044b\\u0439\", \"\\u043c\\u0435\\u0441\\u044f\\u0446\", \"\\u0441\\u043e\\u0442\\u0440\\u0443\\u0434\\u043d\\u0438\\u043a\", \"\\u0434\\u043e\\u043b\\u0436\\u043d\\u044b\\u0439\", \"\\u0441\\u0443\\u043c\\u043c\\u0430\", \"\\u0441\\u0432\\u043e\\u0439\", \"\\u0432\\u0430\\u0448\", \"\\u0432\\u043e\\u043f\\u0440\\u043e\\u0441\", \"\\u043c\\u043e\\u0447\\u044c\", \"\\u0434\\u0435\\u043d\\u044c\\u0433\\u0430\", \"\\u0433\\u043e\\u0434\", \"\\u0441\\u0447\\u0451\\u0442\", \"\\u043e\\u0442\\u0434\\u0435\\u043b\\u0435\\u043d\\u0438\\u0435\", \"\\u043f\\u043e\\u043c\\u0435\\u043d\\u044f\\u0442\\u044c\", \"\\u0436\\u0435\\u043d\\u0430\", \"\\u0440\\u0430\\u0437\\u0433\\u043e\\u0432\\u0430\\u0440\\u0438\\u0432\\u0430\\u0442\\u044c\", \"\\u043f\\u0435\\u0440\\u0441\\u043e\\u043d\\u0430\\u043b\", \"\\u0447\\u0430\\u0441\\u0442\\u043e\", \"\\u043e\\u0431\\u0449\\u0435\\u043d\\u0438\\u0435\", \"\\u0432\\u044b\\u0441\\u043e\\u043a\\u0438\\u0439\", \"\\u043f\\u0440\\u0438\\u043d\\u044f\\u0442\\u044c_\\u043c\\u0435\\u0440\\u0430\", \"\\u0443\\u043c\\u0435\\u0442\\u044c\", \"\\u043f\\u0435\\u0440\\u0441\\u043e\\u043d\\u0430\\u043b\\u044c\\u043d\\u044b\\u0439\", \"\\u0441\\u043e\\u0433\\u043b\\u0430\\u0441\\u0438\\u0435\", \"\\u043c\\u0430\\u043b\\u044b\\u0439\", \"\\u043d\\u0430\\u0431\\u043b\\u044e\\u0434\\u0430\\u0442\\u044c\", \"\\u043f\\u0430\\u0441\\u043f\\u043e\\u0440\\u0442\\u043d\\u044b\\u0439\", \"\\u0434\\u0435\\u0440\\u0436\\u0430\\u0442\\u044c\", \"\\u043f\\u043e\\u043a\\u0430\\u0437\\u044b\\u0432\\u0430\\u0442\\u044c\", \"\\u043d\\u0430\\u0447\\u0430\\u043b\\u044c\\u043d\\u0438\\u043a\", \"\\u0445\\u0430\\u043c\\u0441\\u043a\\u0438\\u0439_\\u043e\\u0442\\u043d\\u043e\\u0448\\u0435\\u043d\\u0438\\u0435\", \"\\u043c\\u0435\\u043b\\u043a\\u0438\\u0439\", \"\\u043d\\u0435\\u043f\\u0440\\u0430\\u0432\\u0438\\u043b\\u044c\\u043d\\u043e\", \"\\u043e\\u043f\\u0435\\u0440\\u0430\\u0442\\u0438\\u0432\\u043d\\u043e\", \"\\u0432\\u043d\\u044f\\u0442\\u043d\\u044b\\u0439\", \"\\u0431\\u044b\\u0432\\u0448\\u0438\\u0439\", \"\\u043f\\u043e\\u0434\\u0440\\u043e\\u0431\\u043d\\u043e\", \"\\u0434\\u043e\\u0432\\u043e\\u043b\\u044c\\u043d\\u043e\", \"\\u043e\\u0449\\u0443\\u0449\\u0435\\u043d\\u0438\\u0435\", \"\\u0441\\u043b\\u043e\\u0436\\u043d\\u044b\\u0439\", \"\\u0437\\u0430\\u043c\\u0435\\u0447\\u0430\\u043d\\u0438\\u0435\", \"\\u0441\\u0434\\u0430\\u0447\\u0430\", \"\\u0432\\u0430\\u0436\\u043d\\u043e\", \"\\u0441\\u0442\\u043e\\u043b\", \"\\u0440\\u0430\\u043d\\u043d\\u0438\\u0439\", \"\\u0443\\u043b\\u0438\\u0446\\u0430\", \"\\u0441\\u0431\\u0435\\u0440\", \"\\u043e\\u0431\\u044a\\u044f\\u0441\\u043d\\u044f\\u0442\\u044c\", \"\\u0440\\u0443\\u043a\\u043e\\u0432\\u043e\\u0434\\u0438\\u0442\\u0435\\u043b\\u044c\", \"\\u0447\\u0438\\u0442\\u0430\\u0442\\u044c\", \"\\u043a\\u043b\\u0438\\u0435\\u043d\\u0442\", \"\\u043d\\u0435\\u043a\\u043e\\u0442\\u043e\\u0440\\u044b\\u0439\", \"\\u0440\\u0443\\u043a\\u043e\\u0432\\u043e\\u0434\\u0441\\u0442\\u0432\\u043e\", \"\\u043e\\u0447\\u0435\\u043d\\u044c\", \"\\u0436\\u0438\\u0437\\u043d\\u044c\", \"\\u0447\\u0435\\u043b\\u043e\\u0432\\u0435\\u043a\", \"\\u043e\\u0442\\u043d\\u043e\\u0448\\u0435\\u043d\\u0438\\u0435\", \"\\u0443\\u0434\\u043e\\u0431\\u043d\\u043e\", \"\\u043e\\u0431\\u0441\\u043b\\u0443\\u0436\\u0438\\u0432\\u0430\\u043d\\u0438\\u0435\", \"\\u0432\\u043e\\u043f\\u0440\\u043e\\u0441\", \"\\u043f\\u043e\\u043c\\u043e\\u0449\\u044c\", \"\\u0432\\u0435\\u0436\\u043b\\u0438\\u0432\\u044b\\u0439\", \"\\u0440\\u0430\\u0431\\u043e\\u0442\\u0430\\u0442\\u044c\", \"\\u0440\\u0430\\u0431\\u043e\\u0442\\u0430\", \"\\u0441\\u0432\\u043e\\u0439\", \"\\u0441\\u043e\\u0442\\u0440\\u0443\\u0434\\u043d\\u0438\\u043a\", \"\\u0445\\u043e\\u0442\\u0435\\u0442\\u044c\\u0441\\u044f\", \"\\u0432\\u0430\\u0448\", \"\\u0440\\u0430\\u0431\\u043e\\u0442\\u043d\\u0438\\u043a\", \"\\u0441\\u0431\\u0435\\u0440\\u0431\\u0430\\u043d\\u043a\", \"\\u0444\\u0438\\u043b\\u0438\\u0430\\u043b\", \"\\u043a\\u043e\\u0442\\u043e\\u0440\\u044b\\u0439\", \"\\u0438\\u044e\\u043b\\u044c\", \"\\u0438\\u0441\\u043f\\u0440\\u0430\\u0432\\u0438\\u0442\\u044c\", \"\\u0442\\u0440\\u0443\\u0431\\u043a\\u0430\", \"\\u0433\\u0440\\u0430\\u0444\\u0438\\u043a\", \"\\u0446\\u0435\\u043d\\u0442\\u0440\\u0430\\u043b\\u044c\\u043d\\u044b\\u0439\", \"\\u0438\\u043c\\u0435\\u0442\\u044c\\u0441\\u044f\", \"\\u043e\\u043a\\u043e\\u043d\\u0447\\u0430\\u043d\\u0438\\u0435\", \"\\u043f\\u0440\\u0438\\u0441\\u0442\\u0430\\u0432\", \"\\u0442\\u0435\\u043b\\u0435\\u0444\\u043e\\u043d\\u043d\\u044b\\u0439\", \"\\u0441\\u0443\\u0434\\u0435\\u0431\\u043d\\u044b\\u0439\", \"\\u0431\\u043e\\u043d\\u0443\\u0441\", \"\\u0433\\u0440\\u0443\\u0431\\u044b\\u0439\", \"\\u0434\\u043e\\u0441\\u0442\\u0443\\u043f\\u043d\\u044b\\u0439\", \"\\u043f\\u0440\\u044f\\u043c\\u043e\\u0439\", \"\\u0435\\u0432\\u0433\\u0435\\u043d\\u0438\\u0439\", \"\\u0440\\u0435\\u0430\\u043a\\u0446\\u0438\\u044f\", \"\\u043c\\u0430\\u0440\\u0438\\u044f\", \"\\u043d\\u0430\\u0431\\u0438\\u0440\\u0430\\u0442\\u044c\", \"\\u043f\\u043e\\u043b\\u043d\\u044b\\u0439_\\u043e\\u0431\\u044a\\u0451\\u043c\", \"\\u043e\\u0442\\u0447\\u0451\\u0442\", \"\\u043a\\u0430\\u0447\\u0435\\u0441\\u0442\\u0432\\u043e_\\u043e\\u0431\\u0441\\u043b\\u0443\\u0436\\u0438\\u0432\\u0430\\u043d\\u0438\\u0435\", \"\\u0440\\u044f\\u0434\", \"\\u0433\\u043e\\u0440\\u043e\\u0434\\u0441\\u043a\\u043e\\u0439\", \"\\u0443\\u0442\\u0435\\u0440\\u044f\\u0442\\u044c\", \"\\u043e\\u0431\\u0435\\u0441\\u043f\\u0435\\u0447\\u0438\\u0442\\u044c\", \"\\u043f\\u0440\\u0438\\u0441\\u0432\\u043e\\u0438\\u0442\\u044c\", \"\\u0441\\u0442\\u0430\\u0440\\u043e\\u0435\", \"\\u0433\\u043e\\u0440\\u0435\\u0442\\u044c\", \"\\u043f\\u043e\\u044f\\u0432\\u043b\\u044f\\u0442\\u044c\\u0441\\u044f\", \"\\u0432\\u043e\\u0437\\u0432\\u0440\\u0430\\u0449\\u0430\\u0442\\u044c\\u0441\\u044f\", \"\\u043e\\u0442\\u0435\\u0446\", \"\\u0432\\u0437\\u044b\\u0441\\u043a\\u0430\\u043d\\u0438\\u0435\", \"\\u043a\\u043e\\u043f\\u0438\\u044f\", \"\\u043f\\u0435\\u0440\\u0435\\u0432\\u043e\\u0434\", \"\\u043c\\u043e\\u0431\\u0438\\u043b\\u044c\\u043d\\u044b\\u0439\", \"\\u043f\\u043e\\u0434\\u043a\\u043b\\u044e\\u0447\\u0438\\u0442\\u044c\", \"\\u043e\\u0442\\u0432\\u0440\\u0430\\u0442\\u0438\\u0442\\u0435\\u043b\\u044c\\u043d\\u044b\\u0439\", \"\\u0437\\u0430\\u0431\\u043b\\u043e\\u043a\\u0438\\u0440\\u043e\\u0432\\u0430\\u0442\\u044c\", \"\\u043c\\u043e\\u0448\\u0435\\u043d\\u043d\\u0438\\u043a\", \"\\u0437\\u043d\\u0430\\u043a\\u043e\\u043c\\u044b\\u0439\", \"\\u0443\\u043a\\u0440\\u0430\\u0441\\u0442\\u044c\", \"\\u043e\\u0431\\u0440\\u0430\\u0442\\u0438\\u0442\\u044c_\\u0432\\u043d\\u0438\\u043c\\u0430\\u043d\\u0438\\u0435\", \"\\u043a\\u043e\\u043d\\u0442\\u0440\\u043e\\u043b\\u044c\\u043d\\u044b\\u0439\", \"\\u0440\\u0430\\u0441\\u0447\\u0451\\u0442\\u043d\\u044b\\u0439\", \"\\u0443\\u0441\\u0442\\u0430\\u043d\\u043e\\u0432\\u0438\\u0442\\u044c\", \"\\u0433\\u043e\\u0434\\u043e\\u0432\\u043e\\u0439_\\u043e\\u0431\\u0441\\u043b\\u0443\\u0436\\u0438\\u0432\\u0430\\u043d\\u0438\\u0435\", \"\\u0434\\u043e\\u0432\\u0435\\u0440\\u044f\\u0442\\u044c\", \"\\u0431\\u043b\\u043e\\u043a\\u0438\\u0440\\u043e\\u0432\\u043a\\u0430\", \"\\u043f\\u043e\\u0434\\u043a\\u043b\\u044e\\u0447\\u0430\\u0442\\u044c\", \"\\u043e\\u0442\\u043a\\u043b\\u044e\\u0447\\u0438\\u0442\\u044c\", \"\\u043f\\u0440\\u043e\\u0438\\u0437\\u043e\\u0439\\u0442\\u0438_\\u0441\\u0431\\u043e\\u0439\", \"\\u0440\\u0430\\u0437\\u0431\\u043b\\u043e\\u043a\\u0438\\u0440\\u043e\\u0432\\u0430\\u0442\\u044c\", \"\\u043f\\u0440\\u043e\\u043f\\u0430\\u0441\\u0442\\u044c\", \"\\u0431\\u043b\\u043e\\u043a\\u0438\\u0440\\u043e\\u0432\\u0430\\u0442\\u044c\", \"\\u0430\\u0440\\u0435\\u0441\\u0442\", \"\\u0441\\u043e\\u0431\\u0441\\u0442\\u0432\\u0435\\u043d\\u043d\\u044b\\u0439\", \"\\u043e\\u0440\\u0433\\u0430\\u043d\", \"\\u0431\\u0430\\u043b\\u0430\\u043d\\u0441\", \"\\u0440\\u043e\\u0441\\u0441\\u0438\\u0439\\u0441\\u043a\\u0438\\u0439\", \"\\u043f\\u0440\\u0438\\u0432\\u044f\\u0437\\u0430\\u0442\\u044c\", \"\\u043a\\u0442\\u043e\\u0442\\u044c\", \"\\u0430\\u0432\\u0442\\u043e\\u043f\\u043b\\u0430\\u0442\\u0451\\u0436\", \"\\u043d\\u0438\\u043a\\u0443\\u0434\\u0430\", \"\\u043e\\u0442\\u0434\\u0430\\u0432\\u0430\\u0442\\u044c\", \"\\u043a\\u043e\\u043c\\u0438\\u0441\\u0441\\u0438\\u044f\", \"\\u0434\\u0435\\u0431\\u0435\\u0442\\u043e\\u0432\\u044b\\u0439\", \"\\u043e\\u043f\\u0435\\u0440\\u0430\\u0446\\u0438\\u043e\\u043d\\u0438\\u0441\\u0442\\u043a\\u0430\", \"\\u0441\\u0447\\u0451\\u0442\", \"\\u043a\\u0430\\u0440\\u0442\\u0430\", \"\\u043f\\u0435\\u0440\\u0435\\u0432\\u0435\\u0441\\u0442\\u0438\", \"\\u0441\\u043f\\u0438\\u0441\\u0430\\u043d\\u0438\\u0435\", \"\\u043e\\u043f\\u0435\\u0440\\u0430\\u0446\\u0438\\u044f\", \"\\u0443\\u0441\\u043b\\u0443\\u0433\\u0430\", \"\\u043f\\u043e\\u043b\\u044c\\u0437\\u043e\\u0432\\u0430\\u0442\\u044c\\u0441\\u044f\", \"\\u0441\\u043d\\u044f\\u0442\\u044c\", \"\\u0441\\u043f\\u0438\\u0441\\u0430\\u0442\\u044c\", \"\\u0434\\u0435\\u043d\\u044c\\u0433\\u0430\", \"\\u043f\\u0440\\u0438\\u043b\\u043e\\u0436\\u0435\\u043d\\u0438\\u0435\", \"\\u043e\\u0431\\u0440\\u0430\\u0437\", \"\\u0431\\u0430\\u043d\\u043a\", \"\\u0440\\u0443\\u0431\", \"\\u043e\\u043d\\u043b\\u0430\\u0439\\u043d\", \"\\u0441\\u0440\\u0435\\u0434\\u0441\\u0442\\u0432\\u043e\", \"\\u0441\\u043c\\u0441\", \"\\u0431\\u0430\\u043d\\u043a\\u043e\\u0432\\u0441\\u043a\\u0438\\u0439\", \"\\u043e\\u0442\\u043a\\u0440\\u044b\\u0442\\u044c\", \"\\u0441\\u0431\\u0435\\u0440\\u0431\\u0430\\u043d\\u043a\", \"\\u043d\\u043e\\u043c\\u0435\\u0440\", \"\\u0441\\u0443\\u043c\\u043c\\u0430\", \"\\u043a\\u043e\\u0442\\u043e\\u0440\\u044b\\u0439\", \"\\u0440\\u0443\\u0431\\u043b\\u044c\", \"\\u0442\\u0435\\u043b\\u0435\\u0444\\u043e\\u043d\", \"\\u043e\\u0447\\u0435\\u0440\\u0435\\u0434\\u044c\", \"\\u043c\\u0438\\u043d\\u0443\\u0442\\u0430\", \"\\u0441\\u043e\\u0442\\u0440\\u0443\\u0434\\u043d\\u0438\\u0446\\u0430\", \"\\u0432\\u043a\\u043b\\u0430\\u0434\", \"\\u0434\\u0435\\u0432\\u0443\\u0448\\u043a\\u0430\", \"\\u043f\\u0430\\u0441\\u043f\\u043e\\u0440\\u0442\", \"\\u043f\\u043e\\u0434\\u043e\\u0439\\u0442\\u0438\", \"\\u043a\\u0430\\u0440\\u0442\\u043e\\u0447\\u043a\\u0430\", \"\\u043a\\u0430\\u0441\\u0441\\u0430\", \"\\u043e\\u043a\\u043d\\u043e\", \"\\u043a\\u043e\\u043d\\u0441\\u0443\\u043b\\u044c\\u0442\\u0430\\u043d\\u0442\", \"\\u043f\\u043e\\u043d\\u0438\\u043c\\u0430\\u0442\\u044c\", \"\\u0441\\u0442\\u0430\\u0440\\u044b\\u0439\", \"\\u0432\\u044b\\u0439\\u0442\\u0438\", \"\\u0442\\u0430\\u043b\\u043e\\u043d\", \"\\u043a\\u0430\\u0441\\u0441\\u0438\\u0440\", \"\\u0441\\u043f\\u0440\\u043e\\u0441\\u0438\\u0442\\u044c\", \"\\u0434\\u043e\\u043b\\u0433\\u043e\", \"\\u043f\\u043e\\u0442\\u0440\\u0430\\u0442\\u0438\\u0442\\u044c\", \"\\u0441\\u0438\\u0434\\u0435\\u0442\\u044c\", \"\\u043a\\u0432\\u0438\\u0442\\u0430\\u043d\\u0446\\u0438\\u044f\", \"\\u0433\\u043e\\u0442\\u043e\\u0432\\u044b\\u0439\", \"\\u0445\\u043e\\u0434\\u0438\\u0442\\u044c\", \"\\u0437\\u0430\\u043b\", \"\\u0441\\u043f\\u0440\\u0430\\u0448\\u0438\\u0432\\u0430\\u0442\\u044c\", \"\\u043e\\u043a\\u043e\\u0448\\u043a\\u043e\", \"\\u0444\\u0430\\u043c\\u0438\\u043b\\u0438\\u044f\", \"\\u043e\\u0431\\u0441\\u043b\\u0443\\u0436\\u0438\\u0432\\u0430\\u0442\\u044c\", \"\\u0441\\u0442\\u043e\\u044f\\u0442\\u044c\", \"\\u0437\\u0430\\u0432\\u0442\\u0440\\u0430\", \"\\u0443\\u0439\\u0442\\u0438\", \"\\u043c\\u043e\\u043b\\u043e\\u0434\\u043e\\u0439\", \"\\u0433\\u043e\\u0432\\u043e\\u0440\\u0438\\u0442\\u044c\", \"\\u0435\\u0451\", \"\\u043e\\u0444\\u0438\\u0441\", \"\\u0441\\u0442\\u043e\\u0438\\u0442\\u044c\", \"\\u0441\\u043a\\u0430\\u0437\\u0430\\u0442\\u044c\", \"\\u043f\\u043e\\u0439\\u0442\\u0438\", \"\\u0438\\u0434\\u0442\\u0438\", \"\\u0447\\u0430\\u0441\", \"\\u043e\\u0442\\u0434\\u0435\\u043b\\u0435\\u043d\\u0438\\u0435\", \"\\u0440\\u0430\\u0431\\u043e\\u0442\\u0430\\u0442\\u044c\", \"\\u0434\\u0435\\u043b\\u0430\\u0442\\u044c\", \"\\u0441\\u0434\\u0435\\u043b\\u0430\\u0442\\u044c\", \"\\u043f\\u0440\\u0435\\u0434\\u043b\\u043e\\u0436\\u0438\\u0442\\u044c\", \"\\u0432\\u043e\\u043e\\u0431\\u0449\\u0435\", \"\\u043d\\u0443\\u0436\\u043d\\u044b\\u0439\", \"\\u043f\\u0440\\u0438\\u0439\\u0442\\u0438\", \"\\u043d\\u043e\\u0432\\u044b\\u0439\", \"\\u0435\\u0449\\u0451\", \"\\u043c\\u043e\\u0447\\u044c\", \"\\u043a\\u0430\\u0440\\u0442\\u0430\", \"\\u0432\\u0435\\u0441\\u044c\", \"\\u0436\\u0434\\u0430\\u0442\\u044c\", \"\\u043e\\u0431\\u0441\\u043b\\u0443\\u0436\\u0438\\u0432\\u0430\\u043d\\u0438\\u0435\", \"\\u043e\\u0431\\u044a\\u044f\\u0441\\u043d\\u0438\\u0442\\u044c\", \"\\u0441\\u0432\\u043e\\u0439\", \"\\u0431\\u0430\\u043d\\u043a\", \"\\u0441\\u043e\\u0442\\u0440\\u0443\\u0434\\u043d\\u0438\\u043a\", \"\\u0447\\u0435\\u043b\\u043e\\u0432\\u0435\\u043a\", \"\\u0441\\u0431\\u0435\\u0440\\u0431\\u0430\\u043d\\u043a\", \"\\u0432\\u0440\\u0435\\u043c\\u044f\", \"\\u0445\\u043e\\u0442\\u0435\\u0442\\u044c\", \"\\u043a\\u043b\\u0438\\u0435\\u043d\\u0442\", \"\\u043a\\u043e\\u0442\\u043e\\u0440\\u044b\\u0439\", \"\\u0434\\u0435\\u043d\\u044c\", \"\\u043f\\u043e\\u043b\\u0443\\u0447\\u0438\\u0442\\u044c\", \"\\u0431\\u0430\\u043d\\u043a\\u043e\\u043c\\u0430\\u0442\", \"\\u0447\\u0435\\u043a\", \"\\u043f\\u043e\\u043b\\u043e\\u0436\\u0438\\u0442\\u044c\", \"\\u043a\\u0443\\u043f\\u044e\\u0440\\u0430\", \"\\u043d\\u0430\\u043b\\u0438\\u0447\\u043d\\u044b\\u0439\", \"\\u0437\\u0430\\u0447\\u0438\\u0441\\u043b\\u0438\\u0442\\u044c\", \"\\u0441\\u0431\\u043e\\u0439\", \"\\u0432\\u043d\\u043e\\u0441\\u0438\\u0442\\u044c\", \"\\u043f\\u0435\\u0440\\u0435\\u0432\\u043e\\u0434\\u0438\\u0442\\u044c\", \"\\u0437\\u0430\\u0431\\u044b\\u0442\\u044c\", \"\\u0442\\u0435\\u0445\\u043d\\u0438\\u0447\\u0435\\u0441\\u043a\\u0438\\u0439_\\u0441\\u0431\\u043e\\u0439\", \"\\u0434\\u0435\\u0442\\u0441\\u043a\\u0438\\u0439\", \"\\u043f\\u0435\\u043d\\u0441\\u0438\\u043e\\u043d\\u043d\\u044b\\u0439\", \"\\u043f\\u0440\", \"\\u0441\\u0442\\u0430\\u0432\\u0438\\u0442\\u044c\", \"\\u0432\\u043e\\u0440\\u043e\\u0432\\u0430\\u0442\\u044c\", \"\\u0440\\u0435\\u0436\\u0438\\u043c\", \"\\u043a\\u0440\\u0430\\u0441\\u043d\\u043e\\u0434\\u0430\\u0440\", \"\\u043f\\u043e\\u043d\\u0430\\u0434\\u043e\\u0431\\u0438\\u0442\\u044c\\u0441\\u044f\", \"\\u0440\\u0430\\u0437\\u0431\\u0438\\u0440\\u0430\\u0442\\u0435\\u043b\\u044c\\u0441\\u0442\\u0432\\u043e\", \"\\u043f\\u043e\\u043f\\u043e\\u043b\\u043d\\u0438\\u0442\\u044c\", \"\\u0432\\u0435\\u0447\\u0435\\u0440\", \"\\u043a\\u043e\\u0434\\u043e\\u0432\\u044b\\u0439_\\u0441\\u043b\\u043e\\u0432\\u043e\", \"\\u0434\\u0432\\u0435\\u0440\\u044c\", \"\\u043f\\u0435\\u0440\\u0435\\u0439\\u0442\\u0438\", \"\\u0434\\u0435\\u043d\\u0435\\u0436\\u043a\\u0430\", \"\\u044d\\u043a\\u0440\\u0430\\u043d\", \"\\u0435\\u0437\\u0434\\u0438\\u0442\\u044c\", \"\\u043e\\u0442\\u0440\\u0438\\u0446\\u0430\\u0442\\u0435\\u043b\\u044c\\u043d\\u044b\\u0439\", \"\\u043a\\u043b\\u0430\\u0441\\u0442\\u044c\", \"\\u0432\\u0447\\u0435\\u0440\\u0430\", \"\\u0434\\u0435\\u043d\\u044c\\u0433\\u0430\", \"\\u0432\\u043d\\u0435\\u0441\\u0442\\u0438\", \"\\u0442\\u0435\\u0440\\u043c\\u0438\\u043d\\u0430\\u043b\", \"\\u0442\\u0443\\u0434\\u0430\", \"\\u0441\\u043d\\u044f\\u0442\\u044c\", \"\\u0437\\u0430\\u0447\\u0438\\u0441\\u043b\\u0435\\u043d\\u0438\\u0435\", \"\\u0440\\u0443\\u0431\\u043b\\u044c\", \"\\u0443\\u0442\\u0440\\u043e\", \"\\u043e\\u043f\\u043b\\u0430\\u0447\\u0438\\u0432\\u0430\\u0442\\u044c\", \"\\u0440\\u0443\\u0431\", \"\\u0432\\u044b\\u0434\\u0430\\u0442\\u044c\", \"\\u043d\\u043e\\u043c\\u0435\\u0440\", \"\\u0436\\u0438\\u0442\\u044c\", \"\\u043f\\u0435\\u0440\\u0435\\u0432\\u0435\\u0441\\u0442\\u0438\", \"\\u043f\\u0440\\u0438\\u043d\\u044f\\u0442\\u044c\", \"\\u043f\\u0440\\u0438\\u043d\\u0438\\u043c\\u0430\\u0442\\u044c\", \"\\u0432\\u043e\\u0441\\u043f\\u043e\\u043b\\u044c\\u0437\\u043e\\u0432\\u0430\\u0442\\u044c\\u0441\\u044f\", \"\\u0441\\u0443\\u043c\\u043c\\u0430\", \"\\u0441\\u0435\\u0433\\u043e\\u0434\\u043d\\u044f\", \"\\u0432\\u0435\\u0440\\u043d\\u0443\\u0442\\u044c\", \"\\u043a\\u0440\\u0435\\u0434\\u0438\\u0442\\u043d\\u044b\\u0439\", \"\\u043f\\u0440\\u043e\\u0446\\u0435\\u043d\\u0442\", \"\\u043f\\u043e\\u0433\\u0430\\u0441\\u0438\\u0442\\u044c\", \"\\u0437\\u0430\\u0434\\u043e\\u043b\\u0436\\u0435\\u043d\\u043d\\u043e\\u0441\\u0442\\u044c\", \"\\u043f\\u043e\\u0433\\u0430\\u0448\\u0435\\u043d\\u0438\\u0435\", \"\\u043f\\u0440\\u043e\\u0441\\u0440\\u043e\\u0447\\u043a\\u0430\", \"\\u0430\\u043f\\u0440\\u0435\\u043b\\u044c\", \"\\u0441\\u0442\\u0430\\u0440\\u0448\\u0438\\u0439\", \"\\u043d\\u0430\\u0432\\u044f\\u0437\\u0430\\u0442\\u044c\", \"\\u043e\\u0431\\u044f\\u0437\\u0430\\u0442\\u0435\\u043b\\u044c\\u043d\\u044b\\u0439\", \"\\u043f\\u0440\\u043e\\u0446\\u0435\\u043d\\u0442\\u043d\\u044b\\u0439_\\u0441\\u0442\\u0430\\u0432\\u043a\\u0430\", \"\\u0441\\u043f\\u0438\\u0441\\u044b\\u0432\\u0430\\u0442\\u044c\", \"\\u0434\\u043e\\u0445\\u043e\\u0434\", \"\\u043b\\u0438\\u043c\\u0438\\u0442\", \"\\u0434\\u043e\\u0432\\u0435\\u0440\\u0435\\u043d\\u043d\\u043e\\u0441\\u0442\\u044c\", \"\\u043f\\u0440\\u043e\\u0441\\u0440\\u043e\\u0447\\u0438\\u0442\\u044c\", \"\\u0433\\u043e\\u0434\\u043e\\u0432\\u043e\\u0439\", \"\\u0433\\u0440\\u0430\\u0436\\u0434\\u0430\\u043d\\u0438\\u043d\", \"\\u0435\\u0436\\u0435\\u043c\\u0435\\u0441\\u044f\\u0447\\u043d\\u043e\", \"\\u0441\\u043d\\u0438\\u0437\\u0438\\u0442\\u044c\", \"\\u0434\\u0435\\u043f\\u043e\\u0437\\u0438\\u0442\", \"\\u0434\\u043e\\u0441\\u0440\\u043e\\u0447\\u043d\\u043e\", \"\\u0443\\u0442\\u0432\\u0435\\u0440\\u0436\\u0434\\u0430\\u0442\\u044c\", \"\\u0441\\u0445\\u043e\\u0434\\u0438\\u0442\\u044c\", \"\\u043f\\u0440\\u043e\\u0447\\u0438\\u0442\\u0430\\u0442\\u044c\", \"\\u0437\\u0430\\u043a\\u0440\\u044b\\u0432\\u0430\\u0442\\u044c\", \"\\u0435\\u0436\\u0435\\u043c\\u0435\\u0441\\u044f\\u0447\\u043d\\u044b\\u0439\", \"\\u0435\\u0432\\u0440\\u043e\", \"\\u043f\\u043e\\u043d\\u0435\\u0434\\u0435\\u043b\\u044c\\u043d\\u0438\\u043a\", \"\\u0437\\u0430\\u0434\\u043e\\u043b\\u0436\\u043d\\u043e\\u0441\\u0442\\u044c\", \"\\u043a\\u0440\\u0435\\u0434\\u0438\\u0442\", \"\\u0434\\u043e\\u043b\\u0433\", \"\\u0438\\u0441\\u0442\\u043e\\u0440\\u0438\\u044f\", \"\\u0437\\u0430\\u0440\\u043f\\u043b\\u0430\\u0442\\u0430\", \"\\u043c\\u0430\\u0439\", \"\\u043f\\u0435\\u043d\\u0441\\u0438\\u044f\", \"\\u043f\\u043e\\u0434\\u043f\\u0438\\u0441\\u044c\", \"\\u0433\\u043e\\u0434\", \"\\u0441\\u0443\\u043c\\u043c\\u0430\", \"\\u0440\\u0443\\u0431\\u043b\\u044c\", \"\\u0432\\u0437\\u044f\\u0442\\u044c\", \"\\u0443\\u0441\\u043b\\u043e\\u0432\\u0438\\u0435\", \"\\u044f\\u043d\\u0432\\u0430\\u0440\\u044c\", \"\\u043e\\u0434\\u043e\\u0431\\u0440\\u0438\\u0442\\u044c\", \"\\u0437\\u0430\\u044f\\u0432\\u043a\\u0430\", \"\\u0431\\u0440\\u0430\\u0442\\u044c\", \"\\u043f\\u043b\\u0430\\u0442\\u0438\\u0442\\u044c\", \"\\u043f\\u0440\\u0435\\u0434\\u043b\\u043e\\u0436\\u0435\\u043d\\u0438\\u0435\", \"\\u043c\\u0435\\u0441\\u044f\\u0446\", \"\\u0431\\u0430\\u043d\\u043a\", \"\\u043f\\u043b\\u0430\\u0442\\u0451\\u0436\", \"\\u043e\\u0444\\u043e\\u0440\\u043c\\u0438\\u0442\\u044c\", \"\\u0437\\u0430\\u0440\\u043f\\u043b\\u0430\\u0442\\u043d\\u044b\\u0439\", \"\\u043e\\u0442\\u043a\\u0430\\u0437\"], \"Freq\": [3332.0, 2298.0, 1285.0, 1323.0, 605.0, 596.0, 1177.0, 1928.0, 1090.0, 4132.0, 475.0, 682.0, 1649.0, 983.0, 889.0, 374.0, 994.0, 336.0, 310.0, 1708.0, 717.0, 615.0, 420.0, 583.0, 482.0, 254.0, 404.0, 390.0, 258.0, 457.0, 474.6737796474019, 373.1814527769962, 309.7515245418545, 257.3242087437786, 160.6550996100928, 154.41244927949643, 124.65178246090277, 80.17479435802234, 78.59589884542092, 71.95321522351865, 82.00254028004117, 63.5041517048838, 62.55691388613766, 56.96538976624112, 55.68349243539765, 49.353167586845736, 53.108966621318565, 46.60395867005075, 44.44916733957585, 41.75406750071197, 39.274212514783535, 39.13479578989181, 38.665204572855835, 38.55345616873004, 37.71601308262745, 37.61610705676771, 37.11852658730548, 36.273746201118676, 35.66102748686845, 34.89230389253334, 97.51602371541378, 105.6917818321143, 116.74768497137741, 150.38246228102335, 257.83516404018496, 349.5769933462899, 190.5015514614918, 98.28699784301692, 138.5533224459518, 67.22759681634993, 131.99818095769518, 110.61843584295751, 105.33596490030995, 124.45643135926183, 91.19135929902087, 131.16513062369333, 78.74134507388104, 93.76921076743011, 103.46685891056649, 71.33961795884828, 74.50308145114738, 75.40378417914614, 529.5354209315451, 394.941202423562, 885.950991211854, 233.78184909717183, 229.59970595403126, 227.7511393943785, 178.68496724316844, 243.22372818677982, 151.12461625694894, 145.22988610060418, 144.42734074956087, 140.1675911101562, 293.1600073728375, 138.9921340076594, 137.71503624575286, 135.92201428833167, 136.80713503069146, 130.6481055242841, 130.14594134583754, 125.1368899769892, 122.13602136578366, 120.06616315386005, 119.73985199354387, 118.06330093615024, 107.61002236976691, 104.59549311939432, 104.30868085251753, 103.10377731349499, 253.45881110473266, 100.20928892313376, 703.7848772506256, 262.0628886217873, 177.96891124385212, 353.89183026093986, 406.55407585054417, 531.3929620801078, 415.8046601250898, 160.30851031543781, 165.76678801929012, 680.390157387065, 1362.0717993983264, 229.3704793585845, 330.657582774209, 333.8788945032995, 2351.034803898739, 183.89840837665562, 394.21947423943203, 413.4522170293109, 583.8285343218769, 993.6039219015115, 2183.3091245607256, 285.1050768480631, 405.4429086055711, 549.0317750706331, 352.9295769784594, 398.1471335113519, 783.0663039478989, 374.1673071442397, 495.97100880892077, 597.653009425492, 381.5582098231231, 449.53422303034705, 533.2950245283398, 643.3594440759064, 468.4469995566689, 427.7061881323451, 427.1220601188962, 74.21459706184375, 68.14847596417096, 61.97987212199371, 47.55549451259404, 47.196932682833065, 45.98921944237771, 43.75593765605101, 32.581239256117875, 32.19216451645395, 31.256991105050126, 30.54321198244907, 30.02462987330382, 29.539266330959325, 29.499023278304655, 29.259123829632983, 28.534847908252495, 28.39903798734336, 27.91599677388281, 27.35819701451996, 27.096530923461483, 26.26964607877198, 25.911180081014468, 25.964049000125527, 25.78391997201438, 25.405631124340328, 24.755396606036225, 24.55787087489624, 24.49194803971332, 24.143956479934428, 23.849939101706546, 25.991760421127214, 59.52641950210847, 87.20153934088428, 136.3579521929469, 64.22415542231808, 121.72426471038128, 47.46522395973102, 411.29271245424593, 43.51506391534412, 66.16593542050784, 179.04588369759256, 44.49623029961046, 138.67004621892244, 112.06611095966686, 35.992222893815104, 112.51891078723428, 136.4633801743578, 63.98923284902631, 41.31725913669982, 104.40117343780146, 106.79416245230112, 139.7233293801956, 141.25225871866198, 52.163266542351714, 93.08311355508623, 56.30825943858126, 107.32151957856357, 52.66822453500449, 50.14673119265978, 75.22580592896867, 59.240541663877394, 53.13091481452087, 46.08447221671078, 44.84219379416279, 43.95921367464849, 28.206155689289304, 26.642560617960573, 26.238421447718643, 26.11761161492164, 23.902230085980598, 23.504776173396312, 23.19419666786433, 22.792210017646713, 22.20476156328417, 21.737544504997246, 21.12686665418308, 20.99970533161656, 20.629125391109827, 20.45248156485689, 20.14657198121734, 19.789611467671286, 19.196177819653748, 19.027892333311254, 18.712241253004503, 18.383785365667432, 18.450015663130422, 17.150356034967096, 16.61102955586562, 16.250217983169627, 23.475902422531387, 22.34093179028885, 26.6865585798242, 335.56167149377006, 237.70791934130162, 116.38432196239471, 114.68774746163903, 225.93224023309222, 70.70107797786454, 69.84748910764469, 67.69472729884215, 63.38300831965645, 60.334829591412785, 56.133017449693156, 52.94610754309483, 48.869592377994294, 48.432964444121815, 45.03217418470932, 43.925801460027955, 43.2195302398398, 42.760867594726356, 40.88882491881144, 40.726856455253426, 39.0048337113285, 38.21454140916058, 38.18549246301832, 38.06455657174147, 34.18103581050118, 33.87171694197864, 33.31631026311984, 33.317816990029925, 32.20027483325423, 32.13897397646675, 41.472742427058904, 99.32232424508501, 192.19722366363288, 36.947402794883594, 861.6875741543125, 1876.1639202804333, 184.1724335747293, 116.53142904500108, 251.64214852287188, 231.86135100256013, 165.25728341919415, 196.1085369853777, 119.5716857587765, 601.0528676557551, 70.09066640823539, 66.37978519974085, 491.41057774430425, 93.12188097062274, 113.02913124875481, 109.47479054352108, 115.20761503837953, 82.5291509407703, 86.01569829360244, 181.35266435164704, 104.88069596770188, 100.84729097347902, 106.44162761234097, 84.1106994759865, 74.70634648478821, 348.68764532218347, 289.0418656223791, 280.09652280442083, 279.5543490698582, 212.2348397406521, 210.35470878144292, 154.90912107568877, 155.07047774347535, 152.57793243533368, 152.27867522343877, 131.9526537139292, 128.23234130462956, 117.90837631558269, 113.08120571279977, 111.2914370426844, 109.63077925813127, 108.26488165086808, 102.90004712379394, 102.74532741474965, 98.9053006225922, 107.61870121539877, 94.18451299468329, 85.27671786054333, 81.33025699084588, 77.69834580583357, 74.14021409480918, 73.5417891006848, 73.13344047261968, 72.21253849275223, 70.90712727849264, 177.6076988336526, 79.28613757655292, 479.13624537141135, 194.81948555221524, 461.66495931507507, 122.26499357015378, 876.1022656193325, 181.2627275871811, 258.82953513081907, 266.76414386997544, 1487.1557505571589, 504.1042925249102, 318.52337688796416, 442.4239879363479, 256.28219498909573, 243.10948633446006, 211.57915420931317, 582.5898621242783, 323.930320011794, 585.225890942785, 729.4875416025313, 1419.5925070626295, 456.3829366581983, 288.8107027128834, 318.2543980056539, 202.71645717788792, 608.3888897290448, 1123.2429346558279, 652.5005065799403, 288.1143777864353, 769.5345546078499, 345.1261472230386, 296.5235769844148, 333.0201556177701, 319.41647262971304, 286.5246760535755, 274.19424153938587, 604.8446624294739, 180.1110053963567, 160.09549657134377, 138.73224419256996, 103.66880187116368, 90.05846075321041, 79.56074842016524, 67.1783915655724, 53.934782170158385, 48.27187938004956, 45.85237489276939, 37.88394499859151, 35.098662188361835, 34.00767389713409, 33.64478932367247, 30.84787280173349, 29.62001155767496, 29.442220707496027, 28.55857306194244, 27.035325698660692, 26.413004601063147, 25.429792401873424, 25.46676529388107, 24.989853011130293, 24.855432056657847, 24.305860100775288, 23.205430078126657, 22.997977596723498, 22.74343668162458, 21.759148063543222, 42.17849291008462, 1025.6849263110237, 103.30829939872979, 77.25389047092108, 66.9522820886787, 130.97563116911948, 42.74052057028464, 117.01646322884, 38.69825728805786, 53.95635528228263, 67.99970756756743, 88.46394607162294, 102.26503980074634, 48.58786564055472, 58.625966678125536, 63.74709246266315, 44.70025719206984, 41.62340186097587, 54.459532185989225, 44.95399568581318, 42.53139614473292, 595.1323944987034, 254.08390499139463, 103.30740517590043, 102.94047485556358, 102.48206047309944, 66.1829680594843, 66.14651875913577, 63.213896415033595, 57.53044169188063, 56.22871936051445, 54.21476665509553, 48.45089888457771, 46.178877769196205, 43.08914789534935, 41.82293601871665, 40.068115748290694, 39.976366600342686, 39.45078241630698, 37.26157484766683, 37.02871536290488, 35.953037601659716, 35.42441965767581, 35.41966652164046, 34.0799596012141, 32.22474912143427, 31.243007466158026, 30.640971795078162, 29.776869336239905, 28.1526590587295, 27.257758781970495, 1243.1435194343435, 118.03341587087132, 132.42148632539875, 79.67076288588818, 68.16579527145407, 69.8914524198537, 57.0906753605544, 389.4483593713985, 331.49338273764033, 167.17342743688678, 172.20874732838777, 92.29855303843237, 85.86293938948126, 104.10379661628315, 154.08652336985153, 106.39108225684092, 75.96031247234845, 72.21012863968133, 131.19178265707473, 279.3291469494751, 114.20716713464859, 90.74698363929333, 68.14805661195113, 66.0429806556609], \"Total\": [3332.0, 2298.0, 1285.0, 1323.0, 605.0, 596.0, 1177.0, 1928.0, 1090.0, 4132.0, 475.0, 682.0, 1649.0, 983.0, 889.0, 374.0, 994.0, 336.0, 310.0, 1708.0, 717.0, 615.0, 420.0, 583.0, 482.0, 254.0, 404.0, 390.0, 258.0, 457.0, 475.54807900085103, 374.0552054869971, 310.62560023347714, 258.19819246889733, 161.52866601808768, 155.28610643097517, 125.52555486842772, 81.04877086360749, 79.4705900278231, 72.83033771884763, 83.1031759491901, 64.37928289524295, 63.43079936073021, 57.84023768434104, 56.5573787062837, 50.22730081231894, 54.06093563351998, 47.479670118068725, 45.32345057671307, 42.62736857838195, 40.147786573254464, 40.01113520548128, 39.53907684204887, 39.42947849950674, 38.5919800289492, 38.494794961567386, 37.99192823238967, 37.14866547235706, 36.53474591106983, 35.76786996038079, 107.55691088111348, 117.36599297687972, 141.98575036612692, 209.1940074896065, 420.9472878343429, 682.0744160759971, 372.09464155470044, 203.13782682066716, 457.38786158937603, 122.90112147692892, 583.0444767365376, 390.22198208302905, 424.5105437909284, 720.7682610462676, 321.31232940983676, 1708.466470571027, 250.40560761619813, 658.3571526057118, 3561.9651389112855, 193.81975494805818, 512.7579430726565, 1177.667735481114, 530.3944954428541, 395.80063755048144, 889.1287511935576, 234.64095615108783, 230.45947235569375, 228.6101813527895, 179.5444205694067, 244.50749419921343, 151.9840018428177, 146.08949700069738, 145.28678759728155, 141.02676582397376, 294.9716447978325, 139.85133698329034, 138.57445332494146, 136.7811998278744, 137.6773039072964, 131.50846128203852, 131.00550360491127, 125.9963165511755, 122.99634931826756, 120.92566236859717, 120.59941566637626, 118.94499272760231, 108.46914473108995, 105.45487149063649, 105.16877966764869, 103.96307534275135, 255.62774798722364, 101.06897674413216, 717.5026582366391, 265.3872033062548, 180.586799046841, 367.727839434961, 425.52119008336405, 565.4853928062616, 444.95741186241503, 163.65302661012842, 170.05025174686102, 763.8064363908812, 1649.3282626756336, 242.97893053410837, 371.1685998935961, 378.38207131611347, 3561.9651389112855, 192.83913036795212, 466.94944166113504, 506.1869497678695, 768.2370628024881, 1475.056209472674, 4132.997523626447, 341.9425569110768, 545.4339133101324, 830.3547984989511, 459.23210176295726, 565.5144574957947, 1708.466470571027, 539.0700157496655, 983.2520585418562, 1419.485212515398, 599.4218437484584, 845.5704732360736, 1291.5068143985418, 2298.077148263163, 1090.2602845213428, 1323.8136220770446, 1928.3026927737458, 75.10192994846108, 69.03573493951316, 62.866756856796954, 48.44255314667902, 48.08419112202914, 46.87559000910404, 44.64230274068684, 33.46909170786959, 33.07848391669873, 32.14310383045093, 31.430297615167582, 30.911794944563635, 30.426508909383923, 30.386191745873482, 30.146481402755754, 29.422142035524825, 29.285519217401628, 28.804666467423996, 28.246315086458743, 27.988700745404042, 27.15587638042392, 26.799294617768997, 26.854930459238414, 26.671301322108533, 26.29317898103028, 25.642621282095693, 25.444084315125597, 25.37948554300185, 25.030912420817078, 24.73675885614002, 27.2793669318797, 73.89535378990936, 118.66705292863695, 205.08904449978922, 84.81518745334841, 193.81975494805818, 59.03243900047949, 1177.667735481114, 58.30454741226781, 111.35103466287812, 583.0444767365376, 64.62404619964475, 444.40947621939466, 314.3099626582449, 46.33219068934162, 471.54115896714603, 845.5704732360736, 170.67323453303564, 67.5102757150265, 615.8569668125641, 658.3571526057118, 1419.485212515398, 1708.466470571027, 123.83762455128299, 599.4218437484584, 183.62473034923067, 3561.9651389112855, 165.75764817011878, 1475.056209472674, 76.1285049404739, 60.14417488726849, 54.033944247866444, 46.986629749432375, 45.74714307583023, 44.86205270031286, 29.108797480458414, 27.543722530546543, 27.139970967119403, 27.01920209182844, 24.803462479294645, 24.410038618514108, 24.097236616079602, 23.69445690949018, 23.107014671237046, 22.64216092300917, 22.032037515490288, 21.90908329184692, 21.53164694392479, 21.35416757689408, 21.050115241451035, 20.69228638106406, 20.098247183444535, 19.930192786387313, 19.61469162562542, 19.286224145899038, 19.358098427969264, 18.057205942337617, 17.514493462390533, 17.15276546011719, 33.825091124768946, 37.40923345784589, 68.44582282739194, 336.4419391969044, 238.5806544035227, 117.25031135672684, 115.55576470101889, 228.540075478429, 71.56673347425885, 70.71811575233626, 68.56186109664121, 64.2517073030872, 61.204083563346515, 56.99888195379153, 53.81266879679472, 49.7354047640836, 49.30029926507619, 45.897817339008704, 44.79221607944688, 44.085148377229494, 43.62871601940092, 41.75456203914667, 41.59437427483818, 39.87097966199193, 39.08046456408268, 39.05163969676693, 38.93177194729507, 35.047249819184756, 34.73941448975775, 34.18227456088671, 34.185138233233474, 33.06619896755104, 33.01374786835509, 42.776871973106374, 104.53291229475745, 219.32757576235676, 38.25578469677937, 1323.8136220770446, 3332.2943493420858, 255.0814997463465, 157.9920490210384, 482.4623304776864, 444.3702293897738, 285.2452297299768, 404.6003589892381, 198.00624093459825, 2298.077148263163, 97.07708273579098, 93.2627560361617, 4132.997523626447, 191.71806968731994, 330.488103259751, 350.69632217970275, 442.77609526672194, 185.24416621679688, 220.51136501345422, 3561.9651389112855, 600.0553565913008, 983.2520585418562, 1475.056209472674, 368.92707459251255, 560.8430040302048, 349.56480127206817, 289.9192369864952, 280.97406070311496, 280.4317318829928, 213.11192100649035, 211.2320493384753, 155.78630122767973, 155.94862808774218, 153.4550172193736, 153.15576915349826, 132.82993820881822, 129.11187296590498, 118.78549457786973, 113.95889749120263, 112.1685704037105, 110.50818549266265, 109.1422049704196, 103.77731669764438, 103.62289481540913, 99.78241910081567, 108.59881669677804, 95.06188525724762, 86.15589421012344, 82.20761242592367, 78.57628468037082, 75.01764547208992, 74.41924181110038, 74.01063696291982, 73.09023476607284, 71.78501542651028, 179.92666365494793, 80.2709904634974, 502.6718860347291, 201.98839992205436, 495.0952954699163, 125.7756007177998, 994.5864074848492, 190.41884743043488, 282.4455258568755, 293.69918900660457, 1928.3026927737458, 615.8569668125641, 378.20593679953475, 596.7985590668485, 310.99769266340024, 292.67646292959375, 247.6825488883499, 873.8855753919278, 423.43197090945597, 936.4007661450692, 1291.5068143985418, 3332.2943493420858, 720.7682610462676, 390.20631520677495, 471.54115896714603, 239.309227495438, 1419.485212515398, 4132.997523626447, 1708.466470571027, 444.40947621939466, 3561.9651389112855, 683.7737365654323, 512.7579430726565, 1177.667735481114, 1475.056209472674, 1649.3282626756336, 830.3547984989511, 605.7362853459122, 181.00307364801412, 160.98799753221797, 139.62372232353246, 104.5607412133842, 90.95029524240357, 80.45289842686556, 68.07148256625466, 54.826903134529715, 49.165452341647345, 46.74427010501041, 38.777452687141285, 35.992857451982225, 34.902157035554715, 34.54041630284243, 31.741581842208163, 30.513247453036023, 30.338114295971387, 29.452628225162773, 27.93137933387014, 27.30518724298215, 26.321969208834968, 26.36122225339167, 25.88208194937323, 25.752607612297925, 25.199403354558182, 24.097918089677314, 23.891081099985794, 23.638975853921448, 22.651417553185723, 45.286852434497284, 2298.077148263163, 192.83598323248333, 129.49570860243034, 107.36180124663991, 404.6003589892381, 64.85006070117545, 368.92707459251255, 55.85793335799959, 106.74277629663472, 191.71806968731994, 361.39616538169525, 600.0553565913008, 102.35117897051015, 255.0814997463465, 466.94944166113504, 111.27971006970276, 84.98423622975704, 983.2520585418562, 335.3151550393689, 378.38207131611347, 596.0107284885828, 254.96376317658968, 104.18541306456596, 103.81829574144942, 103.3602736938156, 67.06074824358824, 67.02620918596934, 64.09558709457728, 58.40863972597991, 57.10688386258376, 55.09292090249475, 49.32914091873766, 47.067247884696094, 43.96722942064517, 42.70141533968729, 40.94699522810509, 40.85471394548094, 40.33345438315875, 38.13989523304449, 37.90738064034847, 36.83317544831658, 36.30286706197221, 36.30182645476448, 34.96020871712817, 33.10374400610882, 32.1216690416078, 31.51915424846987, 30.65678768280172, 29.03324892853127, 28.135910798947414, 1285.9845216400672, 131.45295644395043, 178.51894984858347, 104.81997033031938, 88.10922660749166, 91.68215836868104, 71.97374822666939, 1090.2602845213428, 983.2520585418562, 368.92707459251255, 390.0421837511032, 155.75400192239755, 142.9113692068181, 203.13782682066716, 457.38786158937603, 239.03190859111112, 132.67499837021307, 124.84278923911783, 565.5144574957947, 4132.997523626447, 545.4339133101324, 390.22198208302905, 132.33448409457208, 191.65676717856397], \"Category\": [\"Default\", \"Default\", \"Default\", \"Default\", \"Default\", \"Default\", \"Default\", \"Default\", \"Default\", \"Default\", \"Default\", \"Default\", \"Default\", \"Default\", \"Default\", \"Default\", \"Default\", \"Default\", \"Default\", \"Default\", \"Default\", \"Default\", \"Default\", \"Default\", \"Default\", \"Default\", \"Default\", \"Default\", \"Default\", \"Default\", \"Topic1\", \"Topic1\", \"Topic1\", \"Topic1\", \"Topic1\", \"Topic1\", \"Topic1\", \"Topic1\", \"Topic1\", \"Topic1\", \"Topic1\", \"Topic1\", \"Topic1\", \"Topic1\", \"Topic1\", \"Topic1\", \"Topic1\", \"Topic1\", \"Topic1\", \"Topic1\", \"Topic1\", \"Topic1\", \"Topic1\", \"Topic1\", \"Topic1\", \"Topic1\", \"Topic1\", \"Topic1\", \"Topic1\", \"Topic1\", \"Topic1\", \"Topic1\", \"Topic1\", \"Topic1\", \"Topic1\", \"Topic1\", \"Topic1\", \"Topic1\", \"Topic1\", \"Topic1\", \"Topic1\", \"Topic1\", \"Topic1\", \"Topic1\", \"Topic1\", \"Topic1\", \"Topic1\", \"Topic1\", \"Topic1\", \"Topic1\", \"Topic1\", \"Topic1\", \"Topic2\", \"Topic2\", \"Topic2\", \"Topic2\", \"Topic2\", \"Topic2\", \"Topic2\", \"Topic2\", \"Topic2\", \"Topic2\", \"Topic2\", \"Topic2\", \"Topic2\", \"Topic2\", \"Topic2\", \"Topic2\", \"Topic2\", \"Topic2\", \"Topic2\", \"Topic2\", \"Topic2\", \"Topic2\", \"Topic2\", \"Topic2\", \"Topic2\", \"Topic2\", \"Topic2\", \"Topic2\", \"Topic2\", \"Topic2\", \"Topic2\", \"Topic2\", \"Topic2\", \"Topic2\", \"Topic2\", \"Topic2\", \"Topic2\", \"Topic2\", \"Topic2\", \"Topic2\", \"Topic2\", \"Topic2\", \"Topic2\", \"Topic2\", \"Topic2\", \"Topic2\", \"Topic2\", \"Topic2\", \"Topic2\", \"Topic2\", \"Topic2\", \"Topic2\", \"Topic2\", \"Topic2\", \"Topic2\", \"Topic2\", \"Topic2\", \"Topic2\", \"Topic2\", \"Topic2\", \"Topic2\", \"Topic2\", \"Topic2\", \"Topic2\", \"Topic2\", \"Topic2\", \"Topic2\", \"Topic3\", \"Topic3\", \"Topic3\", \"Topic3\", \"Topic3\", \"Topic3\", \"Topic3\", \"Topic3\", \"Topic3\", \"Topic3\", \"Topic3\", \"Topic3\", \"Topic3\", \"Topic3\", \"Topic3\", \"Topic3\", \"Topic3\", \"Topic3\", \"Topic3\", \"Topic3\", \"Topic3\", \"Topic3\", \"Topic3\", \"Topic3\", \"Topic3\", \"Topic3\", \"Topic3\", \"Topic3\", \"Topic3\", \"Topic3\", \"Topic3\", \"Topic3\", \"Topic3\", \"Topic3\", \"Topic3\", \"Topic3\", \"Topic3\", \"Topic3\", \"Topic3\", \"Topic3\", \"Topic3\", \"Topic3\", \"Topic3\", \"Topic3\", \"Topic3\", \"Topic3\", \"Topic3\", \"Topic3\", \"Topic3\", \"Topic3\", \"Topic3\", \"Topic3\", \"Topic3\", \"Topic3\", \"Topic3\", \"Topic3\", \"Topic3\", \"Topic3\", \"Topic3\", \"Topic4\", \"Topic4\", \"Topic4\", \"Topic4\", \"Topic4\", \"Topic4\", \"Topic4\", \"Topic4\", \"Topic4\", \"Topic4\", \"Topic4\", \"Topic4\", \"Topic4\", \"Topic4\", \"Topic4\", \"Topic4\", \"Topic4\", \"Topic4\", \"Topic4\", \"Topic4\", \"Topic4\", \"Topic4\", \"Topic4\", \"Topic4\", \"Topic4\", \"Topic4\", \"Topic4\", \"Topic4\", \"Topic4\", \"Topic4\", \"Topic4\", \"Topic4\", \"Topic4\", \"Topic5\", \"Topic5\", \"Topic5\", \"Topic5\", \"Topic5\", \"Topic5\", \"Topic5\", \"Topic5\", \"Topic5\", \"Topic5\", \"Topic5\", \"Topic5\", \"Topic5\", \"Topic5\", \"Topic5\", \"Topic5\", \"Topic5\", \"Topic5\", \"Topic5\", \"Topic5\", \"Topic5\", \"Topic5\", \"Topic5\", \"Topic5\", \"Topic5\", \"Topic5\", \"Topic5\", \"Topic5\", \"Topic5\", \"Topic5\", \"Topic5\", \"Topic5\", \"Topic5\", \"Topic5\", \"Topic5\", \"Topic5\", \"Topic5\", \"Topic5\", \"Topic5\", \"Topic5\", \"Topic5\", \"Topic5\", \"Topic5\", \"Topic5\", \"Topic5\", \"Topic5\", \"Topic5\", \"Topic5\", \"Topic5\", \"Topic5\", \"Topic5\", \"Topic5\", \"Topic5\", \"Topic5\", \"Topic5\", \"Topic5\", \"Topic5\", \"Topic5\", \"Topic5\", \"Topic6\", \"Topic6\", \"Topic6\", \"Topic6\", \"Topic6\", \"Topic6\", \"Topic6\", \"Topic6\", \"Topic6\", \"Topic6\", \"Topic6\", \"Topic6\", \"Topic6\", \"Topic6\", \"Topic6\", \"Topic6\", \"Topic6\", \"Topic6\", \"Topic6\", \"Topic6\", \"Topic6\", \"Topic6\", \"Topic6\", \"Topic6\", \"Topic6\", \"Topic6\", \"Topic6\", \"Topic6\", \"Topic6\", \"Topic6\", \"Topic6\", \"Topic6\", \"Topic6\", \"Topic6\", \"Topic6\", \"Topic6\", \"Topic6\", \"Topic6\", \"Topic6\", \"Topic6\", \"Topic6\", \"Topic6\", \"Topic6\", \"Topic6\", \"Topic6\", \"Topic6\", \"Topic6\", \"Topic6\", \"Topic6\", \"Topic6\", \"Topic6\", \"Topic6\", \"Topic6\", \"Topic6\", \"Topic6\", \"Topic6\", \"Topic6\", \"Topic6\", \"Topic6\", \"Topic6\", \"Topic6\", \"Topic6\", \"Topic6\", \"Topic6\", \"Topic6\", \"Topic6\", \"Topic6\", \"Topic7\", \"Topic7\", \"Topic7\", \"Topic7\", \"Topic7\", \"Topic7\", \"Topic7\", \"Topic7\", \"Topic7\", \"Topic7\", \"Topic7\", \"Topic7\", \"Topic7\", \"Topic7\", \"Topic7\", \"Topic7\", \"Topic7\", \"Topic7\", \"Topic7\", \"Topic7\", \"Topic7\", \"Topic7\", \"Topic7\", \"Topic7\", \"Topic7\", \"Topic7\", \"Topic7\", \"Topic7\", \"Topic7\", \"Topic7\", \"Topic7\", \"Topic7\", \"Topic7\", \"Topic7\", \"Topic7\", \"Topic7\", \"Topic7\", \"Topic7\", \"Topic7\", \"Topic7\", \"Topic7\", \"Topic7\", \"Topic7\", \"Topic7\", \"Topic7\", \"Topic7\", \"Topic7\", \"Topic7\", \"Topic7\", \"Topic7\", \"Topic7\", \"Topic8\", \"Topic8\", \"Topic8\", \"Topic8\", \"Topic8\", \"Topic8\", \"Topic8\", \"Topic8\", \"Topic8\", \"Topic8\", \"Topic8\", \"Topic8\", \"Topic8\", \"Topic8\", \"Topic8\", \"Topic8\", \"Topic8\", \"Topic8\", \"Topic8\", \"Topic8\", \"Topic8\", \"Topic8\", \"Topic8\", \"Topic8\", \"Topic8\", \"Topic8\", \"Topic8\", \"Topic8\", \"Topic8\", \"Topic8\", \"Topic8\", \"Topic8\", \"Topic8\", \"Topic8\", \"Topic8\", \"Topic8\", \"Topic8\", \"Topic8\", \"Topic8\", \"Topic8\", \"Topic8\", \"Topic8\", \"Topic8\", \"Topic8\", \"Topic8\", \"Topic8\", \"Topic8\", \"Topic8\", \"Topic8\", \"Topic8\", \"Topic8\", \"Topic8\", \"Topic8\", \"Topic8\"], \"logprob\": [30.0, 29.0, 28.0, 27.0, 26.0, 25.0, 24.0, 23.0, 22.0, 21.0, 20.0, 19.0, 18.0, 17.0, 16.0, 15.0, 14.0, 13.0, 12.0, 11.0, 10.0, 9.0, 8.0, 7.0, 6.0, 5.0, 4.0, 3.0, 2.0, 1.0, -3.5918, -3.8323, -4.0186, -4.2041, -4.6751, -4.7148, -4.9289, -5.3702, -5.3901, -5.4784, -5.3477, -5.6033, -5.6183, -5.712, -5.7347, -5.8554, -5.7821, -5.9127, -5.9601, -6.0226, -6.0838, -6.0874, -6.0995, -6.1024, -6.1243, -6.127, -6.1403, -6.1633, -6.1803, -6.2021, -5.1744, -5.0939, -4.9944, -4.7412, -4.2021, -3.8977, -4.5047, -5.1665, -4.8231, -5.5463, -4.8716, -5.0483, -5.0972, -4.9304, -5.2414, -4.8779, -5.3882, -5.2136, -5.1151, -5.4869, -5.4436, -5.4315, -4.8203, -5.1136, -4.3057, -5.6379, -5.656, -5.6641, -5.9067, -5.5983, -6.0742, -6.114, -6.1196, -6.1495, -5.4116, -6.1579, -6.1671, -6.1802, -6.1738, -6.2198, -6.2237, -6.2629, -6.2872, -6.3043, -6.307, -6.3211, -6.4138, -6.4422, -6.445, -6.4566, -5.5571, -6.4851, -4.5359, -5.5237, -5.9107, -5.2233, -5.0846, -4.8168, -5.0621, -6.0152, -5.9817, -4.5697, -3.8756, -5.657, -5.2912, -5.2815, -3.3297, -5.8779, -5.1154, -5.0678, -4.7227, -4.191, -3.4037, -5.4395, -5.0873, -4.7842, -5.2261, -5.1055, -4.4291, -5.1676, -4.8858, -4.6993, -5.1481, -4.9841, -4.8133, -4.6256, -4.9429, -5.0339, -5.0353, -5.2196, -5.3049, -5.3998, -5.6647, -5.6723, -5.6982, -5.748, -6.0429, -6.0549, -6.0844, -6.1075, -6.1246, -6.1409, -6.1422, -6.1504, -6.1755, -6.1802, -6.1974, -6.2176, -6.2272, -6.2582, -6.2719, -6.2699, -6.2768, -6.2916, -6.3176, -6.3256, -6.3283, -6.3426, -6.3548, -6.2688, -5.4402, -5.0584, -4.6113, -5.3642, -4.7248, -5.6666, -3.5073, -5.7535, -5.3344, -4.339, -5.7312, -4.5945, -4.8075, -5.9433, -4.8035, -4.6105, -5.3679, -5.8053, -4.8784, -4.8557, -4.5869, -4.5761, -5.5722, -4.9931, -5.4958, -4.8508, -5.5626, -5.6116, -4.3913, -4.6302, -4.7391, -4.8813, -4.9087, -4.9286, -5.3723, -5.4293, -5.4446, -5.4492, -5.5378, -5.5546, -5.5679, -5.5854, -5.6115, -5.6328, -5.6613, -5.6673, -5.6851, -5.6937, -5.7088, -5.7267, -5.7571, -5.7659, -5.7826, -5.8003, -5.7967, -5.8698, -5.9017, -5.9237, -5.5558, -5.6054, -5.4277, -4.0925, -4.4373, -5.1514, -5.1661, -4.4881, -5.6499, -5.662, -5.6933, -5.7591, -5.8084, -5.8806, -5.9391, -6.0192, -6.0282, -6.101, -6.1258, -6.1421, -6.1527, -6.1975, -6.2015, -6.2447, -6.2651, -6.2659, -6.2691, -6.3767, -6.3858, -6.4023, -6.4023, -6.4364, -6.4383, -6.1833, -5.31, -4.6498, -6.2988, -3.1494, -2.3714, -4.6925, -5.1502, -4.3803, -4.4622, -4.8008, -4.6297, -5.1244, -3.5097, -5.6586, -5.713, -3.7111, -5.3744, -5.1807, -5.2126, -5.1616, -5.4952, -5.4538, -4.7079, -5.2555, -5.2947, -5.2407, -5.4762, -5.5948, -5.0586, -5.2462, -5.2776, -5.2795, -5.555, -5.5639, -5.8699, -5.8689, -5.8851, -5.887, -6.0303, -6.0589, -6.1428, -6.1846, -6.2006, -6.2156, -6.2282, -6.279, -6.2805, -6.3186, -6.2341, -6.3675, -6.4668, -6.5142, -6.5599, -6.6068, -6.6149, -6.6205, -6.6331, -6.6514, -5.7332, -6.5397, -4.7408, -5.6407, -4.7779, -6.1066, -4.1373, -5.7128, -5.3566, -5.3264, -3.6081, -4.69, -5.149, -4.8205, -5.3665, -5.4192, -5.5581, -4.5453, -5.1322, -4.5407, -4.3204, -3.6546, -4.7894, -5.247, -5.1499, -5.6009, -4.5019, -3.8888, -4.4319, -5.2494, -4.267, -5.0688, -5.2206, -5.1045, -5.1462, -5.2549, -5.2989, -2.9884, -4.1998, -4.3176, -4.4608, -4.7521, -4.8929, -5.0168, -5.186, -5.4056, -5.5165, -5.5679, -5.7588, -5.8352, -5.8668, -5.8775, -5.9643, -6.0049, -6.0109, -6.0414, -6.0962, -6.1195, -6.1574, -6.156, -6.1749, -6.1803, -6.2026, -6.249, -6.2579, -6.2691, -6.3133, -5.6514, -2.4602, -4.7556, -5.0463, -5.1894, -4.5183, -5.6382, -4.631, -5.7376, -5.4052, -5.1738, -4.9108, -4.7658, -5.51, -5.3222, -5.2384, -5.5934, -5.6647, -5.3959, -5.5877, -5.6431, -3.2798, -4.1309, -5.0309, -5.0344, -5.0389, -5.4762, -5.4767, -5.5221, -5.6163, -5.6392, -5.6756, -5.788, -5.8361, -5.9053, -5.9351, -5.978, -5.9803, -5.9935, -6.0506, -6.0569, -6.0864, -6.1012, -6.1013, -6.1399, -6.1959, -6.2268, -6.2462, -6.2749, -6.3309, -6.3632, -2.5432, -4.8976, -4.7826, -5.2907, -5.4466, -5.4216, -5.6239, -3.7039, -3.865, -4.5496, -4.5199, -5.1436, -5.2158, -5.0232, -4.6311, -5.0015, -5.3384, -5.389, -4.7919, -4.0362, -4.9306, -5.1605, -5.4469, -5.4783], \"loglift\": [30.0, 29.0, 28.0, 27.0, 26.0, 25.0, 24.0, 23.0, 22.0, 21.0, 20.0, 19.0, 18.0, 17.0, 16.0, 15.0, 14.0, 13.0, 12.0, 11.0, 10.0, 9.0, 8.0, 7.0, 6.0, 5.0, 4.0, 3.0, 2.0, 1.0, 2.4769, 2.4764, 2.4759, 2.4753, 2.4733, 2.4731, 2.4717, 2.4679, 2.4676, 2.4666, 2.4654, 2.465, 2.4648, 2.4635, 2.4631, 2.4611, 2.4609, 2.4601, 2.4592, 2.458, 2.4567, 2.4566, 2.4563, 2.4562, 2.4557, 2.4556, 2.4554, 2.4549, 2.4545, 2.4539, 2.3807, 2.3739, 2.283, 2.1486, 1.9885, 1.8103, 1.8092, 1.7527, 1.2844, 1.8754, 0.9932, 1.2181, 1.0849, 0.7223, 1.2192, -0.0882, 1.3218, 0.5298, -1.0601, 1.4792, 0.5497, -0.2697, 1.1392, 1.1386, 1.1372, 1.1371, 1.137, 1.137, 1.136, 1.1355, 1.1351, 1.1349, 1.1348, 1.1347, 1.1346, 1.1346, 1.1346, 1.1345, 1.1344, 1.1342, 1.1342, 1.1339, 1.1338, 1.1336, 1.1336, 1.1333, 1.1328, 1.1326, 1.1326, 1.1325, 1.1323, 1.1322, 1.1215, 1.1282, 1.1262, 1.1024, 1.0952, 1.0786, 1.073, 1.1201, 1.1153, 1.0251, 0.9494, 1.0831, 1.0252, 1.0156, 0.7253, 1.0933, 0.9715, 0.9384, 0.8663, 0.7457, 0.5026, 0.959, 0.8442, 0.7271, 0.8775, 0.7899, 0.3606, 0.7756, 0.4564, 0.2757, 0.6891, 0.509, 0.2563, -0.1324, 0.296, 0.0109, -0.3666, 2.6946, 2.6936, 2.6923, 2.688, 2.6879, 2.6874, 2.6864, 2.6796, 2.6793, 2.6785, 2.6779, 2.6774, 2.6769, 2.6769, 2.6766, 2.6759, 2.6758, 2.6752, 2.6746, 2.6741, 2.6733, 2.6728, 2.6728, 2.6727, 2.6722, 2.6713, 2.671, 2.6709, 2.6704, 2.67, 2.6581, 2.4903, 2.3984, 2.2983, 2.4284, 2.2413, 2.4884, 1.6545, 2.4139, 2.186, 1.5259, 2.3333, 1.5419, 1.6752, 2.454, 1.2736, 0.8825, 1.7255, 2.2155, 0.9317, 0.8877, 0.3881, 0.2137, 1.8419, 0.844, 1.5244, -0.7957, 1.56, -0.675, 3.5094, 3.5061, 3.5044, 3.5019, 3.5013, 3.501, 3.4898, 3.488, 3.4875, 3.4873, 3.4843, 3.4835, 3.4831, 3.4825, 3.4815, 3.4805, 3.4793, 3.4789, 3.4785, 3.4781, 3.4774, 3.4767, 3.4754, 3.475, 3.4742, 3.4734, 3.4732, 3.4698, 3.4683, 3.4672, 3.1561, 3.0058, 2.5794, 2.3221, 2.3211, 2.3173, 2.3172, 2.3133, 2.3126, 2.3124, 2.312, 2.3111, 2.3105, 2.3094, 2.3085, 2.3072, 2.307, 2.3057, 2.3052, 2.3049, 2.3047, 2.3038, 2.3037, 2.3028, 2.3023, 2.3023, 2.3022, 2.2997, 2.2995, 2.2991, 2.2991, 2.2982, 2.2979, 2.2938, 2.2736, 2.1927, 2.29, 1.8954, 1.7503, 1.999, 2.0204, 1.6739, 1.6742, 1.7789, 1.6005, 1.8204, 0.9836, 1.999, 1.9847, 0.1953, 1.6026, 1.2518, 1.1605, 0.9784, 1.5162, 1.3833, -0.6529, 0.5806, 0.0475, -0.3041, 0.8463, 0.3089, 1.3178, 1.3173, 1.3172, 1.3172, 1.3162, 1.3162, 1.3147, 1.3147, 1.3146, 1.3146, 1.3137, 1.3135, 1.3129, 1.3126, 1.3125, 1.3124, 1.3123, 1.3119, 1.3119, 1.3115, 1.3113, 1.3111, 1.3101, 1.3096, 1.3091, 1.3086, 1.3085, 1.3084, 1.3083, 1.3081, 1.3074, 1.308, 1.2724, 1.2842, 1.2504, 1.292, 1.1935, 1.2711, 1.233, 1.2242, 1.0606, 1.1201, 1.1486, 1.021, 1.1269, 1.1348, 1.1628, 0.9149, 1.0525, 0.8503, 0.7491, 0.4671, 0.8634, 1.0195, 0.9272, 1.1544, 0.4731, 0.0176, 0.3578, 0.887, -0.2119, 0.6366, 0.7727, 0.0573, -0.2096, -0.4299, 0.2123, 2.8383, 2.8348, 2.8342, 2.8333, 2.8312, 2.8299, 2.8286, 2.8265, 2.8233, 2.8214, 2.8205, 2.8164, 2.8146, 2.8138, 2.8135, 2.8112, 2.81, 2.8098, 2.8089, 2.8071, 2.8065, 2.8053, 2.8052, 2.8047, 2.8043, 2.8036, 2.802, 2.8016, 2.8011, 2.7996, 2.7686, 2.033, 2.2156, 2.3232, 2.3675, 1.7119, 2.4228, 1.6915, 2.4727, 2.1575, 1.8032, 1.4324, 1.0703, 2.0947, 1.3693, 0.8485, 1.9277, 2.1259, -0.0537, 0.8303, 0.6541, 2.563, 2.5611, 2.556, 2.556, 2.556, 2.5513, 2.5513, 2.5507, 2.5494, 2.549, 2.5484, 2.5465, 2.5455, 2.5443, 2.5437, 2.5428, 2.5428, 2.5424, 2.5412, 2.5411, 2.5403, 2.54, 2.5399, 2.539, 2.5376, 2.5368, 2.5363, 2.5354, 2.5337, 2.5328, 2.5306, 2.4568, 2.2658, 2.2902, 2.3079, 2.2931, 2.3329, 1.5351, 1.4773, 1.7729, 1.747, 2.0413, 2.055, 1.896, 1.4765, 1.755, 2.0068, 2.017, 1.1034, -0.1299, 1.0009, 1.1059, 1.9009, 1.4991]}, \"token.table\": {\"Topic\": [5, 1, 8, 5, 5, 1, 2, 3, 5, 6, 8, 2, 3, 5, 6, 7, 1, 3, 5, 5, 1, 3, 6, 7, 8, 4, 1, 6, 8, 3, 3, 2, 3, 5, 6, 7, 1, 3, 2, 5, 7, 1, 2, 3, 5, 6, 8, 7, 4, 5, 6, 8, 6, 2, 7, 8, 7, 3, 2, 4, 2, 3, 6, 8, 1, 2, 3, 6, 7, 1, 3, 7, 2, 3, 6, 4, 7, 2, 6, 7, 6, 2, 1, 3, 1, 2, 3, 6, 8, 1, 2, 3, 6, 8, 8, 5, 4, 4, 6, 8, 1, 4, 4, 2, 6, 2, 2, 6, 8, 7, 5, 6, 6, 2, 1, 2, 5, 6, 7, 8, 7, 2, 5, 2, 6, 2, 5, 6, 7, 8, 3, 7, 8, 5, 3, 1, 2, 8, 1, 2, 4, 8, 6, 2, 6, 8, 1, 8, 4, 8, 4, 8, 8, 8, 1, 7, 2, 5, 6, 8, 1, 6, 8, 2, 6, 7, 3, 3, 8, 7, 8, 5, 6, 7, 6, 8, 8, 2, 8, 6, 3, 2, 2, 6, 8, 5, 6, 8, 2, 7, 7, 1, 2, 8, 2, 6, 2, 6, 5, 2, 6, 8, 4, 2, 6, 1, 1, 4, 2, 8, 4, 5, 6, 7, 8, 6, 6, 6, 4, 1, 6, 7, 1, 2, 3, 5, 6, 1, 7, 5, 6, 6, 5, 1, 4, 8, 2, 3, 5, 6, 8, 7, 1, 8, 8, 5, 7, 8, 2, 2, 8, 3, 4, 3, 1, 2, 6, 8, 6, 5, 6, 2, 3, 5, 6, 8, 5, 4, 3, 8, 7, 2, 6, 7, 3, 1, 2, 3, 6, 3, 7, 8, 3, 2, 5, 6, 5, 1, 2, 5, 6, 2, 4, 5, 6, 7, 1, 6, 7, 8, 4, 2, 5, 8, 5, 2, 6, 2, 3, 5, 6, 6, 3, 1, 1, 5, 6, 8, 1, 3, 7, 8, 2, 1, 1, 8, 6, 4, 6, 2, 5, 6, 3, 2, 6, 7, 2, 5, 2, 5, 6, 7, 7, 8, 5, 2, 2, 6, 5, 3, 5, 1, 2, 6, 3, 4, 2, 8, 5, 5, 6, 1, 2, 3, 6, 7, 4, 1, 3, 6, 1, 2, 6, 8, 1, 8, 1, 6, 1, 3, 5, 6, 7, 6, 2, 7, 3, 2, 6, 3, 7, 7, 8, 5, 6, 7, 5, 7, 7, 3, 3, 1, 2, 7, 8, 2, 6, 8, 8, 8, 5, 5, 6, 1, 1, 5, 8, 3, 2, 1, 6, 7, 3, 4, 7, 2, 6, 8, 3, 5, 6, 8, 3, 1, 2, 3, 6, 7, 8, 6, 7, 1, 2, 7, 6, 1, 4, 7, 2, 3, 6, 8, 1, 2, 5, 6, 2, 2, 4, 5, 2, 6, 2, 3, 5, 6, 7, 2, 6, 7, 3, 4, 4, 2, 1, 3, 6, 1, 2, 5, 5, 5, 8, 8, 8, 8, 8, 4, 1, 1, 2, 3, 6, 7, 3, 6, 7, 3, 6, 7, 5, 3, 2, 5, 1, 3, 8, 2, 5, 4, 7, 2, 5, 5, 7, 8, 5, 7, 8, 1, 3, 2, 3, 6, 4, 1, 2, 3, 5, 7, 1, 2, 3, 5, 6, 7, 8, 7, 1, 2, 3, 5, 6, 7, 1, 3, 2, 6, 7, 1, 2, 6, 7, 2, 1, 6, 2, 6, 7, 1, 2, 6, 8, 3, 2, 5, 6, 7, 8, 8, 2, 5, 6, 7, 5, 3, 2, 4, 2, 6, 1, 2, 3, 6, 6, 1, 2, 3, 6, 2, 5, 8, 2, 5, 8, 6, 6, 2, 5, 1, 2, 6, 1, 7, 1, 8, 4, 8, 6, 1, 6, 7, 1, 3, 6, 1, 1, 1, 1, 2, 4, 2, 5, 7, 8, 8, 1, 2, 5, 6, 7, 6, 2, 3, 4, 5, 6, 7, 4, 6, 7, 2, 7, 2, 2, 4, 7, 8, 3, 7, 2, 6, 2, 2, 5, 2, 3, 7, 3, 1, 2, 4, 8, 1, 2, 3, 5, 6, 5, 8, 4, 1, 7, 6, 2, 3, 6, 3, 6, 1, 3, 6, 8, 1, 2, 3, 6, 7, 2, 3, 6, 1, 4, 2, 6, 7, 3, 7, 3, 6, 7, 3, 8, 7, 1, 5, 7, 8], \"Freq\": [0.9677556235418128, 0.9898973578191272, 0.9846894342014474, 0.9723528218987526, 0.9701189159038809, 0.013065577632531068, 0.5281880735521356, 0.0002419551413431679, 0.11879997439949544, 0.27171562372837754, 0.06750548443474384, 0.2645157523754557, 0.2321260684111142, 0.44805729484005763, 0.05398280660723585, 0.9987844787183391, 0.9111455432958921, 0.08367663152717378, 0.9781550473709023, 0.9804387792043077, 0.24734367976431826, 0.06595831460381821, 0.6101144100853184, 0.0023556540929935074, 0.07538093097579224, 0.9676068419896877, 0.00418354187896564, 0.5522275280234644, 0.4434554391703578, 0.9681648604327587, 0.9702160311128575, 0.6372807464125425, 0.15514950108996453, 0.008341371026342179, 0.18851498519533325, 0.010009645231610615, 0.3703139964281834, 0.6073149541422208, 0.882705670589146, 0.0026428313490692995, 0.11364174800997988, 0.1720386519517404, 0.05688374782275287, 0.054108930855789314, 0.055496339339271096, 0.6326582684676905, 0.027748169669635548, 0.949776963936602, 0.5880901041394075, 0.37423915717962297, 0.5563500796582396, 0.44097794332358164, 0.998460474212052, 0.3007737406046003, 0.5341326772805833, 0.16075837859901052, 0.9842594501271252, 0.9701747889573544, 0.9972683534809877, 0.9327941921203582, 0.08883529525999007, 0.06833484250768466, 0.8302683364683687, 0.0102502263761527, 0.047305341501479393, 0.5321850918916432, 0.16083816110502994, 0.2589967447205997, 0.9766368971182763, 0.3412397555894691, 0.16473643373284716, 0.49420930119854145, 0.4621411778511049, 0.032174385799760466, 0.5045528682235164, 0.04416292792467288, 0.9274214864181304, 0.5810797681768555, 0.17155688393792876, 0.24350009333125372, 0.991585584694897, 0.9956748554415817, 0.9863659729790257, 0.9856122399326537, 0.013925584848634995, 0.011936215584544281, 0.009946846320453567, 0.9529078774994517, 0.009946846320453567, 0.041274547590951054, 0.429255294945891, 0.0009172121686878012, 0.17060146337593102, 0.3567955336195547, 0.9790791841885976, 0.9852136567989758, 0.941452407104753, 0.9453560714314833, 0.988829537154938, 0.9669392467480906, 0.9854731287771227, 0.9790019042716233, 0.9832020495779508, 0.768674486484851, 0.23082010075749065, 0.9942886900476275, 0.7601820170841522, 0.2277942688180251, 0.011715133824927004, 0.9659192042163134, 0.8754029188196271, 0.1185441452568245, 0.9947824551473285, 0.9939125574223716, 0.005288124287324673, 0.10311842360283112, 0.010576248574649345, 0.8434558238282853, 0.007932186430987009, 0.0290846835802857, 0.9524035018733399, 0.8334733253869746, 0.1637701972690196, 0.8257907360360676, 0.17401023586075726, 0.2797991357626812, 0.2615229869259275, 0.011748952823627359, 0.44646020729783964, 0.9773797551208782, 0.9619696445685051, 0.9799509087558221, 0.9835739557083163, 0.9736249214617383, 0.9508169406992106, 0.6129033431414619, 0.242310624032671, 0.1425356611956888, 0.5131404898802169, 0.48675040754352, 0.09889469473851663, 0.8976595368573048, 0.9925097629965796, 0.69378742848439, 0.30051754923655394, 0.005565139800676925, 0.9852824934002585, 0.9641111799861951, 0.9544662886636787, 0.9773250416656907, 0.9520918350125502, 0.9785761088344499, 0.9701127854159158, 0.983528928334266, 0.9941086188260264, 0.9627023533905159, 0.35027737252960084, 0.003203756456063422, 0.6247325089323673, 0.02029045755506834, 0.004950779353596007, 0.9654019739512214, 0.02970467612157604, 0.25114919000751856, 0.7406338358384986, 0.007688240510434242, 0.9849971186600586, 0.6808611126587408, 0.2940082077390017, 0.4787438746955527, 0.5178250073237611, 0.9888856452282534, 0.00875120040025003, 0.9762952991147382, 0.9890643552579028, 0.9921180006317257, 0.9596277224837552, 0.9961336230605873, 0.9650806114665187, 0.9853102116666892, 0.9456456459424872, 0.992055212195721, 0.9911431203169804, 0.22896400298882696, 0.7632133432960899, 0.26448132729325075, 0.21914167118583633, 0.51384943588403, 0.3238239066076828, 0.6630679992443029, 0.9895514880971984, 0.30389962583831853, 0.35855783192434704, 0.33669454948993566, 0.99648110446394, 0.0022493930123339504, 0.989720411778791, 0.0039119383864774345, 0.9898453777409569, 0.07789112584898274, 0.9169909815857513, 0.0035405057204083066, 0.9807843678916893, 0.9626684793404416, 0.03535223229216311, 0.9971790113557615, 0.9953594079902722, 0.9809761312809914, 0.2520740797442971, 0.7394173005832714, 0.9851763154766234, 0.5629754767523432, 0.4261328235545455, 0.009903086744577466, 0.000900280613143406, 0.9939170475599923, 0.9970348495108302, 0.9954013769170394, 0.950113563303293, 0.9967271071375747, 0.9944859740189433, 0.9712416429719601, 0.06368519552703901, 0.29804671506654257, 0.34899487148817376, 0.00509481564216312, 0.2827622681400532, 0.9846605427214375, 0.9483627033561945, 0.9470701411326226, 0.03826546024778273, 0.9937518738620995, 0.9803267446672854, 0.9747286549034789, 0.39447257531097474, 0.5990139106574061, 0.6738726250678614, 0.03389701333339343, 0.07186166826679406, 0.21626294506705007, 0.003389701333339343, 0.9558932937321989, 0.032659802115219655, 0.9665746197432864, 0.9983041773574347, 0.9653317700473322, 0.9955328341548781, 0.9780011287181312, 0.9950804970167599, 0.2156414342920187, 0.7717693437819617, 0.9705033322652786, 0.9531574183838112, 0.9558768964148451, 0.9988474793085012, 0.7037839523368148, 0.0636588499601139, 0.23164748179930333, 0.9968293342792633, 0.9975662133840048, 0.9841662541329252, 0.4126962351710235, 0.001548578743606092, 0.014711498064257873, 0.5644569520444205, 0.005420025602621322, 0.992081048739458, 0.9585065573151927, 0.9859823251279287, 0.993003779442613, 0.9946371725479656, 0.939016297777162, 0.04951498368693133, 0.010610353647199571, 0.9561039294588376, 0.5133102675221451, 0.18274920519113022, 0.002687488311634268, 0.300998690903038, 0.7546581176401002, 0.10290792513274094, 0.1372105668436546, 0.9646750038739689, 0.8917780224267049, 0.045801288160888166, 0.06196644868826046, 0.9692931601586864, 0.00708496336154433, 0.19837897412324124, 0.03070150790002543, 0.7651760430467877, 0.4566245380367833, 0.028330719513231083, 0.1749838558170155, 0.1683178041668435, 0.1699843170793865, 0.02422455690531784, 0.8559343439878969, 0.008074852301772613, 0.10901050607393027, 0.9686616727217694, 0.992345194969653, 0.7076779928571826, 0.27878223961040527, 0.9805186919441274, 0.890277912834983, 0.10866627465485823, 0.9992562225923466, 0.23963973844300857, 0.08482822599752515, 0.674384396680325, 0.986344706593646, 0.9813209815826535, 0.9738910795387319, 0.07521648951185193, 0.029250857032386862, 0.848274853939219, 0.04596563247946507, 0.10611307090431585, 0.7545818375418015, 0.12969375332749714, 0.9806173303861712, 0.9888866289849304, 0.9870600028546712, 0.48243107418154935, 0.5119676705600116, 0.9924536361908777, 0.9619085095767772, 0.9864345852807586, 0.30560858016912595, 0.3419185104862498, 0.3509959930655308, 0.9574354970455984, 0.8159040848235938, 0.1224843904577792, 0.059266640544086716, 0.026139837620013234, 0.9671739919404897, 0.439412543959854, 0.5223205711220906, 0.01658160543244732, 0.020727006790559152, 0.5058890341200771, 0.4871524032267409, 0.9760665415240672, 0.9925422633175869, 0.9811810338517438, 0.018118399772830498, 0.9951905064844074, 0.02337711837903191, 0.9584618535403083, 0.006741680156708329, 0.22143826360880436, 0.7711444917711758, 0.2956385235774678, 0.6799686042281758, 0.6522075992419262, 0.344365612399737, 0.9753851712612135, 0.39000257421994017, 0.6076784295985115, 0.22271008977247186, 0.3658808617690609, 0.356336143635955, 0.05408673608760031, 0.97296939351899, 0.9365853259314432, 0.05251514251478047, 0.014138692215517818, 0.933153686224176, 0.2844534780113492, 0.09481782600378307, 0.389521879799325, 0.23320059909038537, 0.7170377478783782, 0.2772545958463062, 0.5451536909903404, 0.4475142239472944, 0.22639782257923236, 0.30700916849759535, 0.01886648521493603, 0.42363834982629084, 0.024011890273554947, 0.9983842730446176, 0.9872367496847767, 0.01130423759181042, 0.9749393295238351, 0.9923247224181995, 0.9941673181587086, 0.954380866234686, 0.972415153386841, 0.22905219918092237, 0.7635073306030746, 0.7213380828596739, 0.047043788012587434, 0.23129862439522153, 0.9986864325001832, 0.9849179310292115, 0.9707754793755905, 0.9908643719636533, 0.9644370426552271, 0.007537215091645409, 0.31656303384910717, 0.10552101128303572, 0.572828346965051, 0.7425280865689735, 0.045835067072158855, 0.20900790584904438, 0.9886220822119183, 0.9868394921452593, 0.9823135323771044, 0.9893363920124455, 0.9949526933916316, 0.9901448985254726, 0.9932083567435394, 0.19451536629590724, 0.7919554199190509, 0.9748305748564254, 0.9894232950746261, 0.01050316198731669, 0.9505361598521604, 0.036761066955608414, 0.9856522331033845, 0.9753085797240979, 0.9938629118483181, 0.6611631569931772, 0.3299794262588899, 0.00722582685238445, 0.10517266153197043, 0.5784496384258374, 0.29798920767391623, 0.014023021537596056, 0.9853275415263325, 0.05859149518880415, 0.3163940740195424, 0.3749855692083466, 0.25194342931185787, 0.9846319920347186, 0.9644115293099049, 0.9913882980676875, 0.9522000259010271, 0.9785318510374997, 0.9541631910956746, 0.041485356134594545, 0.9939888302047657, 0.9940784379773907, 0.9706247021362437, 0.9741518257844153, 0.9950296967604348, 0.32841304051185993, 0.08811081574708438, 0.5767253394354613, 0.016077289696845475, 0.14791106521097835, 0.009646373818107285, 0.8231572324784883, 0.9973309091083399, 0.9424685485964551, 0.053502581361370816, 0.965412642193228, 0.3329955410575232, 0.6671353966891274, 0.11331201649248213, 0.154516386126112, 0.7210764685885227, 0.5931000355649677, 0.40438638788520526, 0.8437744321920093, 0.017132475780548412, 0.1370598062443873, 0.9859843310967626, 0.9333086592705324, 0.9802596569892271, 0.9907363711627785, 0.824026352632583, 0.014085920557821931, 0.16198808641495221, 0.9853633603372672, 0.985675591679489, 0.011075006648084147, 0.9855893989838862, 0.9857102243945105, 0.976872656398116, 0.984182278436035, 0.9962199994046912, 0.9801622262063572, 0.9666580310098719, 0.9706911657801266, 0.9867252251602924, 0.14277964419154163, 0.28100249122803406, 0.16252576519675482, 0.4085928115694117, 0.006075729540065601, 0.16887037998167578, 0.8183718414496596, 0.011366275575689717, 0.3049698147602188, 0.6916279727597818, 0.9666547318434529, 0.9819286324105319, 0.9862127951220496, 0.9761820302807297, 0.023522458560981438, 0.12179385493691185, 0.8119590329127456, 0.0676632527427288, 0.9927193549538295, 0.9824754114545384, 0.9716387086377167, 0.9831795205074131, 0.9980062769779122, 0.9787154014937197, 0.48508729590109645, 0.35468748517499527, 0.15647977287132145, 0.2276872742201957, 0.3171358462352726, 0.45266398565205573, 0.3663197284457785, 0.6294508009913377, 0.03592243226217195, 0.5927201323258372, 0.36820493068726246, 0.9665437463837931, 0.004089854191484397, 0.9938345685307085, 0.6631265962143569, 0.2730521278529705, 0.05851117025420796, 0.028916622140631603, 0.6600289189575232, 0.030039597757743508, 0.05081464667431378, 0.21617280629404206, 0.002245951234223814, 0.011510500075397046, 0.9943706387747203, 0.014794095644566076, 0.4212794854976435, 0.09862730429710717, 0.03311059501402884, 0.42832429294743685, 0.0035224037248966847, 0.9891076799427587, 0.9588144289954162, 0.25469230394534886, 0.7406184101568697, 0.0016756072627983477, 0.9917178267873769, 0.19384748653059966, 0.6710105302982295, 0.13420210605964591, 0.9920924946185167, 0.9690792264607244, 0.9921587479250713, 0.9349209360482146, 0.05169034021420417, 0.01348443657761848, 0.004021772236074856, 0.1085878503740211, 0.8807681197003935, 0.0060326583541122835, 0.9825466576188947, 0.6752848746721223, 0.2597249517969701, 0.0022584778417127837, 0.0406526011508301, 0.02032630057541505, 0.9760632197471683, 0.0766188148657193, 0.484428635925193, 0.11369243496203509, 0.3237762821744912, 0.9730705367320597, 0.9863094641852856, 0.9776782215043841, 0.0183314666532072, 0.9933158158331327, 0.0033901563680311694, 0.07667695108831453, 0.4583057458179411, 0.08253015346146832, 0.3822141149669419, 0.9965332717878744, 0.28321353297317353, 0.6255595618418448, 0.04979578601726128, 0.04045907613902479, 0.22153013532560337, 0.7405435952313026, 0.03797659462724629, 0.3939269774116035, 0.6060415037101592, 0.9730556645831879, 0.9926659209872928, 0.9895347086791112, 0.6872042412709065, 0.3108102170063436, 0.021150533063316556, 0.9564741063077598, 0.023500592292573952, 0.9885990132017094, 0.9843540883206449, 0.9031576976550717, 0.09372391202080932, 0.9298433969109778, 0.982906980897754, 0.9933872853696392, 0.007950667651698837, 0.9699814535072582, 0.015901335303397674, 0.03665774218650808, 0.9531012968492101, 0.9850837150877656, 0.9958131643474623, 0.9714109625655155, 0.9979859991159553, 0.9755650653634582, 0.9935256222307177, 0.9622786014048622, 0.5044484735028761, 0.10272035448344857, 0.05491979348620023, 0.33663799340615325, 0.9725342395722675, 0.9871464450697456, 0.32330835161559535, 0.6511490633005682, 0.021906407001991274, 0.003776966724481254, 0.9895820157152342, 0.5117296604176653, 0.01426424140537046, 0.02852848281074092, 0.13372726317534808, 0.3084642203911362, 0.003566060351342615, 0.9579966032940677, 0.393835444822168, 0.594614299045234, 0.9956865767867644, 0.9840778323559569, 0.9979771696290426, 0.9918993586086902, 0.9808649125608248, 0.6240580841791427, 0.3725719905547121, 0.7769975790996115, 0.2158326608610032, 0.011115639891125167, 0.9892919503101398, 0.9958545510290094, 0.9969677667082044, 0.9918050489345783, 0.22752734928234078, 0.7331436810208759, 0.025280816586926755, 0.9673962107993018, 0.30175789655419033, 0.08988533088848222, 0.01284076155549746, 0.5906750315528831, 0.11251878882314396, 0.31280223292834025, 0.02700450931755455, 0.522087180139388, 0.02700450931755455, 0.9848981881968447, 0.9641388166409015, 0.953327456670532, 0.2864409590210625, 0.6981998376138397, 0.994366486396562, 0.06032904128645031, 0.3197439188181866, 0.6153562211217931, 0.9720647184603225, 0.9865836897089786, 0.3154881424264465, 0.06788985343353914, 0.6030216393214358, 0.011980562370624552, 0.1462678462874103, 0.20087450890137679, 0.07020856621795694, 0.5792206712981447, 0.0039004759009976077, 0.09690108352353467, 0.4199046952686502, 0.47643032732404544, 0.9803751891992384, 0.9836679839308923, 0.0851211066825173, 0.9090934193692848, 0.006809688534601384, 0.9774522333280463, 0.9944582507479142, 0.31277460863903567, 0.6480509876837574, 0.03825300968966623, 0.7961724230912811, 0.18633822668093813, 0.954439296971981, 0.9707998715924543, 0.19592562967806312, 0.19592562967806312, 0.6017715768683368], \"Term\": [\"\\u0430\\u0432\\u0442\\u043e\\u043f\\u043b\\u0430\\u0442\\u0451\\u0436\", \"\\u0430\\u043a\\u0446\\u0438\\u044f\", \"\\u0430\\u043f\\u0440\\u0435\\u043b\\u044c\", \"\\u0430\\u0440\\u0435\\u0441\\u0442\", \"\\u0431\\u0430\\u043b\\u0430\\u043d\\u0441\", \"\\u0431\\u0430\\u043d\\u043a\", \"\\u0431\\u0430\\u043d\\u043a\", \"\\u0431\\u0430\\u043d\\u043a\", \"\\u0431\\u0430\\u043d\\u043a\", \"\\u0431\\u0430\\u043d\\u043a\", \"\\u0431\\u0430\\u043d\\u043a\", \"\\u0431\\u0430\\u043d\\u043a\\u043e\\u0432\\u0441\\u043a\\u0438\\u0439\", \"\\u0431\\u0430\\u043d\\u043a\\u043e\\u0432\\u0441\\u043a\\u0438\\u0439\", \"\\u0431\\u0430\\u043d\\u043a\\u043e\\u0432\\u0441\\u043a\\u0438\\u0439\", \"\\u0431\\u0430\\u043d\\u043a\\u043e\\u0432\\u0441\\u043a\\u0438\\u0439\", \"\\u0431\\u0430\\u043d\\u043a\\u043e\\u043c\\u0430\\u0442\", \"\\u0431\\u043b\\u0430\\u0433\\u043e\\u0434\\u0430\\u0440\\u043d\\u043e\\u0441\\u0442\\u044c\", \"\\u0431\\u043b\\u0430\\u0433\\u043e\\u0434\\u0430\\u0440\\u043d\\u043e\\u0441\\u0442\\u044c\", \"\\u0431\\u043b\\u043e\\u043a\\u0438\\u0440\\u043e\\u0432\\u0430\\u0442\\u044c\", \"\\u0431\\u043b\\u043e\\u043a\\u0438\\u0440\\u043e\\u0432\\u043a\\u0430\", \"\\u0431\\u043e\\u043b\\u044c\\u0448\\u043e\\u0439\", \"\\u0431\\u043e\\u043b\\u044c\\u0448\\u043e\\u0439\", \"\\u0431\\u043e\\u043b\\u044c\\u0448\\u043e\\u0439\", \"\\u0431\\u043e\\u043b\\u044c\\u0448\\u043e\\u0439\", \"\\u0431\\u043e\\u043b\\u044c\\u0448\\u043e\\u0439\", \"\\u0431\\u043e\\u043d\\u0443\\u0441\", \"\\u0431\\u0440\\u0430\\u0442\\u044c\", \"\\u0431\\u0440\\u0430\\u0442\\u044c\", \"\\u0431\\u0440\\u0430\\u0442\\u044c\", \"\\u0431\\u044b\\u0432\\u0448\\u0438\\u0439\", \"\\u0432\\u0430\\u0436\\u043d\\u043e\", \"\\u0432\\u0430\\u0448\", \"\\u0432\\u0430\\u0448\", \"\\u0432\\u0430\\u0448\", \"\\u0432\\u0430\\u0448\", \"\\u0432\\u0430\\u0448\", \"\\u0432\\u0435\\u0436\\u043b\\u0438\\u0432\\u044b\\u0439\", \"\\u0432\\u0435\\u0436\\u043b\\u0438\\u0432\\u044b\\u0439\", \"\\u0432\\u0435\\u0440\\u043d\\u0443\\u0442\\u044c\", \"\\u0432\\u0435\\u0440\\u043d\\u0443\\u0442\\u044c\", \"\\u0432\\u0435\\u0440\\u043d\\u0443\\u0442\\u044c\", \"\\u0432\\u0435\\u0441\\u044c\", \"\\u0432\\u0435\\u0441\\u044c\", \"\\u0432\\u0435\\u0441\\u044c\", \"\\u0432\\u0435\\u0441\\u044c\", \"\\u0432\\u0435\\u0441\\u044c\", \"\\u0432\\u0435\\u0441\\u044c\", \"\\u0432\\u0435\\u0447\\u0435\\u0440\", \"\\u0432\\u0437\\u044b\\u0441\\u043a\\u0430\\u043d\\u0438\\u0435\", \"\\u0432\\u0437\\u044b\\u0441\\u043a\\u0430\\u043d\\u0438\\u0435\", \"\\u0432\\u0437\\u044f\\u0442\\u044c\", \"\\u0432\\u0437\\u044f\\u0442\\u044c\", \"\\u0432\\u043a\\u043b\\u0430\\u0434\", \"\\u0432\\u043d\\u0435\\u0441\\u0442\\u0438\", \"\\u0432\\u043d\\u0435\\u0441\\u0442\\u0438\", \"\\u0432\\u043d\\u0435\\u0441\\u0442\\u0438\", \"\\u0432\\u043d\\u043e\\u0441\\u0438\\u0442\\u044c\", \"\\u0432\\u043d\\u044f\\u0442\\u043d\\u044b\\u0439\", \"\\u0432\\u043e\\u0437\\u0432\\u0440\\u0430\\u0442\", \"\\u0432\\u043e\\u0437\\u0432\\u0440\\u0430\\u0449\\u0430\\u0442\\u044c\\u0441\\u044f\", \"\\u0432\\u043e\\u043e\\u0431\\u0449\\u0435\", \"\\u0432\\u043e\\u043e\\u0431\\u0449\\u0435\", \"\\u0432\\u043e\\u043e\\u0431\\u0449\\u0435\", \"\\u0432\\u043e\\u043e\\u0431\\u0449\\u0435\", \"\\u0432\\u043e\\u043f\\u0440\\u043e\\u0441\", \"\\u0432\\u043e\\u043f\\u0440\\u043e\\u0441\", \"\\u0432\\u043e\\u043f\\u0440\\u043e\\u0441\", \"\\u0432\\u043e\\u043f\\u0440\\u043e\\u0441\", \"\\u0432\\u043e\\u0440\\u043e\\u0432\\u0430\\u0442\\u044c\", \"\\u0432\\u043e\\u0441\\u043f\\u043e\\u043b\\u044c\\u0437\\u043e\\u0432\\u0430\\u0442\\u044c\\u0441\\u044f\", \"\\u0432\\u043e\\u0441\\u043f\\u043e\\u043b\\u044c\\u0437\\u043e\\u0432\\u0430\\u0442\\u044c\\u0441\\u044f\", \"\\u0432\\u043e\\u0441\\u043f\\u043e\\u043b\\u044c\\u0437\\u043e\\u0432\\u0430\\u0442\\u044c\\u0441\\u044f\", \"\\u0432\\u0440\\u0435\\u043c\\u044f\", \"\\u0432\\u0440\\u0435\\u043c\\u044f\", \"\\u0432\\u0440\\u0435\\u043c\\u044f\", \"\\u0432\\u0447\\u0435\\u0440\\u0430\", \"\\u0432\\u0447\\u0435\\u0440\\u0430\", \"\\u0432\\u044b\\u0434\\u0430\\u0442\\u044c\", \"\\u0432\\u044b\\u0434\\u0430\\u0442\\u044c\", \"\\u0432\\u044b\\u0434\\u0430\\u0442\\u044c\", \"\\u0432\\u044b\\u0439\\u0442\\u0438\", \"\\u0432\\u044b\\u043f\\u0438\\u0441\\u043a\\u0430\", \"\\u0432\\u044b\\u0440\\u0430\\u0437\\u0438\\u0442\\u044c_\\u0431\\u043b\\u0430\\u0433\\u043e\\u0434\\u0430\\u0440\\u043d\\u043e\\u0441\\u0442\\u044c\", \"\\u0432\\u044b\\u0441\\u043e\\u043a\\u0438\\u0439\", \"\\u0433\\u043e\\u0432\\u043e\\u0440\\u0438\\u0442\\u044c\", \"\\u0433\\u043e\\u0432\\u043e\\u0440\\u0438\\u0442\\u044c\", \"\\u0433\\u043e\\u0432\\u043e\\u0440\\u0438\\u0442\\u044c\", \"\\u0433\\u043e\\u0432\\u043e\\u0440\\u0438\\u0442\\u044c\", \"\\u0433\\u043e\\u0432\\u043e\\u0440\\u0438\\u0442\\u044c\", \"\\u0433\\u043e\\u0434\", \"\\u0433\\u043e\\u0434\", \"\\u0433\\u043e\\u0434\", \"\\u0433\\u043e\\u0434\", \"\\u0433\\u043e\\u0434\", \"\\u0433\\u043e\\u0434\\u043e\\u0432\\u043e\\u0439\", \"\\u0433\\u043e\\u0434\\u043e\\u0432\\u043e\\u0439_\\u043e\\u0431\\u0441\\u043b\\u0443\\u0436\\u0438\\u0432\\u0430\\u043d\\u0438\\u0435\", \"\\u0433\\u043e\\u0440\\u0435\\u0442\\u044c\", \"\\u0433\\u043e\\u0440\\u043e\\u0434\\u0441\\u043a\\u043e\\u0439\", \"\\u0433\\u043e\\u0442\\u043e\\u0432\\u044b\\u0439\", \"\\u0433\\u0440\\u0430\\u0436\\u0434\\u0430\\u043d\\u0438\\u043d\", \"\\u0433\\u0440\\u0430\\u043c\\u043e\\u0442\\u043d\\u044b\\u0439\", \"\\u0433\\u0440\\u0430\\u0444\\u0438\\u043a\", \"\\u0433\\u0440\\u0443\\u0431\\u044b\\u0439\", \"\\u0434\\u0430\\u043d\\u043d\\u044b\\u0439\", \"\\u0434\\u0430\\u043d\\u043d\\u044b\\u0439\", \"\\u0434\\u0430\\u0442\\u0430\", \"\\u0434\\u0430\\u0442\\u044c\", \"\\u0434\\u0430\\u0442\\u044c\", \"\\u0434\\u0430\\u0442\\u044c\", \"\\u0434\\u0432\\u0435\\u0440\\u044c\", \"\\u0434\\u0435\\u0431\\u0435\\u0442\\u043e\\u0432\\u044b\\u0439\", \"\\u0434\\u0435\\u0431\\u0435\\u0442\\u043e\\u0432\\u044b\\u0439\", \"\\u0434\\u0435\\u0432\\u0443\\u0448\\u043a\\u0430\", \"\\u0434\\u0435\\u043a\\u0430\\u0431\\u0440\\u044c\", \"\\u0434\\u0435\\u043b\\u0430\\u0442\\u044c\", \"\\u0434\\u0435\\u043b\\u0430\\u0442\\u044c\", \"\\u0434\\u0435\\u043b\\u0430\\u0442\\u044c\", \"\\u0434\\u0435\\u043b\\u0430\\u0442\\u044c\", \"\\u0434\\u0435\\u043b\\u0430\\u0442\\u044c\", \"\\u0434\\u0435\\u043b\\u0430\\u0442\\u044c\", \"\\u0434\\u0435\\u043d\\u0435\\u0436\\u043a\\u0430\", \"\\u0434\\u0435\\u043d\\u0435\\u0436\\u043d\\u044b\\u0439_\\u0441\\u0440\\u0435\\u0434\\u0441\\u0442\\u0432\\u043e\", \"\\u0434\\u0435\\u043d\\u0435\\u0436\\u043d\\u044b\\u0439_\\u0441\\u0440\\u0435\\u0434\\u0441\\u0442\\u0432\\u043e\", \"\\u0434\\u0435\\u043d\\u044c\", \"\\u0434\\u0435\\u043d\\u044c\", \"\\u0434\\u0435\\u043d\\u044c\\u0433\\u0430\", \"\\u0434\\u0435\\u043d\\u044c\\u0433\\u0430\", \"\\u0434\\u0435\\u043d\\u044c\\u0433\\u0430\", \"\\u0434\\u0435\\u043d\\u044c\\u0433\\u0430\", \"\\u0434\\u0435\\u043f\\u043e\\u0437\\u0438\\u0442\", \"\\u0434\\u0435\\u0440\\u0436\\u0430\\u0442\\u044c\", \"\\u0434\\u0435\\u0442\\u0441\\u043a\\u0438\\u0439\", \"\\u0434\\u043e\\u0432\\u0435\\u0440\\u0435\\u043d\\u043d\\u043e\\u0441\\u0442\\u044c\", \"\\u0434\\u043e\\u0432\\u0435\\u0440\\u044f\\u0442\\u044c\", \"\\u0434\\u043e\\u0432\\u043e\\u043b\\u044c\\u043d\\u043e\", \"\\u0434\\u043e\\u0433\\u043e\\u0432\\u043e\\u0440\", \"\\u0434\\u043e\\u0433\\u043e\\u0432\\u043e\\u0440\", \"\\u0434\\u043e\\u0433\\u043e\\u0432\\u043e\\u0440\", \"\\u0434\\u043e\\u043a\\u0443\\u043c\\u0435\\u043d\\u0442\", \"\\u0434\\u043e\\u043a\\u0443\\u043c\\u0435\\u043d\\u0442\", \"\\u0434\\u043e\\u043b\\u0433\", \"\\u0434\\u043e\\u043b\\u0433\", \"\\u0434\\u043e\\u043b\\u0433\\u043e\", \"\\u0434\\u043e\\u043b\\u0436\\u043d\\u044b\\u0439\", \"\\u0434\\u043e\\u043b\\u0436\\u043d\\u044b\\u0439\", \"\\u0434\\u043e\\u043b\\u0436\\u043d\\u044b\\u0439\", \"\\u0434\\u043e\\u043c\\u043a\\u043b\\u0438\\u043a\", \"\\u0434\\u043e\\u0441\\u0440\\u043e\\u0447\\u043d\\u043e\", \"\\u0434\\u043e\\u0441\\u0442\\u0443\\u043f\\u043d\\u044b\\u0439\", \"\\u0434\\u043e\\u0445\\u043e\\u0434\", \"\\u0435\\u0432\\u0433\\u0435\\u043d\\u0438\\u0439\", \"\\u0435\\u0432\\u0440\\u043e\", \"\\u0435\\u0436\\u0435\\u043c\\u0435\\u0441\\u044f\\u0447\\u043d\\u043e\", \"\\u0435\\u0436\\u0435\\u043c\\u0435\\u0441\\u044f\\u0447\\u043d\\u044b\\u0439\", \"\\u0435\\u0436\\u0435\\u043c\\u0435\\u0441\\u044f\\u0447\\u043d\\u044b\\u0439_\\u043f\\u043b\\u0430\\u0442\\u0451\\u0436\", \"\\u0435\\u0437\\u0434\\u0438\\u0442\\u044c\", \"\\u0435\\u0449\\u0451\", \"\\u0435\\u0449\\u0451\", \"\\u0435\\u0449\\u0451\", \"\\u0435\\u0449\\u0451\", \"\\u0435\\u0451\", \"\\u0435\\u0451\", \"\\u0435\\u0451\", \"\\u0436\\u0434\\u0430\\u0442\\u044c\", \"\\u0436\\u0434\\u0430\\u0442\\u044c\", \"\\u0436\\u0434\\u0430\\u0442\\u044c\", \"\\u0436\\u0435\\u043d\\u0430\", \"\\u0436\\u0438\\u0437\\u043d\\u044c\", \"\\u0436\\u0438\\u0437\\u043d\\u044c\", \"\\u0436\\u0438\\u0442\\u044c\", \"\\u0436\\u0438\\u0442\\u044c\", \"\\u0437\\u0430\\u0431\\u043b\\u043e\\u043a\\u0438\\u0440\\u043e\\u0432\\u0430\\u0442\\u044c\", \"\\u0437\\u0430\\u0431\\u043b\\u043e\\u043a\\u0438\\u0440\\u043e\\u0432\\u0430\\u0442\\u044c\", \"\\u0437\\u0430\\u0431\\u044b\\u0442\\u044c\", \"\\u0437\\u0430\\u0432\\u0442\\u0440\\u0430\", \"\\u0437\\u0430\\u0434\\u043e\\u043b\\u0436\\u0435\\u043d\\u043d\\u043e\\u0441\\u0442\\u044c\", \"\\u0437\\u0430\\u0434\\u043e\\u043b\\u0436\\u043d\\u043e\\u0441\\u0442\\u044c\", \"\\u0437\\u0430\\u0439\\u0442\\u0438\", \"\\u0437\\u0430\\u043a\\u0440\\u044b\\u0432\\u0430\\u0442\\u044c\", \"\\u0437\\u0430\\u043b\", \"\\u0437\\u0430\\u043c\\u0435\\u0447\\u0430\\u043d\\u0438\\u0435\", \"\\u0437\\u0430\\u043d\\u0438\\u043c\\u0430\\u0442\\u044c\\u0441\\u044f\", \"\\u0437\\u0430\\u043f\\u0440\\u043e\\u0441\", \"\\u0437\\u0430\\u0440\\u043f\\u043b\\u0430\\u0442\\u0430\", \"\\u0437\\u0430\\u0440\\u043f\\u043b\\u0430\\u0442\\u0430\", \"\\u0437\\u0430\\u0440\\u043f\\u043b\\u0430\\u0442\\u043d\\u044b\\u0439\", \"\\u0437\\u0430\\u0440\\u043f\\u043b\\u0430\\u0442\\u043d\\u044b\\u0439\", \"\\u0437\\u0430\\u0440\\u043f\\u043b\\u0430\\u0442\\u043d\\u044b\\u0439\", \"\\u0437\\u0430\\u0447\\u0438\\u0441\\u043b\\u0435\\u043d\\u0438\\u0435\", \"\\u0437\\u0430\\u0447\\u0438\\u0441\\u043b\\u0435\\u043d\\u0438\\u0435\", \"\\u0437\\u0430\\u0447\\u0438\\u0441\\u043b\\u0438\\u0442\\u044c\", \"\\u0437\\u0430\\u044f\\u0432\\u043a\\u0430\", \"\\u0437\\u0430\\u044f\\u0432\\u043a\\u0430\", \"\\u0437\\u0430\\u044f\\u0432\\u043a\\u0430\", \"\\u0437\\u0430\\u044f\\u0432\\u043b\\u0435\\u043d\\u0438\\u0435\", \"\\u0437\\u0430\\u044f\\u0432\\u043b\\u0435\\u043d\\u0438\\u0435\", \"\\u0437\\u0432\\u043e\\u043d\\u043e\\u043a\", \"\\u0437\\u0432\\u043e\\u043d\\u043e\\u043a\", \"\\u0437\\u043d\\u0430\\u043a\\u043e\\u043c\\u044b\\u0439\", \"\\u0438\\u0434\\u0442\\u0438\", \"\\u0438\\u0434\\u0442\\u0438\", \"\\u0438\\u0434\\u0442\\u0438\", \"\\u0438\\u043c\\u0435\\u0442\\u044c\\u0441\\u044f\", \"\\u0438\\u043d\\u0444\\u043e\\u0440\\u043c\\u0430\\u0446\\u0438\\u044f\", \"\\u0438\\u043d\\u0444\\u043e\\u0440\\u043c\\u0430\\u0446\\u0438\\u044f\", \"\\u0438\\u043f\\u043e\\u0442\\u0435\\u043a\\u0430\", \"\\u0438\\u043f\\u043e\\u0442\\u0435\\u0447\\u043d\\u044b\\u0439\", \"\\u0438\\u0441\\u043f\\u0440\\u0430\\u0432\\u0438\\u0442\\u044c\", \"\\u0438\\u0441\\u0442\\u043e\\u0440\\u0438\\u044f\", \"\\u0438\\u0441\\u0442\\u043e\\u0440\\u0438\\u044f\", \"\\u0438\\u044e\\u043b\\u044c\", \"\\u043a\\u0430\\u0440\\u0442\\u0430\", \"\\u043a\\u0430\\u0440\\u0442\\u0430\", \"\\u043a\\u0430\\u0440\\u0442\\u0430\", \"\\u043a\\u0430\\u0440\\u0442\\u0430\", \"\\u043a\\u0430\\u0440\\u0442\\u043e\\u0447\\u043a\\u0430\", \"\\u043a\\u0430\\u0441\\u0441\\u0430\", \"\\u043a\\u0430\\u0441\\u0441\\u0438\\u0440\", \"\\u043a\\u0430\\u0447\\u0435\\u0441\\u0442\\u0432\\u043e_\\u043e\\u0431\\u0441\\u043b\\u0443\\u0436\\u0438\\u0432\\u0430\\u043d\\u0438\\u0435\", \"\\u043a\\u0432\\u0430\\u0440\\u0442\\u0438\\u0440\\u0430\", \"\\u043a\\u0432\\u0438\\u0442\\u0430\\u043d\\u0446\\u0438\\u044f\", \"\\u043a\\u043b\\u0430\\u0441\\u0442\\u044c\", \"\\u043a\\u043b\\u0438\\u0435\\u043d\\u0442\", \"\\u043a\\u043b\\u0438\\u0435\\u043d\\u0442\", \"\\u043a\\u043b\\u0438\\u0435\\u043d\\u0442\", \"\\u043a\\u043b\\u0438\\u0435\\u043d\\u0442\", \"\\u043a\\u043b\\u0438\\u0435\\u043d\\u0442\", \"\\u043a\\u043d\\u0438\\u0436\\u043a\\u0430\", \"\\u043a\\u043e\\u0434\\u043e\\u0432\\u044b\\u0439_\\u0441\\u043b\\u043e\\u0432\\u043e\", \"\\u043a\\u043e\\u043c\\u0438\\u0441\\u0441\\u0438\\u044f\", \"\\u043a\\u043e\\u043c\\u0438\\u0441\\u0441\\u0438\\u044f\", \"\\u043a\\u043e\\u043d\\u0441\\u0443\\u043b\\u044c\\u0442\\u0430\\u043d\\u0442\", \"\\u043a\\u043e\\u043d\\u0442\\u0440\\u043e\\u043b\\u044c\\u043d\\u044b\\u0439\", \"\\u043a\\u043e\\u043f\\u0435\\u0439\\u043a\\u0430\", \"\\u043a\\u043e\\u043f\\u0438\\u044f\", \"\\u043a\\u043e\\u043f\\u0438\\u044f\", \"\\u043a\\u043e\\u0442\\u043e\\u0440\\u044b\\u0439\", \"\\u043a\\u043e\\u0442\\u043e\\u0440\\u044b\\u0439\", \"\\u043a\\u043e\\u0442\\u043e\\u0440\\u044b\\u0439\", \"\\u043a\\u043e\\u0442\\u043e\\u0440\\u044b\\u0439\", \"\\u043a\\u043e\\u0442\\u043e\\u0440\\u044b\\u0439\", \"\\u043a\\u0440\\u0430\\u0441\\u043d\\u043e\\u0434\\u0430\\u0440\", \"\\u043a\\u0440\\u0435\\u0434\\u0438\\u0442\", \"\\u043a\\u0440\\u0435\\u0434\\u0438\\u0442\", \"\\u043a\\u0440\\u0435\\u0434\\u0438\\u0442\\u043d\\u044b\\u0439\", \"\\u043a\\u0442\\u043e\\u0442\\u044c\", \"\\u043a\\u0443\\u043f\\u044e\\u0440\\u0430\", \"\\u043b\\u0438\\u043c\\u0438\\u0442\", \"\\u043b\\u0438\\u0447\\u043d\\u044b\\u0439_\\u043a\\u0430\\u0431\\u0438\\u043d\\u0435\\u0442\", \"\\u043c\\u0430\\u0439\", \"\\u043c\\u0430\\u0439\", \"\\u043c\\u0430\\u043b\\u044b\\u0439\", \"\\u043c\\u0430\\u0440\\u0438\\u044f\", \"\\u043c\\u0435\\u043b\\u043a\\u0438\\u0439\", \"\\u043c\\u0435\\u043d\\u0435\\u0434\\u0436\\u0435\\u0440\", \"\\u043c\\u0435\\u0441\\u044f\\u0446\", \"\\u043c\\u0435\\u0441\\u044f\\u0446\", \"\\u043c\\u0435\\u0441\\u044f\\u0446\", \"\\u043c\\u0438\\u043d\\u0443\\u0442\\u0430\", \"\\u043c\\u043e\\u0431\\u0438\\u043b\\u044c\\u043d\\u044b\\u0439\", \"\\u043c\\u043e\\u043b\\u043e\\u0434\\u043e\\u0439\", \"\\u043c\\u043e\\u0447\\u044c\", \"\\u043c\\u043e\\u0447\\u044c\", \"\\u043c\\u043e\\u0447\\u044c\", \"\\u043c\\u043e\\u0447\\u044c\", \"\\u043c\\u043e\\u0447\\u044c\", \"\\u043c\\u043e\\u0448\\u0435\\u043d\\u043d\\u0438\\u043a\", \"\\u043d\\u0430\\u0431\\u0438\\u0440\\u0430\\u0442\\u044c\", \"\\u043d\\u0430\\u0431\\u043b\\u044e\\u0434\\u0430\\u0442\\u044c\", \"\\u043d\\u0430\\u0432\\u044f\\u0437\\u0430\\u0442\\u044c\", \"\\u043d\\u0430\\u043b\\u0438\\u0447\\u043d\\u044b\\u0439\", \"\\u043d\\u0430\\u043f\\u0438\\u0441\\u0430\\u0442\\u044c\", \"\\u043d\\u0430\\u043f\\u0438\\u0441\\u0430\\u0442\\u044c\", \"\\u043d\\u0430\\u043f\\u0438\\u0441\\u0430\\u0442\\u044c\", \"\\u043d\\u0430\\u0447\\u0430\\u043b\\u044c\\u043d\\u0438\\u043a\", \"\\u043d\\u0430\\u0448\", \"\\u043d\\u0430\\u0448\", \"\\u043d\\u0430\\u0448\", \"\\u043d\\u0430\\u0448\", \"\\u043d\\u0435\\u043a\\u043e\\u0442\\u043e\\u0440\\u044b\\u0439\", \"\\u043d\\u0435\\u043a\\u043e\\u0442\\u043e\\u0440\\u044b\\u0439\", \"\\u043d\\u0435\\u043a\\u043e\\u0442\\u043e\\u0440\\u044b\\u0439\", \"\\u043d\\u0435\\u043f\\u0440\\u0430\\u0432\\u0438\\u043b\\u044c\\u043d\\u043e\", \"\\u043d\\u0438\\u043a\\u0430\\u043a\\u043e\\u0439\", \"\\u043d\\u0438\\u043a\\u0430\\u043a\\u043e\\u0439\", \"\\u043d\\u0438\\u043a\\u0430\\u043a\\u043e\\u0439\", \"\\u043d\\u0438\\u043a\\u0443\\u0434\\u0430\", \"\\u043d\\u043e\\u0432\\u044b\\u0439\", \"\\u043d\\u043e\\u0432\\u044b\\u0439\", \"\\u043d\\u043e\\u0432\\u044b\\u0439\", \"\\u043d\\u043e\\u0432\\u044b\\u0439\", \"\\u043d\\u043e\\u043c\\u0435\\u0440\", \"\\u043d\\u043e\\u043c\\u0435\\u0440\", \"\\u043d\\u043e\\u043c\\u0435\\u0440\", \"\\u043d\\u043e\\u043c\\u0435\\u0440\", \"\\u043d\\u043e\\u043c\\u0435\\u0440\", \"\\u043d\\u0443\\u0436\\u043d\\u044b\\u0439\", \"\\u043d\\u0443\\u0436\\u043d\\u044b\\u0439\", \"\\u043d\\u0443\\u0436\\u043d\\u044b\\u0439\", \"\\u043d\\u0443\\u0436\\u043d\\u044b\\u0439\", \"\\u043e\\u0431\\u0435\\u0441\\u043f\\u0435\\u0447\\u0438\\u0442\\u044c\", \"\\u043e\\u0431\\u0435\\u0449\\u0430\\u0442\\u044c\", \"\\u043e\\u0431\\u0440\\u0430\\u0437\", \"\\u043e\\u0431\\u0440\\u0430\\u0437\", \"\\u043e\\u0431\\u0440\\u0430\\u0442\\u0438\\u0442\\u044c_\\u0432\\u043d\\u0438\\u043c\\u0430\\u043d\\u0438\\u0435\", \"\\u043e\\u0431\\u0440\\u0430\\u0442\\u0438\\u0442\\u044c\\u0441\\u044f\", \"\\u043e\\u0431\\u0440\\u0430\\u0442\\u0438\\u0442\\u044c\\u0441\\u044f\", \"\\u043e\\u0431\\u0440\\u0430\\u0449\\u0435\\u043d\\u0438\\u0435\", \"\\u043e\\u0431\\u0441\\u043b\\u0443\\u0436\\u0438\\u0432\\u0430\\u043d\\u0438\\u0435\", \"\\u043e\\u0431\\u0441\\u043b\\u0443\\u0436\\u0438\\u0432\\u0430\\u043d\\u0438\\u0435\", \"\\u043e\\u0431\\u0441\\u043b\\u0443\\u0436\\u0438\\u0432\\u0430\\u043d\\u0438\\u0435\", \"\\u043e\\u0431\\u0441\\u043b\\u0443\\u0436\\u0438\\u0432\\u0430\\u0442\\u044c\", \"\\u043e\\u0431\\u0449\\u0435\\u043d\\u0438\\u0435\", \"\\u043e\\u0431\\u044a\\u0435\\u043a\\u0442\", \"\\u043e\\u0431\\u044a\\u044f\\u0441\\u043d\\u0438\\u0442\\u044c\", \"\\u043e\\u0431\\u044a\\u044f\\u0441\\u043d\\u0438\\u0442\\u044c\", \"\\u043e\\u0431\\u044a\\u044f\\u0441\\u043d\\u0438\\u0442\\u044c\", \"\\u043e\\u0431\\u044a\\u044f\\u0441\\u043d\\u0438\\u0442\\u044c\", \"\\u043e\\u0431\\u044a\\u044f\\u0441\\u043d\\u044f\\u0442\\u044c\", \"\\u043e\\u0431\\u044a\\u044f\\u0441\\u043d\\u044f\\u0442\\u044c\", \"\\u043e\\u0431\\u044a\\u044f\\u0441\\u043d\\u044f\\u0442\\u044c\", \"\\u043e\\u0431\\u044f\\u0437\\u0430\\u0442\\u0435\\u043b\\u044c\\u043d\\u044b\\u0439\", \"\\u043e\\u0431\\u044f\\u0437\\u0430\\u0442\\u044c\", \"\\u043e\\u0434\\u043e\\u0431\\u0440\\u0435\\u043d\\u0438\\u0435\", \"\\u043e\\u0434\\u043e\\u0431\\u0440\\u0438\\u0442\\u044c\", \"\\u043e\\u0434\\u043e\\u0431\\u0440\\u0438\\u0442\\u044c\", \"\\u043e\\u043a\\u043d\\u043e\", \"\\u043e\\u043a\\u043e\\u043d\\u0447\\u0430\\u043d\\u0438\\u0435\", \"\\u043e\\u043a\\u043e\\u0448\\u043a\\u043e\", \"\\u043e\\u043d\\u043b\\u0430\\u0439\\u043d\", \"\\u043e\\u043d\\u043b\\u0430\\u0439\\u043d\", \"\\u043e\\u043d\\u043b\\u0430\\u0439\\u043d\", \"\\u043e\\u043f\\u0435\\u0440\\u0430\\u0442\\u0438\\u0432\\u043d\\u043e\", \"\\u043e\\u043f\\u0435\\u0440\\u0430\\u0442\\u043e\\u0440\", \"\\u043e\\u043f\\u0435\\u0440\\u0430\\u0442\\u043e\\u0440\", \"\\u043e\\u043f\\u0435\\u0440\\u0430\\u0442\\u043e\\u0440\", \"\\u043e\\u043f\\u0435\\u0440\\u0430\\u0446\\u0438\\u043e\\u043d\\u0438\\u0441\\u0442\\u043a\\u0430\", \"\\u043e\\u043f\\u0435\\u0440\\u0430\\u0446\\u0438\\u043e\\u043d\\u0438\\u0441\\u0442\\u043a\\u0430\", \"\\u043e\\u043f\\u0435\\u0440\\u0430\\u0446\\u0438\\u044f\", \"\\u043e\\u043f\\u0435\\u0440\\u0430\\u0446\\u0438\\u044f\", \"\\u043e\\u043f\\u0435\\u0440\\u0430\\u0446\\u0438\\u044f\", \"\\u043e\\u043f\\u0435\\u0440\\u0430\\u0446\\u0438\\u044f\", \"\\u043e\\u043f\\u043b\\u0430\\u0447\\u0438\\u0432\\u0430\\u0442\\u044c\", \"\\u043e\\u043f\\u043b\\u0430\\u0447\\u0438\\u0432\\u0430\\u0442\\u044c\", \"\\u043e\\u0440\\u0433\\u0430\\u043d\", \"\\u043e\\u0440\\u0433\\u0430\\u043d\\u0438\\u0437\\u0430\\u0446\\u0438\\u044f\", \"\\u043e\\u0442\\u0432\\u0435\\u0442\", \"\\u043e\\u0442\\u0432\\u0435\\u0442\", \"\\u043e\\u0442\\u0432\\u0440\\u0430\\u0442\\u0438\\u0442\\u0435\\u043b\\u044c\\u043d\\u044b\\u0439\", \"\\u043e\\u0442\\u0434\\u0430\\u0432\\u0430\\u0442\\u044c\", \"\\u043e\\u0442\\u0434\\u0430\\u0432\\u0430\\u0442\\u044c\", \"\\u043e\\u0442\\u0434\\u0435\\u043b\\u0435\\u043d\\u0438\\u0435\", \"\\u043e\\u0442\\u0434\\u0435\\u043b\\u0435\\u043d\\u0438\\u0435\", \"\\u043e\\u0442\\u0434\\u0435\\u043b\\u0435\\u043d\\u0438\\u0435\", \"\\u043e\\u0442\\u0435\\u0446\", \"\\u043e\\u0442\\u0435\\u0446\", \"\\u043e\\u0442\\u043a\\u0430\\u0437\", \"\\u043e\\u0442\\u043a\\u0430\\u0437\", \"\\u043e\\u0442\\u043a\\u043b\\u044e\\u0447\\u0438\\u0442\\u044c\", \"\\u043e\\u0442\\u043a\\u0440\\u044b\\u0442\\u044c\", \"\\u043e\\u0442\\u043a\\u0440\\u044b\\u0442\\u044c\", \"\\u043e\\u0442\\u043d\\u043e\\u0448\\u0435\\u043d\\u0438\\u0435\", \"\\u043e\\u0442\\u043d\\u043e\\u0448\\u0435\\u043d\\u0438\\u0435\", \"\\u043e\\u0442\\u043d\\u043e\\u0448\\u0435\\u043d\\u0438\\u0435\", \"\\u043e\\u0442\\u043d\\u043e\\u0448\\u0435\\u043d\\u0438\\u0435\", \"\\u043e\\u0442\\u0440\\u0438\\u0446\\u0430\\u0442\\u0435\\u043b\\u044c\\u043d\\u044b\\u0439\", \"\\u043e\\u0442\\u0447\\u0451\\u0442\", \"\\u043e\\u0444\\u0438\\u0441\", \"\\u043e\\u0444\\u0438\\u0441\", \"\\u043e\\u0444\\u0438\\u0441\", \"\\u043e\\u0444\\u043e\\u0440\\u043c\\u0438\\u0442\\u044c\", \"\\u043e\\u0444\\u043e\\u0440\\u043c\\u0438\\u0442\\u044c\", \"\\u043e\\u0444\\u043e\\u0440\\u043c\\u0438\\u0442\\u044c\", \"\\u043e\\u0444\\u043e\\u0440\\u043c\\u0438\\u0442\\u044c\", \"\\u043e\\u0444\\u043e\\u0440\\u043c\\u043b\\u0435\\u043d\\u0438\\u0435\", \"\\u043e\\u0444\\u043e\\u0440\\u043c\\u043b\\u0435\\u043d\\u0438\\u0435\", \"\\u043e\\u0444\\u043e\\u0440\\u043c\\u043b\\u044f\\u0442\\u044c\", \"\\u043e\\u0444\\u043e\\u0440\\u043c\\u043b\\u044f\\u0442\\u044c\", \"\\u043e\\u0447\\u0435\\u043d\\u044c\", \"\\u043e\\u0447\\u0435\\u043d\\u044c\", \"\\u043e\\u0447\\u0435\\u043d\\u044c\", \"\\u043e\\u0447\\u0435\\u043d\\u044c\", \"\\u043e\\u0447\\u0435\\u043d\\u044c\", \"\\u043e\\u0447\\u0435\\u0440\\u0435\\u0434\\u044c\", \"\\u043e\\u0448\\u0438\\u0431\\u043a\\u0430\", \"\\u043e\\u0448\\u0438\\u0431\\u043a\\u0430\", \"\\u043e\\u0449\\u0443\\u0449\\u0435\\u043d\\u0438\\u0435\", \"\\u043f\\u0430\\u043e\", \"\\u043f\\u0430\\u0441\\u043f\\u043e\\u0440\\u0442\", \"\\u043f\\u0430\\u0441\\u043f\\u043e\\u0440\\u0442\\u043d\\u044b\\u0439\", \"\\u043f\\u0435\\u043d\\u0441\\u0438\\u043e\\u043d\\u043d\\u044b\\u0439\", \"\\u043f\\u0435\\u043d\\u0441\\u0438\\u044f\", \"\\u043f\\u0435\\u043d\\u0441\\u0438\\u044f\", \"\\u043f\\u0435\\u0440\\u0435\\u0432\\u0435\\u0441\\u0442\\u0438\", \"\\u043f\\u0435\\u0440\\u0435\\u0432\\u0435\\u0441\\u0442\\u0438\", \"\\u043f\\u0435\\u0440\\u0435\\u0432\\u0435\\u0441\\u0442\\u0438\", \"\\u043f\\u0435\\u0440\\u0435\\u0432\\u043e\\u0434\", \"\\u043f\\u0435\\u0440\\u0435\\u0432\\u043e\\u0434\\u0438\\u0442\\u044c\", \"\\u043f\\u0435\\u0440\\u0435\\u0439\\u0442\\u0438\", \"\\u043f\\u0435\\u0440\\u0441\\u043e\\u043d\\u0430\\u043b\", \"\\u043f\\u0435\\u0440\\u0441\\u043e\\u043d\\u0430\\u043b\\u044c\\u043d\\u044b\\u0439\", \"\\u043f\\u043b\\u0430\\u0442\\u0438\\u0442\\u044c\", \"\\u043f\\u043b\\u0430\\u0442\\u0438\\u0442\\u044c\", \"\\u043f\\u043b\\u0430\\u0442\\u0438\\u0442\\u044c\", \"\\u043f\\u043b\\u0430\\u0442\\u0438\\u0442\\u044c\", \"\\u043f\\u043b\\u0430\\u0442\\u0451\\u0436\", \"\\u043f\\u043b\\u0430\\u0442\\u0451\\u0436\", \"\\u043f\\u043b\\u0430\\u0442\\u0451\\u0436\", \"\\u043f\\u043e\\u0433\\u0430\\u0441\\u0438\\u0442\\u044c\", \"\\u043f\\u043e\\u0433\\u0430\\u0448\\u0435\\u043d\\u0438\\u0435\", \"\\u043f\\u043e\\u0434\\u043a\\u043b\\u044e\\u0447\\u0430\\u0442\\u044c\", \"\\u043f\\u043e\\u0434\\u043a\\u043b\\u044e\\u0447\\u0438\\u0442\\u044c\", \"\\u043f\\u043e\\u0434\\u043e\\u0439\\u0442\\u0438\", \"\\u043f\\u043e\\u0434\\u043f\\u0438\\u0441\\u0430\\u043d\\u0438\\u0435\", \"\\u043f\\u043e\\u0434\\u043f\\u0438\\u0441\\u0430\\u0442\\u044c\", \"\\u043f\\u043e\\u0434\\u043f\\u0438\\u0441\\u044c\", \"\\u043f\\u043e\\u0434\\u043f\\u0438\\u0441\\u044c\", \"\\u043f\\u043e\\u0434\\u0440\\u043e\\u0431\\u043d\\u043e\", \"\\u043f\\u043e\\u0434\\u0442\\u0432\\u0435\\u0440\\u0434\\u0438\\u0442\\u044c\", \"\\u043f\\u043e\\u0439\\u0442\\u0438\", \"\\u043f\\u043e\\u0439\\u0442\\u0438\", \"\\u043f\\u043e\\u0439\\u0442\\u0438\", \"\\u043f\\u043e\\u043a\\u0430\\u0437\\u044b\\u0432\\u0430\\u0442\\u044c\", \"\\u043f\\u043e\\u043b\\u043d\\u044b\\u0439_\\u043e\\u0431\\u044a\\u0451\\u043c\", \"\\u043f\\u043e\\u043b\\u043e\\u0436\\u0438\\u0442\\u044c\", \"\\u043f\\u043e\\u043b\\u0443\\u0447\\u0438\\u0442\\u044c\", \"\\u043f\\u043e\\u043b\\u0443\\u0447\\u0438\\u0442\\u044c\", \"\\u043f\\u043e\\u043b\\u0443\\u0447\\u0438\\u0442\\u044c\", \"\\u043f\\u043e\\u043b\\u044c\\u0437\\u043e\\u0432\\u0430\\u0442\\u044c\\u0441\\u044f\", \"\\u043f\\u043e\\u043b\\u044c\\u0437\\u043e\\u0432\\u0430\\u0442\\u044c\\u0441\\u044f\", \"\\u043f\\u043e\\u043b\\u044c\\u0437\\u043e\\u0432\\u0430\\u0442\\u044c\\u0441\\u044f\", \"\\u043f\\u043e\\u043b\\u044c\\u0437\\u043e\\u0432\\u0430\\u0442\\u044c\\u0441\\u044f\", \"\\u043f\\u043e\\u043c\\u0435\\u043d\\u044f\\u0442\\u044c\", \"\\u043f\\u043e\\u043c\\u043e\\u0449\\u044c\", \"\\u043f\\u043e\\u043c\\u043e\\u0449\\u044c\", \"\\u043f\\u043e\\u043c\\u043e\\u0449\\u044c\", \"\\u043f\\u043e\\u043c\\u043e\\u0449\\u044c\", \"\\u043f\\u043e\\u043d\\u0430\\u0434\\u043e\\u0431\\u0438\\u0442\\u044c\\u0441\\u044f\", \"\\u043f\\u043e\\u043d\\u0435\\u0434\\u0435\\u043b\\u044c\\u043d\\u0438\\u043a\", \"\\u043f\\u043e\\u043d\\u0438\\u043c\\u0430\\u0442\\u044c\", \"\\u043f\\u043e\\u043f\\u043e\\u043b\\u043d\\u0438\\u0442\\u044c\", \"\\u043f\\u043e\\u043f\\u0440\\u043e\\u0431\\u043e\\u0432\\u0430\\u0442\\u044c\", \"\\u043f\\u043e\\u0441\\u0442\\u0443\\u043f\\u0438\\u0442\\u044c\", \"\\u043f\\u043e\\u0441\\u0442\\u0443\\u043f\\u0438\\u0442\\u044c\", \"\\u043f\\u043e\\u0442\\u0440\\u0430\\u0442\\u0438\\u0442\\u044c\", \"\\u043f\\u043e\\u0442\\u0440\\u0435\\u0431\\u0438\\u0442\\u0435\\u043b\\u044c\\u0441\\u043a\\u0438\\u0439\", \"\\u043f\\u043e\\u044f\\u0432\\u043b\\u044f\\u0442\\u044c\\u0441\\u044f\", \"\\u043f\\u0440\", \"\\u043f\\u0440\\u0430\\u0432\\u043e\", \"\\u043f\\u0440\\u0435\\u0434\\u043b\\u043e\\u0436\\u0435\\u043d\\u0438\\u0435\", \"\\u043f\\u0440\\u0435\\u0434\\u043b\\u043e\\u0436\\u0435\\u043d\\u0438\\u0435\", \"\\u043f\\u0440\\u0435\\u0434\\u043b\\u043e\\u0436\\u0435\\u043d\\u0438\\u0435\", \"\\u043f\\u0440\\u0435\\u0434\\u043b\\u043e\\u0436\\u0438\\u0442\\u044c\", \"\\u043f\\u0440\\u0435\\u0434\\u043b\\u043e\\u0436\\u0438\\u0442\\u044c\", \"\\u043f\\u0440\\u0435\\u0434\\u043b\\u043e\\u0436\\u0438\\u0442\\u044c\", \"\\u043f\\u0440\\u0435\\u0434\\u043b\\u043e\\u0436\\u0438\\u0442\\u044c\", \"\\u043f\\u0440\\u0435\\u0434\\u043e\\u0441\\u0442\\u0430\\u0432\\u0438\\u0442\\u044c\", \"\\u043f\\u0440\\u0435\\u0442\\u0435\\u043d\\u0437\\u0438\\u044f\", \"\\u043f\\u0440\\u0435\\u0442\\u0435\\u043d\\u0437\\u0438\\u044f\", \"\\u043f\\u0440\\u0438\\u0432\\u044f\\u0437\\u0430\\u0442\\u044c\", \"\\u043f\\u0440\\u0438\\u0439\\u0442\\u0438\", \"\\u043f\\u0440\\u0438\\u0439\\u0442\\u0438\", \"\\u043f\\u0440\\u0438\\u043b\\u043e\\u0436\\u0435\\u043d\\u0438\\u0435\", \"\\u043f\\u0440\\u0438\\u043b\\u043e\\u0436\\u0435\\u043d\\u0438\\u0435\", \"\\u043f\\u0440\\u0438\\u043b\\u043e\\u0436\\u0435\\u043d\\u0438\\u0435\", \"\\u043f\\u0440\\u0438\\u043d\\u0438\\u043c\\u0430\\u0442\\u044c\", \"\\u043f\\u0440\\u0438\\u043d\\u0438\\u043c\\u0430\\u0442\\u044c\", \"\\u043f\\u0440\\u0438\\u043d\\u044f\\u0442\\u044c\", \"\\u043f\\u0440\\u0438\\u043d\\u044f\\u0442\\u044c\", \"\\u043f\\u0440\\u0438\\u043d\\u044f\\u0442\\u044c\", \"\\u043f\\u0440\\u0438\\u043d\\u044f\\u0442\\u044c_\\u043c\\u0435\\u0440\\u0430\", \"\\u043f\\u0440\\u0438\\u0441\\u0432\\u043e\\u0438\\u0442\\u044c\", \"\\u043f\\u0440\\u0438\\u0441\\u0442\\u0430\\u0432\", \"\\u043f\\u0440\\u043e\\u0432\\u0435\\u0440\\u043a\\u0430\", \"\\u043f\\u0440\\u043e\\u0433\\u0440\\u0430\\u043c\\u043c\\u0430\", \"\\u043f\\u0440\\u043e\\u0433\\u0440\\u0430\\u043c\\u043c\\u0430\", \"\\u043f\\u0440\\u043e\\u0433\\u0440\\u0430\\u043c\\u043c\\u0430\", \"\\u043f\\u0440\\u043e\\u0434\\u0430\\u0436\\u0430\", \"\\u043f\\u0440\\u043e\\u0438\\u0437\\u043e\\u0439\\u0442\\u0438\", \"\\u043f\\u0440\\u043e\\u0438\\u0437\\u043e\\u0439\\u0442\\u0438\", \"\\u043f\\u0440\\u043e\\u0438\\u0437\\u043e\\u0439\\u0442\\u0438_\\u0441\\u0431\\u043e\\u0439\", \"\\u043f\\u0440\\u043e\\u043f\\u0430\\u0441\\u0442\\u044c\", \"\\u043f\\u0440\\u043e\\u0441\\u0440\\u043e\\u0447\\u0438\\u0442\\u044c\", \"\\u043f\\u0440\\u043e\\u0441\\u0440\\u043e\\u0447\\u043a\\u0430\", \"\\u043f\\u0440\\u043e\\u0446\\u0435\\u043d\\u0442\", \"\\u043f\\u0440\\u043e\\u0446\\u0435\\u043d\\u0442\\u043d\\u044b\\u0439_\\u0441\\u0442\\u0430\\u0432\\u043a\\u0430\", \"\\u043f\\u0440\\u043e\\u0447\\u0438\\u0442\\u0430\\u0442\\u044c\", \"\\u043f\\u0440\\u044f\\u043c\\u043e\\u0439\", \"\\u0440\", \"\\u0440\\u0430\\u0431\\u043e\\u0442\\u0430\", \"\\u0440\\u0430\\u0431\\u043e\\u0442\\u0430\", \"\\u0440\\u0430\\u0431\\u043e\\u0442\\u0430\", \"\\u0440\\u0430\\u0431\\u043e\\u0442\\u0430\", \"\\u0440\\u0430\\u0431\\u043e\\u0442\\u0430\", \"\\u0440\\u0430\\u0431\\u043e\\u0442\\u0430\\u0442\\u044c\", \"\\u0440\\u0430\\u0431\\u043e\\u0442\\u0430\\u0442\\u044c\", \"\\u0440\\u0430\\u0431\\u043e\\u0442\\u0430\\u0442\\u044c\", \"\\u0440\\u0430\\u0431\\u043e\\u0442\\u043d\\u0438\\u043a\", \"\\u0440\\u0430\\u0431\\u043e\\u0442\\u043d\\u0438\\u043a\", \"\\u0440\\u0430\\u0437\\u0431\\u0438\\u0440\\u0430\\u0442\\u0435\\u043b\\u044c\\u0441\\u0442\\u0432\\u043e\", \"\\u0440\\u0430\\u0437\\u0431\\u043b\\u043e\\u043a\\u0438\\u0440\\u043e\\u0432\\u0430\\u0442\\u044c\", \"\\u0440\\u0430\\u0437\\u0433\\u043e\\u0432\\u0430\\u0440\\u0438\\u0432\\u0430\\u0442\\u044c\", \"\\u0440\\u0430\\u0437\\u043e\\u0431\\u0440\\u0430\\u0442\\u044c\\u0441\\u044f\", \"\\u0440\\u0430\\u0437\\u043e\\u0431\\u0440\\u0430\\u0442\\u044c\\u0441\\u044f\", \"\\u0440\\u0430\\u043d\\u043d\\u0438\\u0439\", \"\\u0440\\u0430\\u043d\\u043d\\u0438\\u0439\", \"\\u0440\\u0430\\u043d\\u043d\\u0438\\u0439\", \"\\u0440\\u0430\\u0441\\u0441\\u043c\\u043e\\u0442\\u0440\\u0435\\u043d\\u0438\\u0435\", \"\\u0440\\u0430\\u0441\\u0447\\u0451\\u0442\\u043d\\u044b\\u0439\", \"\\u0440\\u0435\\u0430\\u043a\\u0446\\u0438\\u044f\", \"\\u0440\\u0435\\u0436\\u0438\\u043c\", \"\\u0440\\u0435\\u0437\\u0443\\u043b\\u044c\\u0442\\u0430\\u0442\", \"\\u0440\\u043e\\u0441\\u0441\\u0438\\u0439\\u0441\\u043a\\u0438\\u0439\", \"\\u0440\\u0443\\u0431\", \"\\u0440\\u0443\\u0431\", \"\\u0440\\u0443\\u0431\", \"\\u0440\\u0443\\u0431\\u043b\\u044c\", \"\\u0440\\u0443\\u0431\\u043b\\u044c\", \"\\u0440\\u0443\\u0431\\u043b\\u044c\", \"\\u0440\\u0443\\u043a\\u043e\\u0432\\u043e\\u0434\\u0438\\u0442\\u0435\\u043b\\u044c\", \"\\u0440\\u0443\\u043a\\u043e\\u0432\\u043e\\u0434\\u0438\\u0442\\u0435\\u043b\\u044c\", \"\\u0440\\u0443\\u043a\\u043e\\u0432\\u043e\\u0434\\u0441\\u0442\\u0432\\u043e\", \"\\u0440\\u0443\\u043a\\u043e\\u0432\\u043e\\u0434\\u0441\\u0442\\u0432\\u043e\", \"\\u0440\\u0443\\u043a\\u043e\\u0432\\u043e\\u0434\\u0441\\u0442\\u0432\\u043e\", \"\\u0440\\u044f\\u0434\", \"\\u0441\\u0430\\u0439\\u0442\", \"\\u0441\\u0430\\u0439\\u0442\", \"\\u0441\\u0431\\u0435\\u0440\", \"\\u0441\\u0431\\u0435\\u0440\", \"\\u0441\\u0431\\u0435\\u0440\", \"\\u0441\\u0431\\u0435\\u0440\\u0431\\u0430\\u043d\\u043a\", \"\\u0441\\u0431\\u0435\\u0440\\u0431\\u0430\\u043d\\u043a\", \"\\u0441\\u0431\\u0435\\u0440\\u0431\\u0430\\u043d\\u043a\", \"\\u0441\\u0431\\u0435\\u0440\\u0431\\u0430\\u043d\\u043a\", \"\\u0441\\u0431\\u0435\\u0440\\u0431\\u0430\\u043d\\u043a\", \"\\u0441\\u0431\\u0435\\u0440\\u0431\\u0430\\u043d\\u043a\", \"\\u0441\\u0431\\u0435\\u0440\\u0431\\u0430\\u043d\\u043a\", \"\\u0441\\u0431\\u043e\\u0439\", \"\\u0441\\u0432\\u043e\\u0439\", \"\\u0441\\u0432\\u043e\\u0439\", \"\\u0441\\u0432\\u043e\\u0439\", \"\\u0441\\u0432\\u043e\\u0439\", \"\\u0441\\u0432\\u043e\\u0439\", \"\\u0441\\u0432\\u043e\\u0439\", \"\\u0441\\u0434\\u0430\\u0442\\u044c\", \"\\u0441\\u0434\\u0430\\u0447\\u0430\", \"\\u0441\\u0434\\u0435\\u043b\\u0430\\u0442\\u044c\", \"\\u0441\\u0434\\u0435\\u043b\\u0430\\u0442\\u044c\", \"\\u0441\\u0434\\u0435\\u043b\\u0430\\u0442\\u044c\", \"\\u0441\\u0434\\u0435\\u043b\\u043a\\u0430\", \"\\u0441\\u0435\\u0433\\u043e\\u0434\\u043d\\u044f\", \"\\u0441\\u0435\\u0433\\u043e\\u0434\\u043d\\u044f\", \"\\u0441\\u0435\\u0433\\u043e\\u0434\\u043d\\u044f\", \"\\u0441\\u0435\\u0439_\\u043f\\u043e\\u0440\\u0430\", \"\\u0441\\u0435\\u0440\\u0442\\u0438\\u0444\\u0438\\u043a\\u0430\\u0442\", \"\\u0441\\u0438\\u0434\\u0435\\u0442\\u044c\", \"\\u0441\\u0438\\u0442\\u0443\\u0430\\u0446\\u0438\\u044f\", \"\\u0441\\u0438\\u0442\\u0443\\u0430\\u0446\\u0438\\u044f\", \"\\u0441\\u0438\\u0442\\u0443\\u0430\\u0446\\u0438\\u044f\", \"\\u0441\\u043a\\u0430\\u0437\\u0430\\u0442\\u044c\", \"\\u0441\\u043a\\u0430\\u0437\\u0430\\u0442\\u044c\", \"\\u0441\\u043a\\u0430\\u0437\\u0430\\u0442\\u044c\", \"\\u0441\\u043a\\u0430\\u0437\\u0430\\u0442\\u044c\", \"\\u0441\\u043b\\u043e\\u0436\\u043d\\u044b\\u0439\", \"\\u0441\\u043c\\u0441\", \"\\u0441\\u043c\\u0441\", \"\\u0441\\u043c\\u0441\", \"\\u0441\\u043c\\u0441\", \"\\u0441\\u043c\\u0441\", \"\\u0441\\u043d\\u0438\\u0437\\u0438\\u0442\\u044c\", \"\\u0441\\u043d\\u044f\\u0442\\u044c\", \"\\u0441\\u043d\\u044f\\u0442\\u044c\", \"\\u0441\\u043d\\u044f\\u0442\\u044c\", \"\\u0441\\u043d\\u044f\\u0442\\u044c\", \"\\u0441\\u043e\\u0431\\u0441\\u0442\\u0432\\u0435\\u043d\\u043d\\u044b\\u0439\", \"\\u0441\\u043e\\u0433\\u043b\\u0430\\u0441\\u0438\\u0435\", \"\\u0441\\u043e\\u043e\\u0431\\u0449\\u0435\\u043d\\u0438\\u0435\", \"\\u0441\\u043e\\u043e\\u0431\\u0449\\u0435\\u043d\\u0438\\u0435\", \"\\u0441\\u043e\\u043e\\u0431\\u0449\\u0438\\u0442\\u044c\", \"\\u0441\\u043e\\u043e\\u0431\\u0449\\u0438\\u0442\\u044c\", \"\\u0441\\u043e\\u0442\\u0440\\u0443\\u0434\\u043d\\u0438\\u043a\", \"\\u0441\\u043e\\u0442\\u0440\\u0443\\u0434\\u043d\\u0438\\u043a\", \"\\u0441\\u043e\\u0442\\u0440\\u0443\\u0434\\u043d\\u0438\\u043a\", \"\\u0441\\u043e\\u0442\\u0440\\u0443\\u0434\\u043d\\u0438\\u043a\", \"\\u0441\\u043e\\u0442\\u0440\\u0443\\u0434\\u043d\\u0438\\u0446\\u0430\", \"\\u0441\\u043f\\u0435\\u0446\\u0438\\u0430\\u043b\\u0438\\u0441\\u0442\", \"\\u0441\\u043f\\u0435\\u0446\\u0438\\u0430\\u043b\\u0438\\u0441\\u0442\", \"\\u0441\\u043f\\u0435\\u0446\\u0438\\u0430\\u043b\\u0438\\u0441\\u0442\", \"\\u0441\\u043f\\u0435\\u0446\\u0438\\u0430\\u043b\\u0438\\u0441\\u0442\", \"\\u0441\\u043f\\u0438\\u0441\\u0430\\u043d\\u0438\\u0435\", \"\\u0441\\u043f\\u0438\\u0441\\u0430\\u043d\\u0438\\u0435\", \"\\u0441\\u043f\\u0438\\u0441\\u0430\\u043d\\u0438\\u0435\", \"\\u0441\\u043f\\u0438\\u0441\\u0430\\u0442\\u044c\", \"\\u0441\\u043f\\u0438\\u0441\\u0430\\u0442\\u044c\", \"\\u0441\\u043f\\u0438\\u0441\\u044b\\u0432\\u0430\\u0442\\u044c\", \"\\u0441\\u043f\\u0440\\u0430\\u0448\\u0438\\u0432\\u0430\\u0442\\u044c\", \"\\u0441\\u043f\\u0440\\u043e\\u0441\\u0438\\u0442\\u044c\", \"\\u0441\\u0440\\u0435\\u0434\\u0441\\u0442\\u0432\\u043e\", \"\\u0441\\u0440\\u0435\\u0434\\u0441\\u0442\\u0432\\u043e\", \"\\u0441\\u0440\\u043e\\u043a\", \"\\u0441\\u0440\\u043e\\u043a\", \"\\u0441\\u0440\\u043e\\u043a\", \"\\u0441\\u0440\\u043e\\u0447\\u043d\\u043e\", \"\\u0441\\u0442\\u0430\\u0432\\u0438\\u0442\\u044c\", \"\\u0441\\u0442\\u0430\\u0432\\u043a\\u0430\", \"\\u0441\\u0442\\u0430\\u0432\\u043a\\u0430\", \"\\u0441\\u0442\\u0430\\u0440\\u043e\\u0435\", \"\\u0441\\u0442\\u0430\\u0440\\u0448\\u0438\\u0439\", \"\\u0441\\u0442\\u0430\\u0440\\u044b\\u0439\", \"\\u0441\\u0442\\u043e\\u0438\\u0442\\u044c\", \"\\u0441\\u0442\\u043e\\u0438\\u0442\\u044c\", \"\\u0441\\u0442\\u043e\\u0438\\u0442\\u044c\", \"\\u0441\\u0442\\u043e\\u043b\", \"\\u0441\\u0442\\u043e\\u043b\", \"\\u0441\\u0442\\u043e\\u044f\\u0442\\u044c\", \"\\u0441\\u0442\\u0440\\u0430\\u0445\\u043e\\u0432\\u0430\\u043d\\u0438\\u0435\", \"\\u0441\\u0442\\u0440\\u0430\\u0445\\u043e\\u0432\\u0430\\u043d\\u0438\\u0435_\\u0436\\u0438\\u0437\\u043d\\u044c\", \"\\u0441\\u0442\\u0440\\u0430\\u0445\\u043e\\u0432\\u043a\\u0430\", \"\\u0441\\u0442\\u0440\\u0430\\u0445\\u043e\\u0432\\u043e\\u0439\", \"\\u0441\\u0443\\u0434\", \"\\u0441\\u0443\\u0434\\u0435\\u0431\\u043d\\u044b\\u0439\", \"\\u0441\\u0443\\u043c\\u043c\\u0430\", \"\\u0441\\u0443\\u043c\\u043c\\u0430\", \"\\u0441\\u0443\\u043c\\u043c\\u0430\", \"\\u0441\\u0443\\u043c\\u043c\\u0430\", \"\\u0441\\u0445\\u043e\\u0434\\u0438\\u0442\\u044c\", \"\\u0441\\u0447\\u0430\\u0441\\u0442\\u0438\\u0435\", \"\\u0441\\u0447\\u0451\\u0442\", \"\\u0441\\u0447\\u0451\\u0442\", \"\\u0441\\u0447\\u0451\\u0442\", \"\\u0441\\u0447\\u0451\\u0442\", \"\\u0442\\u0430\\u043b\\u043e\\u043d\", \"\\u0442\\u0435\\u043b\\u0435\\u0444\\u043e\\u043d\", \"\\u0442\\u0435\\u043b\\u0435\\u0444\\u043e\\u043d\", \"\\u0442\\u0435\\u043b\\u0435\\u0444\\u043e\\u043d\", \"\\u0442\\u0435\\u043b\\u0435\\u0444\\u043e\\u043d\", \"\\u0442\\u0435\\u043b\\u0435\\u0444\\u043e\\u043d\", \"\\u0442\\u0435\\u043b\\u0435\\u0444\\u043e\\u043d\", \"\\u0442\\u0435\\u043b\\u0435\\u0444\\u043e\\u043d\\u043d\\u044b\\u0439\", \"\\u0442\\u0435\\u0440\\u043c\\u0438\\u043d\\u0430\\u043b\", \"\\u0442\\u0435\\u0440\\u043c\\u0438\\u043d\\u0430\\u043b\", \"\\u0442\\u0435\\u0445\\u043d\\u0438\\u0447\\u0435\\u0441\\u043a\\u0438\\u0439\", \"\\u0442\\u0435\\u0445\\u043d\\u0438\\u0447\\u0435\\u0441\\u043a\\u0438\\u0439_\\u0441\\u0431\\u043e\\u0439\", \"\\u0442\\u0435\\u0447\\u0435\\u043d\\u0438\\u0435\", \"\\u0442\\u0440\\u0435\\u0431\\u043e\\u0432\\u0430\\u043d\\u0438\\u0435\", \"\\u0442\\u0440\\u0443\\u0431\\u043a\\u0430\", \"\\u0442\\u0443\\u0434\\u0430\", \"\\u0442\\u0443\\u0434\\u0430\", \"\\u0443\\u0434\\u043e\\u0431\\u043d\\u043e\", \"\\u0443\\u0434\\u043e\\u0431\\u043d\\u043e\", \"\\u0443\\u0439\\u0442\\u0438\", \"\\u0443\\u0439\\u0442\\u0438\", \"\\u0443\\u043a\\u0430\\u0437\\u0430\\u043d\\u043d\\u044b\\u0439\", \"\\u0443\\u043a\\u0430\\u0437\\u0430\\u0442\\u044c\", \"\\u0443\\u043a\\u0440\\u0430\\u0441\\u0442\\u044c\", \"\\u0443\\u043b\\u0438\\u0446\\u0430\", \"\\u0443\\u043b\\u0438\\u0446\\u0430\", \"\\u0443\\u043b\\u0438\\u0446\\u0430\", \"\\u0443\\u043c\\u0435\\u0442\\u044c\", \"\\u0443\\u0441\\u043b\\u043e\\u0432\\u0438\\u0435\", \"\\u0443\\u0441\\u043b\\u043e\\u0432\\u0438\\u0435\", \"\\u0443\\u0441\\u043b\\u043e\\u0432\\u0438\\u0435\", \"\\u0443\\u0441\\u043b\\u043e\\u0432\\u0438\\u0435\", \"\\u0443\\u0441\\u043b\\u0443\\u0433\\u0430\", \"\\u0443\\u0441\\u043b\\u0443\\u0433\\u0430\", \"\\u0443\\u0441\\u043b\\u0443\\u0433\\u0430\", \"\\u0443\\u0441\\u043b\\u0443\\u0433\\u0430\", \"\\u0443\\u0441\\u043b\\u0443\\u0433\\u0430\", \"\\u0443\\u0441\\u0442\\u0430\\u043d\\u043e\\u0432\\u0438\\u0442\\u044c\", \"\\u0443\\u0442\\u0432\\u0435\\u0440\\u0436\\u0434\\u0430\\u0442\\u044c\", \"\\u0443\\u0442\\u0435\\u0440\\u044f\\u0442\\u044c\", \"\\u0443\\u0442\\u0440\\u043e\", \"\\u0443\\u0442\\u0440\\u043e\", \"\\u0444\\u0430\\u043c\\u0438\\u043b\\u0438\\u044f\", \"\\u0444\\u0438\\u043b\\u0438\\u0430\\u043b\", \"\\u0444\\u0438\\u043b\\u0438\\u0430\\u043b\", \"\\u0444\\u0438\\u043b\\u0438\\u0430\\u043b\", \"\\u0445\\u0430\\u043c\\u0441\\u043a\\u0438\\u0439_\\u043e\\u0442\\u043d\\u043e\\u0448\\u0435\\u043d\\u0438\\u0435\", \"\\u0445\\u043e\\u0434\\u0438\\u0442\\u044c\", \"\\u0445\\u043e\\u0440\\u043e\\u0448\\u0438\\u0439\", \"\\u0445\\u043e\\u0440\\u043e\\u0448\\u0438\\u0439\", \"\\u0445\\u043e\\u0440\\u043e\\u0448\\u0438\\u0439\", \"\\u0445\\u043e\\u0440\\u043e\\u0448\\u0438\\u0439\", \"\\u0445\\u043e\\u0442\\u0435\\u0442\\u044c\", \"\\u0445\\u043e\\u0442\\u0435\\u0442\\u044c\", \"\\u0445\\u043e\\u0442\\u0435\\u0442\\u044c\", \"\\u0445\\u043e\\u0442\\u0435\\u0442\\u044c\", \"\\u0445\\u043e\\u0442\\u0435\\u0442\\u044c\", \"\\u0445\\u043e\\u0442\\u0435\\u0442\\u044c\\u0441\\u044f\", \"\\u0445\\u043e\\u0442\\u0435\\u0442\\u044c\\u0441\\u044f\", \"\\u0445\\u043e\\u0442\\u0435\\u0442\\u044c\\u0441\\u044f\", \"\\u0446\\u0435\\u043d\\u0442\\u0440\", \"\\u0446\\u0435\\u043d\\u0442\\u0440\\u0430\\u043b\\u044c\\u043d\\u044b\\u0439\", \"\\u0447\\u0430\\u0441\", \"\\u0447\\u0430\\u0441\", \"\\u0447\\u0430\\u0441\", \"\\u0447\\u0430\\u0441\\u0442\\u043e\", \"\\u0447\\u0435\\u043a\", \"\\u0447\\u0435\\u043b\\u043e\\u0432\\u0435\\u043a\", \"\\u0447\\u0435\\u043b\\u043e\\u0432\\u0435\\u043a\", \"\\u0447\\u0435\\u043b\\u043e\\u0432\\u0435\\u043a\", \"\\u0447\\u0438\\u0442\\u0430\\u0442\\u044c\", \"\\u0447\\u0438\\u0442\\u0430\\u0442\\u044c\", \"\\u044d\\u043a\\u0440\\u0430\\u043d\", \"\\u044e\\u0440\\u0438\\u0441\\u0442\", \"\\u044f\\u043d\\u0432\\u0430\\u0440\\u044c\", \"\\u044f\\u043d\\u0432\\u0430\\u0440\\u044c\", \"\\u044f\\u043d\\u0432\\u0430\\u0440\\u044c\"]}, \"R\": 30, \"lambda.step\": 0.01, \"plot.opts\": {\"xlab\": \"PC1\", \"ylab\": \"PC2\"}, \"topic.order\": [1, 2, 3, 4, 5, 6, 7, 8]};\n",
              "\n",
              "function LDAvis_load_lib(url, callback){\n",
              "  var s = document.createElement('script');\n",
              "  s.src = url;\n",
              "  s.async = true;\n",
              "  s.onreadystatechange = s.onload = callback;\n",
              "  s.onerror = function(){console.warn(\"failed to load library \" + url);};\n",
              "  document.getElementsByTagName(\"head\")[0].appendChild(s);\n",
              "}\n",
              "\n",
              "if(typeof(LDAvis) !== \"undefined\"){\n",
              "   // already loaded: just create the visualization\n",
              "   !function(LDAvis){\n",
              "       new LDAvis(\"#\" + \"ldavis_el828291404032662393927212920113\", ldavis_el828291404032662393927212920113_data);\n",
              "   }(LDAvis);\n",
              "}else if(typeof define === \"function\" && define.amd){\n",
              "   // require.js is available: use it to load d3/LDAvis\n",
              "   require.config({paths: {d3: \"https://d3js.org/d3.v5\"}});\n",
              "   require([\"d3\"], function(d3){\n",
              "      window.d3 = d3;\n",
              "      LDAvis_load_lib(\"https://cdn.jsdelivr.net/gh/bmabey/pyLDAvis@3.4.0/pyLDAvis/js/ldavis.v3.0.0.js\", function(){\n",
              "        new LDAvis(\"#\" + \"ldavis_el828291404032662393927212920113\", ldavis_el828291404032662393927212920113_data);\n",
              "      });\n",
              "    });\n",
              "}else{\n",
              "    // require.js not available: dynamically load d3 & LDAvis\n",
              "    LDAvis_load_lib(\"https://d3js.org/d3.v5.js\", function(){\n",
              "         LDAvis_load_lib(\"https://cdn.jsdelivr.net/gh/bmabey/pyLDAvis@3.4.0/pyLDAvis/js/ldavis.v3.0.0.js\", function(){\n",
              "                 new LDAvis(\"#\" + \"ldavis_el828291404032662393927212920113\", ldavis_el828291404032662393927212920113_data);\n",
              "            })\n",
              "         });\n",
              "}\n",
              "</script>"
            ],
            "text/plain": [
              "PreparedData(topic_coordinates=              x         y  topics  cluster       Freq\n",
              "topic                                                \n",
              "0      0.059729 -0.229695       1        1   8.385230\n",
              "1     -0.264437  0.040523       2        1  31.957212\n",
              "2      0.029526 -0.166527       3        1   6.677005\n",
              "3      0.224626 -0.018364       4        1   2.956140\n",
              "4     -0.010080  0.210254       5        1   9.780726\n",
              "5     -0.259299 -0.035129       6        1  26.703979\n",
              "6      0.139937  0.176397       7        1   5.844038\n",
              "7      0.079998  0.022540       8        1   7.695670, topic_info=            Term         Freq        Total Category  logprob  loglift\n",
              "21         карта  3332.000000  3332.000000  Default  30.0000  30.0000\n",
              "10        деньга  2298.000000  2298.000000  Default  29.0000  29.0000\n",
              "420       кредит  1285.000000  1285.000000  Default  28.0000  28.0000\n",
              "201         счёт  1323.000000  1323.000000  Default  27.0000  27.0000\n",
              "210     банкомат   605.000000   605.000000  Default  26.0000  26.0000\n",
              "...          ...          ...          ...      ...      ...      ...\n",
              "0           банк   279.329147  4132.997524   Topic8  -4.0362  -0.1299\n",
              "446       платёж   114.207167   545.433913   Topic8  -4.9306   1.0009\n",
              "275     оформить    90.746984   390.221982   Topic8  -5.1605   1.1059\n",
              "1578  зарплатный    68.148057   132.334484   Topic8  -5.4469   1.9009\n",
              "1764       отказ    66.042981   191.656767   Topic8  -5.4783   1.4991\n",
              "\n",
              "[472 rows x 6 columns], token_table=      Topic      Freq        Term\n",
              "term                             \n",
              "767       5  0.967756  автоплатёж\n",
              "2771      1  0.989897       акция\n",
              "1537      8  0.984689      апрель\n",
              "1162      5  0.972353       арест\n",
              "50        5  0.970119      баланс\n",
              "...     ...       ...         ...\n",
              "2342      7  0.954439       экран\n",
              "2770      1  0.970800       юрист\n",
              "1098      5  0.195926      январь\n",
              "1098      7  0.195926      январь\n",
              "1098      8  0.601772      январь\n",
              "\n",
              "[708 rows x 3 columns], R=30, lambda_step=0.01, plot_opts={'xlab': 'PC1', 'ylab': 'PC2'}, topic_order=[1, 2, 3, 4, 5, 6, 7, 8])"
            ]
          },
          "execution_count": 41,
          "metadata": {},
          "output_type": "execute_result"
        }
      ],
      "source": [
        "# визуализация тем\n",
        "pyLDAvis.enable_notebook()\n",
        "vis = pyLDAvis.gensim_models.prepare(lda_model, corpus, id2word, sort_topics=False)\n",
        "vis"
      ]
    },
    {
      "attachments": {},
      "cell_type": "markdown",
      "metadata": {
        "id": "yPfLHPWFS8CK"
      },
      "source": [
        "---"
      ]
    },
    {
      "attachments": {},
      "cell_type": "markdown",
      "metadata": {
        "id": "ORLTIQyAS9GR"
      },
      "source": [
        "### Проверка зависимости Score от темы отзыва"
      ]
    },
    {
      "attachments": {},
      "cell_type": "markdown",
      "metadata": {
        "id": "hgHx7ixTTGSS"
      },
      "source": [
        "Сначала создадим новый датасет с двумя колонками: score и topic."
      ]
    },
    {
      "cell_type": "code",
      "execution_count": null,
      "metadata": {
        "id": "EtR0Ft0MOL4a"
      },
      "outputs": [],
      "source": [
        "topic_score = df[df['bank_name']=='сбербанк'][['score']].copy()"
      ]
    },
    {
      "cell_type": "code",
      "execution_count": null,
      "metadata": {
        "id": "FXO2-uDmOL9l"
      },
      "outputs": [],
      "source": [
        "amount_of_review = df[df['bank_name']=='сбербанк'].shape[0]"
      ]
    },
    {
      "cell_type": "code",
      "execution_count": null,
      "metadata": {
        "id": "3dqs6caxJvQL"
      },
      "outputs": [],
      "source": [
        "topics = []\n",
        "for review_n in range(amount_of_review):\n",
        "    review = lda_model.get_document_topics(corpus[review_n])\n",
        "    topic, _ = max(review, key=lambda x:x[1]) # для каждого отзыва берем тему с наибольшей вероятностью\n",
        "    topics.append(topic)"
      ]
    },
    {
      "cell_type": "code",
      "execution_count": null,
      "metadata": {
        "id": "G6NC4HsuPekb"
      },
      "outputs": [],
      "source": [
        "topic_score['topic'] = topics"
      ]
    },
    {
      "cell_type": "code",
      "execution_count": null,
      "metadata": {
        "id": "4hjiUgApPpXq"
      },
      "outputs": [],
      "source": [
        "topic_score = topic_score.replace('Без оценки', np.nan)\n",
        "topic_score.dropna(inplace=True) # избавляемся от NaN"
      ]
    },
    {
      "cell_type": "code",
      "execution_count": null,
      "metadata": {
        "colab": {
          "base_uri": "https://localhost:8080/",
          "height": 206
        },
        "id": "7SdZcOL0QEu-",
        "outputId": "7ef4ac74-5cbc-4719-f966-39d95ec1d061"
      },
      "outputs": [
        {
          "data": {
            "text/html": [
              "\n",
              "  <div id=\"df-c8b73e8a-e82c-410e-8b98-48bdadd35db0\">\n",
              "    <div class=\"colab-df-container\">\n",
              "      <div>\n",
              "<style scoped>\n",
              "    .dataframe tbody tr th:only-of-type {\n",
              "        vertical-align: middle;\n",
              "    }\n",
              "\n",
              "    .dataframe tbody tr th {\n",
              "        vertical-align: top;\n",
              "    }\n",
              "\n",
              "    .dataframe thead th {\n",
              "        text-align: right;\n",
              "    }\n",
              "</style>\n",
              "<table border=\"1\" class=\"dataframe\">\n",
              "  <thead>\n",
              "    <tr style=\"text-align: right;\">\n",
              "      <th></th>\n",
              "      <th>score</th>\n",
              "      <th>topic</th>\n",
              "    </tr>\n",
              "  </thead>\n",
              "  <tbody>\n",
              "    <tr>\n",
              "      <th>10116</th>\n",
              "      <td>1</td>\n",
              "      <td>7</td>\n",
              "    </tr>\n",
              "    <tr>\n",
              "      <th>10117</th>\n",
              "      <td>1</td>\n",
              "      <td>1</td>\n",
              "    </tr>\n",
              "    <tr>\n",
              "      <th>10118</th>\n",
              "      <td>5</td>\n",
              "      <td>0</td>\n",
              "    </tr>\n",
              "    <tr>\n",
              "      <th>10119</th>\n",
              "      <td>1</td>\n",
              "      <td>1</td>\n",
              "    </tr>\n",
              "    <tr>\n",
              "      <th>10120</th>\n",
              "      <td>1</td>\n",
              "      <td>1</td>\n",
              "    </tr>\n",
              "  </tbody>\n",
              "</table>\n",
              "</div>\n",
              "      <button class=\"colab-df-convert\" onclick=\"convertToInteractive('df-c8b73e8a-e82c-410e-8b98-48bdadd35db0')\"\n",
              "              title=\"Convert this dataframe to an interactive table.\"\n",
              "              style=\"display:none;\">\n",
              "        \n",
              "  <svg xmlns=\"http://www.w3.org/2000/svg\" height=\"24px\"viewBox=\"0 0 24 24\"\n",
              "       width=\"24px\">\n",
              "    <path d=\"M0 0h24v24H0V0z\" fill=\"none\"/>\n",
              "    <path d=\"M18.56 5.44l.94 2.06.94-2.06 2.06-.94-2.06-.94-.94-2.06-.94 2.06-2.06.94zm-11 1L8.5 8.5l.94-2.06 2.06-.94-2.06-.94L8.5 2.5l-.94 2.06-2.06.94zm10 10l.94 2.06.94-2.06 2.06-.94-2.06-.94-.94-2.06-.94 2.06-2.06.94z\"/><path d=\"M17.41 7.96l-1.37-1.37c-.4-.4-.92-.59-1.43-.59-.52 0-1.04.2-1.43.59L10.3 9.45l-7.72 7.72c-.78.78-.78 2.05 0 2.83L4 21.41c.39.39.9.59 1.41.59.51 0 1.02-.2 1.41-.59l7.78-7.78 2.81-2.81c.8-.78.8-2.07 0-2.86zM5.41 20L4 18.59l7.72-7.72 1.47 1.35L5.41 20z\"/>\n",
              "  </svg>\n",
              "      </button>\n",
              "      \n",
              "  <style>\n",
              "    .colab-df-container {\n",
              "      display:flex;\n",
              "      flex-wrap:wrap;\n",
              "      gap: 12px;\n",
              "    }\n",
              "\n",
              "    .colab-df-convert {\n",
              "      background-color: #E8F0FE;\n",
              "      border: none;\n",
              "      border-radius: 50%;\n",
              "      cursor: pointer;\n",
              "      display: none;\n",
              "      fill: #1967D2;\n",
              "      height: 32px;\n",
              "      padding: 0 0 0 0;\n",
              "      width: 32px;\n",
              "    }\n",
              "\n",
              "    .colab-df-convert:hover {\n",
              "      background-color: #E2EBFA;\n",
              "      box-shadow: 0px 1px 2px rgba(60, 64, 67, 0.3), 0px 1px 3px 1px rgba(60, 64, 67, 0.15);\n",
              "      fill: #174EA6;\n",
              "    }\n",
              "\n",
              "    [theme=dark] .colab-df-convert {\n",
              "      background-color: #3B4455;\n",
              "      fill: #D2E3FC;\n",
              "    }\n",
              "\n",
              "    [theme=dark] .colab-df-convert:hover {\n",
              "      background-color: #434B5C;\n",
              "      box-shadow: 0px 1px 3px 1px rgba(0, 0, 0, 0.15);\n",
              "      filter: drop-shadow(0px 1px 2px rgba(0, 0, 0, 0.3));\n",
              "      fill: #FFFFFF;\n",
              "    }\n",
              "  </style>\n",
              "\n",
              "      <script>\n",
              "        const buttonEl =\n",
              "          document.querySelector('#df-c8b73e8a-e82c-410e-8b98-48bdadd35db0 button.colab-df-convert');\n",
              "        buttonEl.style.display =\n",
              "          google.colab.kernel.accessAllowed ? 'block' : 'none';\n",
              "\n",
              "        async function convertToInteractive(key) {\n",
              "          const element = document.querySelector('#df-c8b73e8a-e82c-410e-8b98-48bdadd35db0');\n",
              "          const dataTable =\n",
              "            await google.colab.kernel.invokeFunction('convertToInteractive',\n",
              "                                                     [key], {});\n",
              "          if (!dataTable) return;\n",
              "\n",
              "          const docLinkHtml = 'Like what you see? Visit the ' +\n",
              "            '<a target=\"_blank\" href=https://colab.research.google.com/notebooks/data_table.ipynb>data table notebook</a>'\n",
              "            + ' to learn more about interactive tables.';\n",
              "          element.innerHTML = '';\n",
              "          dataTable['output_type'] = 'display_data';\n",
              "          await google.colab.output.renderOutput(dataTable, element);\n",
              "          const docLink = document.createElement('div');\n",
              "          docLink.innerHTML = docLinkHtml;\n",
              "          element.appendChild(docLink);\n",
              "        }\n",
              "      </script>\n",
              "    </div>\n",
              "  </div>\n",
              "  "
            ],
            "text/plain": [
              "      score  topic\n",
              "10116     1      7\n",
              "10117     1      1\n",
              "10118     5      0\n",
              "10119     1      1\n",
              "10120     1      1"
            ]
          },
          "execution_count": 47,
          "metadata": {},
          "output_type": "execute_result"
        }
      ],
      "source": [
        "topic_score.head(5)"
      ]
    },
    {
      "attachments": {},
      "cell_type": "markdown",
      "metadata": {
        "id": "6yW_Nyn0TkFB"
      },
      "source": [
        "Далее, применим критерий Хи-квадрат для проверки зависимости двух величин"
      ]
    },
    {
      "cell_type": "code",
      "execution_count": null,
      "metadata": {
        "id": "gqsi0egyRkh7"
      },
      "outputs": [],
      "source": [
        "contingency_tb = pd.crosstab(topic_score['topic'], topic_score['score']) # таблица частот"
      ]
    },
    {
      "cell_type": "code",
      "execution_count": null,
      "metadata": {
        "colab": {
          "base_uri": "https://localhost:8080/",
          "height": 331
        },
        "id": "MTQOIiA2SWod",
        "outputId": "dd383f34-32f8-4112-ae08-b3fdb9304bdd"
      },
      "outputs": [
        {
          "data": {
            "text/html": [
              "\n",
              "  <div id=\"df-9d7e789c-eccc-4445-a4a7-2892086653d9\">\n",
              "    <div class=\"colab-df-container\">\n",
              "      <div>\n",
              "<style scoped>\n",
              "    .dataframe tbody tr th:only-of-type {\n",
              "        vertical-align: middle;\n",
              "    }\n",
              "\n",
              "    .dataframe tbody tr th {\n",
              "        vertical-align: top;\n",
              "    }\n",
              "\n",
              "    .dataframe thead th {\n",
              "        text-align: right;\n",
              "    }\n",
              "</style>\n",
              "<table border=\"1\" class=\"dataframe\">\n",
              "  <thead>\n",
              "    <tr style=\"text-align: right;\">\n",
              "      <th>score</th>\n",
              "      <th>1</th>\n",
              "      <th>2</th>\n",
              "      <th>3</th>\n",
              "      <th>4</th>\n",
              "      <th>5</th>\n",
              "    </tr>\n",
              "    <tr>\n",
              "      <th>topic</th>\n",
              "      <th></th>\n",
              "      <th></th>\n",
              "      <th></th>\n",
              "      <th></th>\n",
              "      <th></th>\n",
              "    </tr>\n",
              "  </thead>\n",
              "  <tbody>\n",
              "    <tr>\n",
              "      <th>0</th>\n",
              "      <td>33</td>\n",
              "      <td>7</td>\n",
              "      <td>4</td>\n",
              "      <td>1</td>\n",
              "      <td>134</td>\n",
              "    </tr>\n",
              "    <tr>\n",
              "      <th>1</th>\n",
              "      <td>552</td>\n",
              "      <td>82</td>\n",
              "      <td>19</td>\n",
              "      <td>7</td>\n",
              "      <td>27</td>\n",
              "    </tr>\n",
              "    <tr>\n",
              "      <th>2</th>\n",
              "      <td>31</td>\n",
              "      <td>4</td>\n",
              "      <td>2</td>\n",
              "      <td>1</td>\n",
              "      <td>45</td>\n",
              "    </tr>\n",
              "    <tr>\n",
              "      <th>3</th>\n",
              "      <td>8</td>\n",
              "      <td>2</td>\n",
              "      <td>0</td>\n",
              "      <td>2</td>\n",
              "      <td>4</td>\n",
              "    </tr>\n",
              "    <tr>\n",
              "      <th>4</th>\n",
              "      <td>70</td>\n",
              "      <td>7</td>\n",
              "      <td>6</td>\n",
              "      <td>0</td>\n",
              "      <td>1</td>\n",
              "    </tr>\n",
              "    <tr>\n",
              "      <th>5</th>\n",
              "      <td>414</td>\n",
              "      <td>67</td>\n",
              "      <td>25</td>\n",
              "      <td>12</td>\n",
              "      <td>80</td>\n",
              "    </tr>\n",
              "    <tr>\n",
              "      <th>6</th>\n",
              "      <td>49</td>\n",
              "      <td>5</td>\n",
              "      <td>4</td>\n",
              "      <td>1</td>\n",
              "      <td>3</td>\n",
              "    </tr>\n",
              "    <tr>\n",
              "      <th>7</th>\n",
              "      <td>60</td>\n",
              "      <td>11</td>\n",
              "      <td>6</td>\n",
              "      <td>0</td>\n",
              "      <td>5</td>\n",
              "    </tr>\n",
              "  </tbody>\n",
              "</table>\n",
              "</div>\n",
              "      <button class=\"colab-df-convert\" onclick=\"convertToInteractive('df-9d7e789c-eccc-4445-a4a7-2892086653d9')\"\n",
              "              title=\"Convert this dataframe to an interactive table.\"\n",
              "              style=\"display:none;\">\n",
              "        \n",
              "  <svg xmlns=\"http://www.w3.org/2000/svg\" height=\"24px\"viewBox=\"0 0 24 24\"\n",
              "       width=\"24px\">\n",
              "    <path d=\"M0 0h24v24H0V0z\" fill=\"none\"/>\n",
              "    <path d=\"M18.56 5.44l.94 2.06.94-2.06 2.06-.94-2.06-.94-.94-2.06-.94 2.06-2.06.94zm-11 1L8.5 8.5l.94-2.06 2.06-.94-2.06-.94L8.5 2.5l-.94 2.06-2.06.94zm10 10l.94 2.06.94-2.06 2.06-.94-2.06-.94-.94-2.06-.94 2.06-2.06.94z\"/><path d=\"M17.41 7.96l-1.37-1.37c-.4-.4-.92-.59-1.43-.59-.52 0-1.04.2-1.43.59L10.3 9.45l-7.72 7.72c-.78.78-.78 2.05 0 2.83L4 21.41c.39.39.9.59 1.41.59.51 0 1.02-.2 1.41-.59l7.78-7.78 2.81-2.81c.8-.78.8-2.07 0-2.86zM5.41 20L4 18.59l7.72-7.72 1.47 1.35L5.41 20z\"/>\n",
              "  </svg>\n",
              "      </button>\n",
              "      \n",
              "  <style>\n",
              "    .colab-df-container {\n",
              "      display:flex;\n",
              "      flex-wrap:wrap;\n",
              "      gap: 12px;\n",
              "    }\n",
              "\n",
              "    .colab-df-convert {\n",
              "      background-color: #E8F0FE;\n",
              "      border: none;\n",
              "      border-radius: 50%;\n",
              "      cursor: pointer;\n",
              "      display: none;\n",
              "      fill: #1967D2;\n",
              "      height: 32px;\n",
              "      padding: 0 0 0 0;\n",
              "      width: 32px;\n",
              "    }\n",
              "\n",
              "    .colab-df-convert:hover {\n",
              "      background-color: #E2EBFA;\n",
              "      box-shadow: 0px 1px 2px rgba(60, 64, 67, 0.3), 0px 1px 3px 1px rgba(60, 64, 67, 0.15);\n",
              "      fill: #174EA6;\n",
              "    }\n",
              "\n",
              "    [theme=dark] .colab-df-convert {\n",
              "      background-color: #3B4455;\n",
              "      fill: #D2E3FC;\n",
              "    }\n",
              "\n",
              "    [theme=dark] .colab-df-convert:hover {\n",
              "      background-color: #434B5C;\n",
              "      box-shadow: 0px 1px 3px 1px rgba(0, 0, 0, 0.15);\n",
              "      filter: drop-shadow(0px 1px 2px rgba(0, 0, 0, 0.3));\n",
              "      fill: #FFFFFF;\n",
              "    }\n",
              "  </style>\n",
              "\n",
              "      <script>\n",
              "        const buttonEl =\n",
              "          document.querySelector('#df-9d7e789c-eccc-4445-a4a7-2892086653d9 button.colab-df-convert');\n",
              "        buttonEl.style.display =\n",
              "          google.colab.kernel.accessAllowed ? 'block' : 'none';\n",
              "\n",
              "        async function convertToInteractive(key) {\n",
              "          const element = document.querySelector('#df-9d7e789c-eccc-4445-a4a7-2892086653d9');\n",
              "          const dataTable =\n",
              "            await google.colab.kernel.invokeFunction('convertToInteractive',\n",
              "                                                     [key], {});\n",
              "          if (!dataTable) return;\n",
              "\n",
              "          const docLinkHtml = 'Like what you see? Visit the ' +\n",
              "            '<a target=\"_blank\" href=https://colab.research.google.com/notebooks/data_table.ipynb>data table notebook</a>'\n",
              "            + ' to learn more about interactive tables.';\n",
              "          element.innerHTML = '';\n",
              "          dataTable['output_type'] = 'display_data';\n",
              "          await google.colab.output.renderOutput(dataTable, element);\n",
              "          const docLink = document.createElement('div');\n",
              "          docLink.innerHTML = docLinkHtml;\n",
              "          element.appendChild(docLink);\n",
              "        }\n",
              "      </script>\n",
              "    </div>\n",
              "  </div>\n",
              "  "
            ],
            "text/plain": [
              "score    1   2   3   4    5\n",
              "topic                      \n",
              "0       33   7   4   1  134\n",
              "1      552  82  19   7   27\n",
              "2       31   4   2   1   45\n",
              "3        8   2   0   2    4\n",
              "4       70   7   6   0    1\n",
              "5      414  67  25  12   80\n",
              "6       49   5   4   1    3\n",
              "7       60  11   6   0    5"
            ]
          },
          "execution_count": 49,
          "metadata": {},
          "output_type": "execute_result"
        }
      ],
      "source": [
        "contingency_tb"
      ]
    },
    {
      "cell_type": "code",
      "execution_count": null,
      "metadata": {
        "id": "bQnARY1BR1sm"
      },
      "outputs": [],
      "source": [
        "import scipy"
      ]
    },
    {
      "attachments": {},
      "cell_type": "markdown",
      "metadata": {
        "id": "oYas0rawX5z6"
      },
      "source": [
        "Нулевая гипотеза: score и topic независимы друг от друга\n",
        "\n",
        "$\\alpha$ = 0.05"
      ]
    },
    {
      "cell_type": "code",
      "execution_count": null,
      "metadata": {
        "id": "s5RmnivRRyvi"
      },
      "outputs": [],
      "source": [
        "chi2_stat, p, dof, expected = scipy.stats.chi2_contingency(contingency_tb) # рассчитываем chi2"
      ]
    },
    {
      "cell_type": "code",
      "execution_count": null,
      "metadata": {
        "colab": {
          "base_uri": "https://localhost:8080/"
        },
        "id": "NKZxnn2ZSCtL",
        "outputId": "ed942e74-ee93-4916-c676-4793bcefcc53"
      },
      "outputs": [
        {
          "name": "stdout",
          "output_type": "stream",
          "text": [
            "значение chi2:     668.64\n",
            "p-value:           6.9693e-123\n",
            "степени свободы:   28\n"
          ]
        }
      ],
      "source": [
        "print(f\"значение chi2:     {chi2_stat:.5g}\")\n",
        "print(f\"p-value:           {p:.5g}\")\n",
        "print(f\"степени свободы:   {dof}\")"
      ]
    },
    {
      "attachments": {},
      "cell_type": "markdown",
      "metadata": {
        "id": "E5KE1NK-ZtNf"
      },
      "source": [
        "Полученное значение критерия превышает табличное (*16.928*). Нулевая гипотеза отклоняется. Таким образом, взаимосвязь topic и score присутствует. Из таблицы видно, что, например, отзывы про ипотеку имеют более положительный эмоциональный окрас, нежели отзывы про обращение или посещение отделения банка."
      ]
    }
  ],
  "metadata": {
    "colab": {
      "provenance": []
    },
    "kernelspec": {
      "display_name": "Python 3",
      "name": "python3"
    },
    "language_info": {
      "name": "python"
    }
  },
  "nbformat": 4,
  "nbformat_minor": 0
}
